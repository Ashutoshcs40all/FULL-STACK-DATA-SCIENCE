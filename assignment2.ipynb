{
 "cells": [
  {
   "cell_type": "markdown",
   "metadata": {},
   "source": [
    "1. WAP to accept percentage from the user and display the \n",
    "   grade according to the criteria: "
   ]
  },
  {
   "cell_type": "code",
   "execution_count": 14,
   "metadata": {},
   "outputs": [
    {
     "name": "stdout",
     "output_type": "stream",
     "text": [
      "Your Persentage is: 0\n",
      "So Your Grade is- D \n"
     ]
    }
   ],
   "source": [
    "n = int(input(\"Enter the Persentage \"))\n",
    "print(\"Your Persentage is:\",n)\n",
    "if n>90:\n",
    "    print(\" So Your Grade is- A \")\n",
    "elif n>80 and n<=90:\n",
    "    print(\"So Your Grade is- B \")\n",
    "elif n>=60 and n<=80:\n",
    "    print(\"So Your Grade is- C\")\n",
    "else:\n",
    "    print(\"So Your Grade is- D \")\n"
   ]
  },
  {
   "cell_type": "markdown",
   "metadata": {},
   "source": [
    "2. WAP to accept the cost price of a bike and display the \n",
    "   road tax to be paid according to the criteria: "
   ]
  },
  {
   "cell_type": "code",
   "execution_count": 13,
   "metadata": {},
   "outputs": [
    {
     "name": "stdout",
     "output_type": "stream",
     "text": [
      "Your Cost Price of bike is: 0\n",
      "So Your bike's Road Tax is- 5% \n"
     ]
    }
   ],
   "source": [
    "n = int(input(\"Enter the Cost Price  \"))\n",
    "print(\"Your Cost Price of bike is:\",n)\n",
    "if n>100000:\n",
    "    print(\" So Your bike's Road Tax is- 15% \")\n",
    "elif n>50000 and n<=100000:\n",
    "    print(\"So Your bike's Road Tax is- 10% \")\n",
    "elif n<=50000:\n",
    "    print(\"So Your bike's Road Tax is- 5% \")\n"
   ]
  },
  {
   "cell_type": "markdown",
   "metadata": {},
   "source": [
    "3. Accept any city from the user and display monuments of that \n",
    "   city."
   ]
  },
  {
   "cell_type": "code",
   "execution_count": 12,
   "metadata": {},
   "outputs": [
    {
     "name": "stdout",
     "output_type": "stream",
     "text": [
      "Your city name is Delhi\n",
      "This city monument is: RED FORT\n"
     ]
    }
   ],
   "source": [
    "s=input(\"Enter the city name\")\n",
    "print(\"Your city name is\",s)\n",
    "if s=='Delhi' or 'DELHI':\n",
    "    print(\"This city monument is: RED FORT\")\n",
    "elif s=='Agra' or 'AGRA':\n",
    "    print(\"This city monument is: TAJ MAHAL\")\n",
    "elif s=='Jaipur' or 'JAIPUR':\n",
    "    print(\"This city monument is: JAI MAHAL\")\n",
    "else:\n",
    "    print('NA')\n",
    "\n"
   ]
  },
  {
   "cell_type": "markdown",
   "metadata": {},
   "source": [
    "4. Check how many times a given number can be divided by 3\n",
    "   before it is less than or equal to 10. "
   ]
  },
  {
   "cell_type": "code",
   "execution_count": 21,
   "metadata": {},
   "outputs": [
    {
     "name": "stdout",
     "output_type": "stream",
     "text": [
      "i3 | count=1\n",
      "i6 | count=2\n",
      "i9 | count=3\n"
     ]
    }
   ],
   "source": [
    "i = 0\n",
    "count = 0\n",
    "while i<=10:\n",
    "    i+=1\n",
    "    while i%3 ==0:\n",
    "        num=i/3\n",
    "        count +=1\n",
    "        print(f\"i{i} | count={count}\")\n",
    "        break\n",
    "\n"
   ]
  },
  {
   "cell_type": "markdown",
   "metadata": {},
   "source": [
    "5. Why and when to use while Loop in Python give a detailed \n",
    "   description with examples:"
   ]
  },
  {
   "cell_type": "markdown",
   "metadata": {},
   "source": [
    "A while loop in python is used when you want to repeatedly executes a block of code\n",
    "as long as a given condition is true.\n",
    "The condition is checked before each iteration of the loop, and if it is true, the\n",
    "code inside the loop is executed. once the condition become false, the loop terminates and the \n",
    "program continues with the next statement after the loop.\n",
    "While loop are useful in situations where you don't know beforehand how many times you need to loop.\n"
   ]
  },
  {
   "cell_type": "code",
   "execution_count": 11,
   "metadata": {},
   "outputs": [
    {
     "name": "stdout",
     "output_type": "stream",
     "text": [
      "Your number/word is:  ashu\n",
      "Invalid input, Please try again.\n"
     ]
    }
   ],
   "source": [
    "## We are use a while loop to keep asking the user for input until they enter a valid number:::\n",
    "while True:\n",
    "    user_input = input(\"Enter a Number: \")\n",
    "    print(\"Your number/word is: \",user_input)\n",
    "    if user_input.isdigit():\n",
    "        user_input = int(user_input)\n",
    "        break\n",
    "    else:\n",
    "        print(\"Invalid input, Please try again.\")\n",
    "        break"
   ]
  },
  {
   "cell_type": "markdown",
   "metadata": {},
   "source": [
    "6. Use Nested while loop to print 3 different pattern."
   ]
  },
  {
   "cell_type": "code",
   "execution_count": 16,
   "metadata": {},
   "outputs": [
    {
     "name": "stdout",
     "output_type": "stream",
     "text": [
      "*\n",
      "**\n",
      "***\n",
      "****\n",
      "*****\n",
      "******\n",
      "*******\n",
      "********\n",
      "*********\n",
      "**********\n"
     ]
    }
   ],
   "source": [
    "rows = 10\n",
    "for i in range(1,rows+1):\n",
    "    j = 1\n",
    "    while j <=i:\n",
    "        print(\"*\", end=\"\")\n",
    "        j +=1\n",
    "    print(\"\")"
   ]
  },
  {
   "cell_type": "code",
   "execution_count": 17,
   "metadata": {},
   "outputs": [
    {
     "name": "stdout",
     "output_type": "stream",
     "text": [
      "**********\n",
      "*********\n",
      "********\n",
      "*******\n",
      "******\n",
      "*****\n",
      "****\n",
      "***\n",
      "**\n",
      "*\n"
     ]
    }
   ],
   "source": [
    "rows = 10\n",
    "for i in range(rows, 0, -1):\n",
    "    j = 1\n",
    "    while j <=i:\n",
    "        print(\"*\", end=\"\")\n",
    "        j +=1\n",
    "    print(\"\")"
   ]
  },
  {
   "cell_type": "code",
   "execution_count": 18,
   "metadata": {},
   "outputs": [
    {
     "name": "stdout",
     "output_type": "stream",
     "text": [
      "         *\n",
      "        ***\n",
      "       *****\n",
      "      *******\n",
      "     *********\n",
      "    ***********\n",
      "   *************\n",
      "  ***************\n",
      " *****************\n",
      "*******************\n",
      " *****************\n",
      "  ***************\n",
      "   *************\n",
      "    ***********\n",
      "     *********\n",
      "      *******\n",
      "       *****\n",
      "        ***\n",
      "         *\n"
     ]
    }
   ],
   "source": [
    "rows = 10\n",
    "for i in range(1, rows+1):\n",
    "    spaces = rows - i\n",
    "    while spaces > 0:\n",
    "        print(\" \", end=\"\")\n",
    "        spaces -=1\n",
    "    j=1\n",
    "    while j<=(2*i-1):\n",
    "        print(\"*\",end=\"\")\n",
    "        j +=1\n",
    "    print(\"\")\n",
    "for i in range(rows-1,0,-1):\n",
    "    spaces = rows-i\n",
    "    while spaces >0:\n",
    "        print(\" \", end=\"\")\n",
    "        spaces -=1\n",
    "    j=1\n",
    "    while j <= (2*i - 1):\n",
    "        print(\"*\", end=\"\")\n",
    "        j+=1\n",
    "    print(\"\")\n"
   ]
  },
  {
   "cell_type": "markdown",
   "metadata": {},
   "source": [
    "7. Reverse a while loop to display number from 10 to 1."
   ]
  },
  {
   "cell_type": "code",
   "execution_count": 12,
   "metadata": {},
   "outputs": [
    {
     "name": "stdout",
     "output_type": "stream",
     "text": [
      "10\n",
      "9\n",
      "8\n",
      "7\n",
      "6\n",
      "5\n",
      "4\n",
      "3\n",
      "2\n",
      "1\n"
     ]
    }
   ],
   "source": [
    "count = 10\n",
    "while count >=1:\n",
    "    print(count)\n",
    "    count -=1"
   ]
  },
  {
   "cell_type": "markdown",
   "metadata": {},
   "source": []
  }
 ],
 "metadata": {
  "kernelspec": {
   "display_name": "Python 3.9.10 64-bit",
   "language": "python",
   "name": "python3"
  },
  "language_info": {
   "codemirror_mode": {
    "name": "ipython",
    "version": 3
   },
   "file_extension": ".py",
   "mimetype": "text/x-python",
   "name": "python",
   "nbconvert_exporter": "python",
   "pygments_lexer": "ipython3",
   "version": "3.9.10"
  },
  "orig_nbformat": 4,
  "vscode": {
   "interpreter": {
    "hash": "68360625e4cc29d002a61fb939545e264dabbb2ea2c79c9e867abe8e0afd20fa"
   }
  }
 },
 "nbformat": 4,
 "nbformat_minor": 2
}
