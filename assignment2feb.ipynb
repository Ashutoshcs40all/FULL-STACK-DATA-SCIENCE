{
 "cells": [
  {
   "cell_type": "markdown",
   "metadata": {},
   "source": [
    "1.) Explain with an example each when to use a for loop and a while loop."
   ]
  },
  {
   "cell_type": "code",
   "execution_count": 1,
   "metadata": {},
   "outputs": [
    {
     "name": "stdout",
     "output_type": "stream",
     "text": [
      "apple\n",
      "mango\n",
      "banana\n",
      "cherry\n"
     ]
    }
   ],
   "source": [
    "## 'for' loops are used when you want to iterate over a sequence (such as a list,tuple or string) and execute the same\n",
    "#    block of code for each item in the sequence. For example:\n",
    "fruits = ['apple','mango', 'banana', 'cherry']\n",
    "for fruit in fruits:\n",
    "    print(fruit)"
   ]
  },
  {
   "cell_type": "code",
   "execution_count": 2,
   "metadata": {},
   "outputs": [
    {
     "name": "stdout",
     "output_type": "stream",
     "text": [
      "0\n",
      "1\n",
      "2\n",
      "3\n",
      "4\n"
     ]
    }
   ],
   "source": [
    "# While loop are used when you want to execute a block of code repeatedly as long as a certin condition is met. For example:\n",
    "count = 0\n",
    "while count < 5:\n",
    "    print(count)\n",
    "    count +=1"
   ]
  },
  {
   "cell_type": "markdown",
   "metadata": {},
   "source": [
    "2.) WAP to print the sum and product of the first 10 natural numbers\n",
    "    using for and while loop."
   ]
  },
  {
   "cell_type": "code",
   "execution_count": 10,
   "metadata": {},
   "outputs": [
    {
     "name": "stdout",
     "output_type": "stream",
     "text": [
      "The sum of first 10 natural number is:  55\n"
     ]
    }
   ],
   "source": [
    "# using while  loops:-\n",
    "num = int(input('Please enter the Number: '))\n",
    "\n",
    "if num<0:\n",
    "    print('Please enter Positive Number: ')\n",
    "else:\n",
    "    sum=0\n",
    "    while num>0:\n",
    "        sum +=num\n",
    "        num -= 1\n",
    "    print('The sum of first 10 natural number is: ',sum)    "
   ]
  },
  {
   "cell_type": "code",
   "execution_count": 8,
   "metadata": {},
   "outputs": [
    {
     "name": "stdout",
     "output_type": "stream",
     "text": [
      "The product of first 10 natural number is:  3628800\n"
     ]
    }
   ],
   "source": [
    "# using while  loops:-\n",
    "product = 1\n",
    "i=1\n",
    "while i<= 10:\n",
    "    product *=i\n",
    "    i +=1 \n",
    "print('The product of first 10 natural number is: ', product)"
   ]
  },
  {
   "cell_type": "code",
   "execution_count": 11,
   "metadata": {},
   "outputs": [
    {
     "name": "stdout",
     "output_type": "stream",
     "text": [
      "The product of first 10 natural number is:  3628800\n",
      "The sum of first 10 natural number is:  10\n"
     ]
    }
   ],
   "source": [
    "# using for  loops:-\n",
    "sum =0\n",
    "product = 1\n",
    "i=1\n",
    "for i in range(1,11):\n",
    "    product *=i\n",
    "    sum  +=1 \n",
    "print('The product of first 10 natural number is: ', product)\n",
    "print('The sum of first 10 natural number is: ', sum)"
   ]
  },
  {
   "cell_type": "markdown",
   "metadata": {},
   "source": [
    "3.) WAP to compute the electricity bill for a household."
   ]
  },
  {
   "cell_type": "code",
   "execution_count": 21,
   "metadata": {},
   "outputs": [
    {
     "name": "stdout",
     "output_type": "stream",
     "text": [
      "Enter the numbers of units consumed:  units 310\n",
      "Your Electricity  bill is: 2250.0 Rupees\n"
     ]
    }
   ],
   "source": [
    "units = int(input(\"Enter the numbers of units consumed: \"))\n",
    "print(\"Enter the numbers of units consumed:  units\",units)\n",
    "def electricity(units):\n",
    "    bill = 0\n",
    "    if units <= 100:\n",
    "        bill = units *4.5\n",
    "    elif units <=200:\n",
    "        bill = units*4.5 +(units-100)*6\n",
    "    elif units <=300:\n",
    "        bill = 100*4.5+100*6+(units-200)*10\n",
    "    else:\n",
    "        bill = 100*4.5+100*6+ 100*10 +(units-300)*20\n",
    "    return bill\n",
    "\n",
    "print(\"Your Electricity  bill is:\",electricity(units),\"Rupees\")\n"
   ]
  },
  {
   "cell_type": "markdown",
   "metadata": {},
   "source": [
    "4.) Create a list of numbers from 1-100. use for loop and while\n",
    "  loop to calculate the cube of each number and if the cube of that number is divisible by 4 or 5\n",
    "  then append that number in a list and print that list."
   ]
  },
  {
   "cell_type": "code",
   "execution_count": 15,
   "metadata": {},
   "outputs": [
    {
     "name": "stdout",
     "output_type": "stream",
     "text": [
      "List of cube that are divisible by 4 or 5 is : [8, 64, 125, 216, 512, 1000, 1728, 2744, 3375, 4096, 5832, 8000, 10648, 13824, 15625, 17576, 21952, 27000, 32768, 39304, 42875, 46656, 54872, 64000, 74088, 85184, 91125, 97336, 110592, 125000, 140608, 157464, 166375, 175616, 195112, 216000, 238328, 262144, 274625, 287496, 314432, 343000, 373248, 405224, 421875, 438976, 474552, 512000, 551368, 592704, 614125, 636056, 681472, 729000, 778688, 830584, 857375, 884736, 941192, 1000000]\n"
     ]
    }
   ],
   "source": [
    "l=[]\n",
    "for i in range(1,101):\n",
    "    cube = i**3\n",
    "    if cube % 4 == 0 or cube % 5 == 0:\n",
    "        l.append(cube)\n",
    "print(\"List of cube that are divisible by 4 or 5 is :\",l)"
   ]
  },
  {
   "cell_type": "code",
   "execution_count": 18,
   "metadata": {},
   "outputs": [
    {
     "name": "stdout",
     "output_type": "stream",
     "text": [
      "List of cube that are divisible by 4 or 5 is : [8, 64, 125, 216, 512, 1000, 1728, 2744, 3375, 4096, 5832, 8000, 10648, 13824, 15625, 17576, 21952, 27000, 32768, 39304, 42875, 46656, 54872, 64000, 74088, 85184, 91125, 97336, 110592, 125000, 140608, 157464, 166375, 175616, 195112, 216000, 238328, 262144, 274625, 287496, 314432, 343000, 373248, 405224, 421875, 438976, 474552, 512000, 551368, 592704, 614125, 636056, 681472, 729000, 778688, 830584, 857375, 884736, 941192, 1000000]\n"
     ]
    }
   ],
   "source": [
    "l=[]\n",
    "i=1\n",
    "while i <=100:\n",
    "    cube = i**3\n",
    "    if cube % 4 == 0 or cube % 5 == 0:\n",
    "        l.append(cube)\n",
    "    i +=1\n",
    "print(\"List of cube that are divisible by 4 or 5 is :\",l)\n"
   ]
  },
  {
   "cell_type": "markdown",
   "metadata": {},
   "source": [
    "5.) WAP to filter count vowels in the below-given string.\n",
    "    string = \"I want to become a data scientist\""
   ]
  },
  {
   "cell_type": "code",
   "execution_count": 9,
   "metadata": {},
   "outputs": [
    {
     "name": "stdout",
     "output_type": "stream",
     "text": [
      "Number of vowels in given string is:  12\n"
     ]
    }
   ],
   "source": [
    "a=\"I want to become a data scientist\"\n",
    "vowels = [\"a\",\"e\",\"i\",\"o\",\"u\",\"A\",\"E\",\"I\",\"O\",\"U\"]\n",
    "count = 0\n",
    "\n",
    "for character in a:\n",
    "    if character in vowels:\n",
    "        count += 1\n",
    "print(\"Number of vowels in given string is: \",count)"
   ]
  }
 ],
 "metadata": {
  "kernelspec": {
   "display_name": "Python 3.9.10 64-bit",
   "language": "python",
   "name": "python3"
  },
  "language_info": {
   "codemirror_mode": {
    "name": "ipython",
    "version": 3
   },
   "file_extension": ".py",
   "mimetype": "text/x-python",
   "name": "python",
   "nbconvert_exporter": "python",
   "pygments_lexer": "ipython3",
   "version": "3.9.10"
  },
  "orig_nbformat": 4,
  "vscode": {
   "interpreter": {
    "hash": "68360625e4cc29d002a61fb939545e264dabbb2ea2c79c9e867abe8e0afd20fa"
   }
  }
 },
 "nbformat": 4,
 "nbformat_minor": 2
}
