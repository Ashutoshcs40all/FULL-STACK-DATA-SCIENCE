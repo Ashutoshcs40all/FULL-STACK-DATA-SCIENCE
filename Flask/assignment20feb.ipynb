{
 "cells": [
  {
   "attachments": {},
   "cell_type": "markdown",
   "metadata": {},
   "source": [
    "Q1. Explain GET and POST methods.\n",
    "\n",
    "        In Python, the HTTP protocol can be used to communicate between a client (e.g., a web browser) and a server. Two common HTTP methods are GET and POST.\n",
    "        The GET method is used to retrieve data from a server. It sends a request to the server asking for some data, which is typically encoded in the URL. For example, if you visit a website like http://example.com/search?q=python, you're making a GET request with a parameter q=python to search for results containing the word \"python\".\n",
    "\n",
    "        The POST method, on the other hand, is used to submit data to a server. It sends data as part of the request body, rather than in the URL. This is useful when you need to send large amounts of data, or when the data needs to be kept private.\n",
    "\n",
    "\n",
    "\n",
    "\n",
    "\n",
    "\n"
   ]
  },
  {
   "attachments": {},
   "cell_type": "markdown",
   "metadata": {},
   "source": [
    "Q2. Why is request used in Flask?\n",
    "\n",
    "        requests is not typically used directly in Flask applications, but it is a useful Python library for sending HTTP requests.\n",
    "\n",
    "        Flask is a web framework for building web applications in Python. One common use case for Flask is to build web applications that serve HTTP requests and responses. When a Flask application receives a request, it processes the request and generates a response to send back to the client.\n",
    "\n",
    "        The requests library can be used in a Flask application to make HTTP requests to other servers or APIs. For example, if you're building a Flask application that needs to communicate with a third-party API, you can use requests to send HTTP requests to that API and receive responses."
   ]
  },
  {
   "attachments": {},
   "cell_type": "markdown",
   "metadata": {},
   "source": [
    "Q3. Why is redirect() used in Flask?\n",
    "\n",
    "        redirect() is a function provided by the Flask framework that is used to redirect a user to a different URL. It is used when you want to send the user to a different page, for example after they submit a form or perform some action on your website.\n",
    "        Overall, redirect() is used in Flask to provide a smooth user experience by sending the user to different pages or routes in your application."
   ]
  },
  {
   "attachments": {},
   "cell_type": "markdown",
   "metadata": {},
   "source": [
    "Q4. What are templates in Flask? Why is the render_template() function used?\n",
    "\n",
    "        Templates in Flask are used to create dynamic HTML pages that can be rendered by the web application. Templates are written in HTML and contain placeholders for dynamic data that will be filled in by the web application when the page is rendered.\n",
    "        In Flask, the render_template() function is used to render a template with dynamic data. This function takes the name of the template file (which should be located in the templates folder of your Flask application) and any data that you want to pass to the template."
   ]
  },
  {
   "attachments": {},
   "cell_type": "markdown",
   "metadata": {},
   "source": [
    "Q5. Create a simple API. Use Postman to test it. Attach the screenshot of the output in the Jupyter Notebook."
   ]
  },
  {
   "cell_type": "code",
   "execution_count": 2,
   "metadata": {},
   "outputs": [
    {
     "name": "stdout",
     "output_type": "stream",
     "text": [
      " * Serving Flask app '__main__'\n",
      " * Debug mode: off\n"
     ]
    },
    {
     "name": "stderr",
     "output_type": "stream",
     "text": [
      "WARNING: This is a development server. Do not use it in a production deployment. Use a production WSGI server instead.\n",
      " * Running on all addresses (0.0.0.0)\n",
      " * Running on http://127.0.0.1:5000\n",
      " * Running on http://192.168.143.106:5000\n",
      "Press CTRL+C to quit\n"
     ]
    }
   ],
   "source": [
    "from flask import Flask, request ,render_template , jsonify\n",
    "\n",
    "app = Flask(__name__)\n",
    "\n",
    "@app.route('/details')\n",
    "def get_details():\n",
    "    name = request.args.get('n1')\n",
    "    print(name)\n",
    "    result = f'Hi this is {name}'\n",
    "    return jsonify(result)\n",
    "\n",
    "if __name__==\"__main__\":\n",
    "    app.run(host=\"0.0.0.0\")"
   ]
  }
 ],
 "metadata": {
  "kernelspec": {
   "display_name": "Python 3",
   "language": "python",
   "name": "python3"
  },
  "language_info": {
   "codemirror_mode": {
    "name": "ipython",
    "version": 3
   },
   "file_extension": ".py",
   "mimetype": "text/x-python",
   "name": "python",
   "nbconvert_exporter": "python",
   "pygments_lexer": "ipython3",
   "version": "3.9.10"
  },
  "orig_nbformat": 4,
  "vscode": {
   "interpreter": {
    "hash": "68360625e4cc29d002a61fb939545e264dabbb2ea2c79c9e867abe8e0afd20fa"
   }
  }
 },
 "nbformat": 4,
 "nbformat_minor": 2
}
