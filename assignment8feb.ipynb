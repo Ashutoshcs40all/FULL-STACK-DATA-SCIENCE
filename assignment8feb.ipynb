{
 "cells": [
  {
   "cell_type": "markdown",
   "metadata": {},
   "source": [
    "Q1. What is Abstraction in OOps? Explain with an example.\n",
    "\n",
    "\n",
    "\n",
    "\n",
    "\n",
    "\n",
    "\n",
    "\n",
    "\n"
   ]
  },
  {
   "cell_type": "markdown",
   "metadata": {},
   "source": [
    "    Abstraction in OOP is the pratice of hiding complex implementation details from the user and only exposing the most essential information and functionality.\n",
    "    In python, abstraction can be achieved through the use of classes and objects. A class acts as a blueprint fro creating objects and encapsulated the data and behavior of an object. Example of abstraction:-"
   ]
  },
  {
   "cell_type": "code",
   "execution_count": 1,
   "metadata": {},
   "outputs": [
    {
     "name": "stdout",
     "output_type": "stream",
     "text": [
      "Starting the engine of a 2019 TATA SAFARI\n"
     ]
    }
   ],
   "source": [
    "class Car:\n",
    "    def __init__(self, make, model,year):\n",
    "        self.make=make\n",
    "        self.model=model\n",
    "        self.year=year\n",
    "    def start(self):\n",
    "        print(\"Starting the engine of a\",self.year,self.make,self.model)\n",
    "\n",
    "my_car = Car(\"TATA\",\"SAFARI\",2019) #Create an instance of the Car class\n",
    "\n",
    "my_car.start() #Access the instance method\n"
   ]
  },
  {
   "cell_type": "markdown",
   "metadata": {},
   "source": [
    "Q2. Differentiate between Abstraction and Encapsulation. Explain with an example.\n"
   ]
  },
  {
   "cell_type": "markdown",
   "metadata": {},
   "source": [
    "    Abstarction and encapsulation are two important concepts in OOP that are often used interchangeably, but they are distinct from each other.\n",
    "        Abstraction in OOP is the pratice of hiding complex implementation details from the user and only exposing the most essential information and functionality. It helps to reduce complexity and simplify the interface for the user.\n",
    "        Encapsulation, on the other hand, is the mechanism of wrapping data and behavior within a single unite(i.e., an object). It helps to protect the data and behavior of an object from being accessed or moddified by other parts of the code, making it more secure and easier to maintain.\n",
    "        Example : between abstraction & encapsulation:-"
   ]
  },
  {
   "cell_type": "code",
   "execution_count": 2,
   "metadata": {},
   "outputs": [],
   "source": [
    "class bank_acc:\n",
    "    def __init__(self,name,balance):\n",
    "        self.__name = name\n",
    "        self.__balance = balance\n",
    "\n",
    "    def get_balance(self):\n",
    "        return self.__balance\n",
    "        \n",
    "    def deposit(self,amount):\n",
    "        self.__balance +=amount\n",
    "\n",
    "    def withdraw(self,amount):\n",
    "        if self.__balance >= amount:\n",
    "            self.__balance -= amount\n",
    "            return True\n",
    "        else:\n",
    "            return False\n",
    "    "
   ]
  },
  {
   "cell_type": "code",
   "execution_count": 3,
   "metadata": {},
   "outputs": [
    {
     "name": "stdout",
     "output_type": "stream",
     "text": [
      "Current Balance:  1000\n"
     ]
    }
   ],
   "source": [
    "my_account = bank_acc(\"ASHUTOSH\",1000)\n",
    "print(\"Current Balance: \", my_account.get_balance())"
   ]
  },
  {
   "cell_type": "code",
   "execution_count": 4,
   "metadata": {},
   "outputs": [
    {
     "name": "stdout",
     "output_type": "stream",
     "text": [
      "Current Balance:  1400\n"
     ]
    }
   ],
   "source": [
    "my_account.deposit(400)\n",
    "print(\"Current Balance: \", my_account.get_balance())"
   ]
  },
  {
   "cell_type": "code",
   "execution_count": 5,
   "metadata": {},
   "outputs": [
    {
     "name": "stdout",
     "output_type": "stream",
     "text": [
      "Current Balance:  1200\n"
     ]
    }
   ],
   "source": [
    "my_account.withdraw(200)\n",
    "print(\"Current Balance: \", my_account.get_balance())"
   ]
  },
  {
   "cell_type": "markdown",
   "metadata": {},
   "source": [
    "Q3. What is abc module in python? Why is it used?\n"
   ]
  },
  {
   "cell_type": "markdown",
   "metadata": {},
   "source": [
    "    The 'abc'(ABSTRACT BASE CLASS) module in python is part of the standard library and provide a way to to define abstarct base classes(ABCs) in python. An ABC is a class that cannot be instantiated, but provides a common interface for its subclasses.\n",
    "    An ABC is used to define a common inerface for a group of related objects, allowing them to be used interchangebly in the same way. The ABC defines the method that its subclasses must implement, but does not provide an implementation for those methods. This ensure that the subclass are complatible with the interface defined by the ABC, making it easier to write generic code that can work with objects of different types."
   ]
  },
  {
   "cell_type": "markdown",
   "metadata": {},
   "source": [
    "Q4. How can we achieve data abstraction?"
   ]
  },
  {
   "cell_type": "markdown",
   "metadata": {},
   "source": [
    "    Data abstraction in Python can be achieved using the following methods:\n",
    "\n",
    "    Object-Oriented Programming (OOP): In OOP, we define classes and objects to encapsulate data and behavior. The data is hidden behind the objects, making it abstract.\n",
    "\n",
    "    Modules: In Python, modules can be used to create abstractions. A module is a file containing Python definitions and statements that can be imported into other Python modules or programs.\n",
    "\n",
    "    Abstract Base Classes (ABCs): ABCs are a way of defining abstract classes in Python. An abstract class is a class that cannot be instantiated, but its derived classes can be instantiated.\n",
    "\n",
    "    Decorators: Decorators can be used to add functionality to a class, method or function. This functionality can be used to abstract the implementation of a class, method or function.\n",
    "\n",
    "    Interfaces: Interfaces can be used to define a set of methods that a class must implement. This can be used to abstract the implementation of a class.\n",
    "\n"
   ]
  },
  {
   "cell_type": "markdown",
   "metadata": {},
   "source": [
    "Q5. Can we create an instance of an abstract class? Explain your answer."
   ]
  },
  {
   "cell_type": "markdown",
   "metadata": {},
   "source": [
    "    No, you cannot create an instance of an abstract class in Python. An abstract class is a class that is meant to be subclassed and cannot be instantiated directly. The purpose of an abstract class is to provide a common interface for its subclasses and to enforce a certain level of abstraction.\n",
    "\n",
    "    An abstract class is defined using the abc module in Python and decorated with the @abc.abstractmethod decorator to indicate which methods must be overridden by subclasses. An abstract class cannot be instantiated unless all of its abstract methods have been overridden by concrete implementations in the subclass.\n",
    "\n",
    "    If you try to create an instance of an abstract class in Python, it will raise a TypeError saying \"Can't instantiate abstract class X with abstract methods Y, Z\".\n",
    "\n",
    "In conclusion, an abstract class is a blueprint for other classes and cannot be instantiated directly. It serves as a base for other classes to inherit from, and its purpose is to enforce the implementation of certain methods in subclasses."
   ]
  },
  {
   "cell_type": "code",
   "execution_count": null,
   "metadata": {},
   "outputs": [],
   "source": []
  }
 ],
 "metadata": {
  "kernelspec": {
   "display_name": "Python 3.9.10 64-bit",
   "language": "python",
   "name": "python3"
  },
  "language_info": {
   "codemirror_mode": {
    "name": "ipython",
    "version": 3
   },
   "file_extension": ".py",
   "mimetype": "text/x-python",
   "name": "python",
   "nbconvert_exporter": "python",
   "pygments_lexer": "ipython3",
   "version": "3.9.10"
  },
  "orig_nbformat": 4,
  "vscode": {
   "interpreter": {
    "hash": "68360625e4cc29d002a61fb939545e264dabbb2ea2c79c9e867abe8e0afd20fa"
   }
  }
 },
 "nbformat": 4,
 "nbformat_minor": 2
}
