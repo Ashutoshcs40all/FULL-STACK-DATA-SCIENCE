{
 "cells": [
  {
   "attachments": {},
   "cell_type": "markdown",
   "metadata": {},
   "source": [
    "Q1. What is a database? Differentiate between SQL and NoSQL databases.\n",
    "\n",
    "        A database is an organized collection of data, so that it can be easily accessed and managed.\n",
    "        You can organize data into tables, rows, columns, and index it to make it easier to find relevant information.\n",
    "        Database handlers create a database in such a way that only one set of software program provides access of data to all the users.\n",
    "        The main purpose of the database is to operate a large amount of information by storing, retrieving, and managing data.\n",
    "\n",
    "        Differentiate between SQL & NoSQL: \n",
    "\n",
    "                SQL\t\n",
    "                        1.) RELATIONAL DATABASE MANAGEMENT SYSTEM (RDBMS)\t\n",
    "                        2.) These databases have fixed or static or predefined schema.\t\n",
    "                        3.) These databases are not suited for hierarchical data storage.\t\n",
    "                        4.) These databases are best suited for complex queries.\tT\n",
    "                        5.) Vertically Scalable\t\n",
    "                        6.) Follows ACID property\n",
    "                        Examples: MySQL, PostgreSQL, Oracle, MS-SQL Server, etc\n",
    "\n",
    "                NoSQL\n",
    "                        1.) Non-relational or distributed database system.\n",
    "                        2.) They have dynamic schema.\n",
    "                        3.) These databases are best suited for hierarchical data storage.\n",
    "                        4.) These databases are not so good for complex queries.\n",
    "                        5.) Horizontally scalable.\n",
    "                        6.) Follows CAP(consistency, availability, partition tolerance)\n",
    "                        Examples: MongoDB, GraphQL, HBase, Neo4j, Cassandra, etc\n",
    "\n",
    "\n",
    "\n",
    "\n",
    "\n",
    "\n",
    "\n"
   ]
  },
  {
   "attachments": {},
   "cell_type": "markdown",
   "metadata": {},
   "source": [
    "Q2. What is DDL? Explain why CREATE, DROP, ALTER, and TRUNCATE are used with an example.\n",
    "\n",
    "        DDL (Data Definition Language): \n",
    "            DDL or Data Definition Language actually consists of the SQL commands that can be used to define the database schema. It simply deals with descriptions of the database schema and is used to create and modify the structure of database objects in the database. DDL is a set of SQL commands used to create, modify, and delete database structures but not data. These commands are normally not used by a general user, who  should be accessing the database via an application.\n",
    "\n",
    "            CREATE: This command is used to create the database or its objects (like table, index, function, views, store procedure, and triggers).\n",
    "            DROP: This command is used to delete objects from the database.\n",
    "            ALTER: This is used to alter the structure of the database.\n",
    "            TRUNCATE: This is used to remove all records from a table, including all spaces allocated for the records are removed. \n",
    "           \n",
    "            \n",
    "            \n",
    "           "
   ]
  },
  {
   "attachments": {},
   "cell_type": "markdown",
   "metadata": {},
   "source": [
    "Q3. What is DML? Explain INSERT, UPDATE, and DELETE with an example.\n",
    "\n",
    "    DML(Data Manipulation Language): \n",
    "        The SQL commands that deals with the manipulation of data present in the database belong to DML or Data Manipulation Language and this includes most of the SQL statements. It is the component of the SQL statement that controls access to data and to the database. Basically, DCL statements are grouped with DML statements.\n",
    "\n",
    "        INSERT : It is used to insert data into a table.\n",
    "        UPDATE: It is used to update existing data within a table.\n",
    "        DELETE : It is used to delete records from a database table."
   ]
  },
  {
   "attachments": {},
   "cell_type": "markdown",
   "metadata": {},
   "source": [
    "Q4. What is DQL? Explain SELECT with an example.\n",
    "\n",
    "        DQL (Data Query Language):\n",
    "            DQL statements are used for performing queries on the data within schema objects. The purpose of the DQL Command is to get some schema relation based on the query passed to it. We can define DQL as follows it is a component of SQL statement that allows getting data from the database and imposing order upon it. It includes the SELECT statement. This command allows getting the data out of the database to perform operations with it. When a SELECT is fired against a table or tables the result is compiled into a further temporary table, which is displayed or perhaps received by the program i.e. a front-end.\n",
    "\n",
    "        SELECT: It is used to retrieve data from the database."
   ]
  },
  {
   "attachments": {},
   "cell_type": "markdown",
   "metadata": {},
   "source": [
    "Q5. Explain Primary Key and Foreign Key.\n",
    "\n",
    "        The difference between Primary Key and Foreign Key:\n",
    "\n",
    "\tPRIMARY KEY\t::::\n",
    "\t1) A primary key is used to ensure data in the specific column is unique.\t\n",
    "\t2) It uniquely identifies a record in the relational database table.\t\n",
    "    3) Only one primary key is allowed in a table.\t\n",
    "\t4) It is a combination of UNIQUE and Not Null constraints.\t\n",
    "\t5) It does not allow NULL values.\t\n",
    "\t6) Its value cannot be deleted from the parent table.\t\n",
    "\t7) It constraint can be implicitly defined on the temporary tables.\t\n",
    "\n",
    "    FOREIGN KEY::::\n",
    "    1) A foreign key is a column or group of columns in a relational database table that provides a link between data in two tables.\n",
    "    2) It refers to the field in a table which is the primary key of another table.\n",
    "    3) Whereas more than one foreign key are allowed in a table.\n",
    "    4) It can contain duplicate values and a table in a relational database.\n",
    "    5) It can also contain NULL values.\n",
    "    6) Its value can be deleted from the child table.\n",
    "    7) It constraint cannot be defined on the local or global temporary tables.\n"
   ]
  },
  {
   "attachments": {},
   "cell_type": "markdown",
   "metadata": {},
   "source": [
    "Q6. Write a python code to connect MySQL to python. Explain the cursor() and execute() method.\n",
    "\n",
    "        Cursor is a Temporary Memory or Temporary Work Station. It is Allocated by Database Server at the Time of Performing DML(Data Manipulation Language) operations on Table by User. Cursors are used to store Database Tables. There are 2 types of Cursors: Implicit Cursors, and Explicit Cursors. These are explained as following below.\n",
    "\n",
    "    Implicit Cursors:\n",
    "        Implicit Cursors are also known as Default Cursors of SQL SERVER. These Cursors are allocated by SQL SERVER when the user performs DML operations.\n",
    "    Explicit Cursors :\n",
    "        Explicit Cursors are Created by Users whenever the user requires them. Explicit Cursors are used for Fetching data from Table in Row-By-Row Manner.\n",
    "\n",
    "        The Execute method executes a specified query, SQL statement, stored procedure, or provider-specific text.\n",
    "        The results are stored in a new Recordset object if it is a row-returning query. A closed Recordset object will be returned if it is not a row-returning query. "
   ]
  },
  {
   "cell_type": "code",
   "execution_count": null,
   "metadata": {},
   "outputs": [],
   "source": [
    "import mysql.connector    # import mysql.connector   #create user 'user'@'%' identified by 'password'\n",
    "mydb = mysql.connector.connect(\n",
    "  host=\"localhost\",\n",
    "  user=\"abc\",\n",
    "  password=\"password\"\n",
    ")\n",
    "mycursor = mydb.cursor()\n",
    "mycursor.execute(\"CREATE DATABASE if not exists test2\")\n",
    "mydb.close()"
   ]
  },
  {
   "attachments": {},
   "cell_type": "markdown",
   "metadata": {},
   "source": [
    "Q7. Give the order of execution of SQL clauses in an SQL query.\n",
    "\n",
    "        Order of Execution:::\n",
    "        SQL queries adhere to a specific order when evaluating clauses, similar to how mathematical operations adhere to PEMDAS or BIDMAS.\n",
    "\n",
    "        From the eyes of the user, queries begin from the first clause and end at the last clause. However, queries aren’t actually read from top to bottom when carried out.\n",
    "\n",
    "        The order in which the clauses in queries are executed is as follows:\n",
    "\n",
    "        1. FROM/JOIN: The FROM and/or JOIN clauses are executed first to determine the data of interest.\n",
    "\n",
    "        2. WHERE: The WHERE clause is executed to filter out records that do not meet the constraints.\n",
    "\n",
    "        3. GROUP BY: The GROUP BY clause is executed to group the data based on the values in one or more columns.\n",
    "\n",
    "        4. HAVING: The HAVING clause is executed to remove the created grouped records that don’t meet the constraints.\n",
    "\n",
    "        5. SELECT: The SELECT clause is executed to derive all desired columns and expressions.\n",
    "\n",
    "        6. ORDER BY: The ORDER BY clause is executed to sort the derived values in ascending or descending order.\n",
    "\n",
    "        7. LIMIT/OFFSET: Finally, the LIMIT and/or OFFSET clauses are executed to keep or skip a specified number of rows."
   ]
  },
  {
   "cell_type": "code",
   "execution_count": null,
   "metadata": {},
   "outputs": [],
   "source": []
  }
 ],
 "metadata": {
  "kernelspec": {
   "display_name": "Python 3",
   "language": "python",
   "name": "python3"
  },
  "language_info": {
   "codemirror_mode": {
    "name": "ipython",
    "version": 3
   },
   "file_extension": ".py",
   "mimetype": "text/x-python",
   "name": "python",
   "nbconvert_exporter": "python",
   "pygments_lexer": "ipython3",
   "version": "3.9.10"
  },
  "orig_nbformat": 4,
  "vscode": {
   "interpreter": {
    "hash": "68360625e4cc29d002a61fb939545e264dabbb2ea2c79c9e867abe8e0afd20fa"
   }
  }
 },
 "nbformat": 4,
 "nbformat_minor": 2
}
