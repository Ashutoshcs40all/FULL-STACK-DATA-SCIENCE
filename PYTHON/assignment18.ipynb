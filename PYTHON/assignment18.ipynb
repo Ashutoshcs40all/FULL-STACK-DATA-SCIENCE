{
 "cells": [
  {
   "attachments": {},
   "cell_type": "markdown",
   "metadata": {},
   "source": [
    "Q1. What is an API? Give an example, where an API is used in real life.\n",
    "\n",
    "        An API, or application programming interface, is a set of defined rules that enable different applications to communicate with each other. It acts as an intermediary layer that processes data transfers between systems, letting companies open their application data and functionality to external third-party developers, business partners, and internal departments within their companies.\n",
    "\n",
    "        The definitions and protocols within an API help businesses connect the many different applications they use in day-to-day operations, which saves employees time and breaks down silos that hinder collaboration and innovation. For developers, API documentation provides the interface for communication between applications, simplifying application integration.\n",
    "\n",
    "        Used in Real Life API:\n",
    "        \n",
    "    Twitter Bots\n",
    "    Log-In Using XYZ\n",
    "    Weather Snippers\n",
    "    Pay with PayPal\n",
    "    Google Maps\n",
    "    Travel Booking\n",
    "    E-Commerce\n"
   ]
  },
  {
   "attachments": {},
   "cell_type": "markdown",
   "metadata": {},
   "source": [
    "Q2. Give advantages and disadvantages of using API.\n",
    "\n",
    "        Advantages of APIs \n",
    "    Efficiency: API produces efficient, quicker, and more reliable results than the outputs produced by human beings in an organization.\n",
    "\n",
    "    Flexible delivery of services: API provides fast and flexible delivery of services according to developers’ requirements.\n",
    "\n",
    "    Integration: The best feature of API is that it allows the movement of data between various sites and thus enhances the integrated user experience.\n",
    "\n",
    "    Automation: As API makes use of robotic computers rather than humans, it produces better and more automated results.\n",
    "    \n",
    "    New functionality: While using API the developers find new tools and functionality for API exchanges.\n",
    "\n",
    "    Disadvantages of APIs \n",
    "    Cost: Developing and implementing API is costly at times and requires high maintenance and support from developers.\n",
    "    Security issues: Using API adds another layer of surface which is then prone to attacks, and hence the security risk problem is common in APIs."
   ]
  },
  {
   "attachments": {},
   "cell_type": "markdown",
   "metadata": {},
   "source": [
    "Q3. What is a Web API? Differentiate between API and Web API.\n",
    "\n",
    "        Web API Is simply an API for the web. It is an API that can be accessed using the HTTP protocol. It can be built using Java, .nET, etc. It is implemented to extend the functionality of a browser, simplify complex functions, and provide easy syntax to complex code. \n",
    "\n",
    "    The four main types of web APIs are:\n",
    "        Open API\n",
    "        Partner API\n",
    "        Internal API\n",
    "        Composite API\n",
    "\n",
    "        API\t\n",
    "    Web services are a type of API, which must be accessed through a network connection.\t\n",
    "    Web service is used for REST, SOAP and XML-RPC for communication.\n",
    "    All Web services are APIs.\t\t\n",
    "    It doesn’t have lightweight design, needs a SOAP convention to send or receive data over the system.\t\n",
    "    It provides supports only for the HTTP protocol.\t\n",
    "    It is not open source, however, can be devoured by any customer that comprehends xml.\t\n",
    "    Web service supports only XML.\t\n",
    "    Web Services can be hosted on IIS.\t\n",
    "\n",
    "        Web API\n",
    "    APIs are application interfaces, implying that one application can communicate with another application in a standardized manner.\n",
    "    API is used for any style of communication.\n",
    "    APIs are not web services\n",
    "    It has a light-weight architecture furthermore, useful for gadgets which have constrained transmission capacity like smart phones.\n",
    "    It provides support for the HTTP/s protocol: URL Request/Response Headers, and so on.\n",
    "    It is an open source and also ships with .NET framework.\n",
    "    API supports XML and JSON.\n",
    "    Web API can be hosted only on IIS and self.\n",
    "\n"
   ]
  },
  {
   "attachments": {},
   "cell_type": "markdown",
   "metadata": {},
   "source": [
    "Q4. Explain REST and SOAP Architecture. Mention shortcomings of SOAP.\n",
    "\n",
    "        REST: Representational State Transfer\n",
    "\n",
    "    REST is a set of architectural principles attuned to the needs of lightweight web services and mobile applications. Because it's a set of guidelines, it leaves the implementation of these recommendations to developers.\n",
    "\n",
    "    When a request for data is sent to a REST API, it’s usually done through hypertext transfer protocol (commonly referred to as HTTP). Once a request is received, APIs designed for REST (called RESTful APIs or RESTful web services) can return messages in a variety of formats: HTML, XML, plain text, and JSON. JSON (JavaScript object notation) is favored as a message format because it can be read by any programming language (despite the name), is human- and machine-readable, and is lightweight. In this way, RESTful APIs are more flexible and can be easier to set up.\n",
    "\n",
    "    An application is said to be RESTful if it follows 6 architectural guidelines. A RESTful application must have:\n",
    "        A client-server architecture composed of clients, servers, and resources.\n",
    "    Stateless client-server communication, meaning no client content is stored on the server between requests. Information about the session’s state is instead held with the client.\n",
    "    Cacheable data to eliminate the need for some client-server interactions.\n",
    "    A uniform interface between components so that information is transferred in a standardized form instead of specific to an application’s needs. This is described by Roy Fielding, the originator of REST, as “the central feature that distinguishes the REST architectural style from other network-based styles.”\n",
    "    A layered system constraint, where client-server interactions can be mediated by hierarchical layers.\n",
    "    Code on demand, allowing servers to extend the functionality of a client by transferring executable code (though also reducing visibility, making this an optional guideline).\n",
    "\n",
    "\n",
    "    SOAP: Simple Object Access Protocol\n",
    "\n",
    "    SOAP is a standard protocol that was first designed so that applications built with different languages and on different platforms could communicate. Because it is a protocol, it imposes built-in rules that increase its complexity and overhead, which can lead to longer page load times. However, these standards also offer built-in compliances that can make it preferable for enterprise scenarios. The built-in compliance standards include security, atomicity, consistency, isolation, and durability (ACID), which is a set of properties for ensuring reliable database transactions.\n",
    "Common web service specifications include:\n",
    "\n",
    "        Web services security (WS-security): Standardizes how messages are secured and transferred through unique identifiers called tokens.\n",
    "        WS-ReliableMessaging: Standardizes error handling between messages transferred across unreliable IT infrastructure.\n",
    "    Web services addressing (WS-addressing): Packages routing information as metadata within SOAP headers, instead of maintaining such information deeper within the network.\n",
    "    Web services description language (WSDL): Describes what a web service does, and where that service begins and ends.\n",
    "\n",
    "        When a request for data is sent to a SOAP API, it can be handled through any of the application layer protocols: HTTP (for web browsers), SMTP (for email), TCP, and others. However, once a request is received, return SOAP messages must be returned as XML documents—a markup language that is both human- and machine-readable. A completed request to a SOAP API is not cacheable by a browser, so it cannot be accessed later without resending to the API."
   ]
  },
  {
   "attachments": {},
   "cell_type": "markdown",
   "metadata": {},
   "source": [
    "Q5. Differentiate between REST and SOAP.\n",
    "\n",
    "    SOAP:::\n",
    "    SOAP (Simple Object Access Protocol) is a protocol with specific requirements like XML messaging.\t\n",
    "    Heavier and needs more bandwidth.\t\n",
    "    It defines its own security.\t\n",
    "    It permits XML-based data format only.\t\n",
    "    SOAP calls cannot be cached.\n",
    "\n",
    "    REST:::\n",
    "    REST (Representational State Transfer) is a set of guidelines (architectural style) offering flexible implementation.\n",
    "    Lightweight and needs less bandwidth.\n",
    "    It inherits security from the underlying transport.\n",
    "    It permits different data formats such as plain text, HTML, XML, JSON, etc.\n",
    "    REST calls can be cached.\n"
   ]
  }
 ],
 "metadata": {
  "kernelspec": {
   "display_name": "Python 3",
   "language": "python",
   "name": "python3"
  },
  "language_info": {
   "name": "python",
   "version": "3.9.10"
  },
  "orig_nbformat": 4,
  "vscode": {
   "interpreter": {
    "hash": "68360625e4cc29d002a61fb939545e264dabbb2ea2c79c9e867abe8e0afd20fa"
   }
  }
 },
 "nbformat": 4,
 "nbformat_minor": 2
}
