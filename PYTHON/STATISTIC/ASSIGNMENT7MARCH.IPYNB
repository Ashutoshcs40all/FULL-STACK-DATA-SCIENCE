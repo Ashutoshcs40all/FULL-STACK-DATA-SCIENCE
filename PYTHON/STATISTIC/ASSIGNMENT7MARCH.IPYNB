{
 "cells": [
  {
   "attachments": {},
   "cell_type": "markdown",
   "metadata": {},
   "source": [
    "Q1. What are the three measures of central tendency?\n",
    "\n",
    "        The three measures of central tendency are:\n",
    "\n",
    "    1.) Mean: The mean is the most commonly used measure of central tendency. It is calculated by adding up all the values in a dataset and dividing by the total number of values. The mean is sensitive to extreme values or outliers, as it can be influenced by the presence of these values.\n",
    "\n",
    "    2.) Median: The median is the middle value in a dataset when the values are arranged in order. It is not affected by extreme values or outliers and is often used as a measure of central tendency for skewed datasets.\n",
    "\n",
    "    3.) Mode: The mode is the value that appears most frequently in a dataset. It is useful for datasets that have multiple peaks or modes and can be used as a measure of central tendency for categorical data.\n",
    "\n",
    "    All three measures of central tendency are useful in different contexts, depending on the characteristics of the dataset being analyzed. The mean is useful for datasets that are normally distributed or symmetric, while the median is useful for skewed datasets that have extreme values or outliers. The mode is useful for categorical data or datasets with multiple peaks or modes."
   ]
  },
  {
   "attachments": {},
   "cell_type": "markdown",
   "metadata": {},
   "source": [
    "Q2. What is the difference between the mean, median, and mode? How are they used to measure the \n",
    "central tendency of a dataset?\n",
    "\n",
    "        The mean, median, and mode are three measures of central tendency that are used to describe the typical or central value of a dataset. The key differences between them are:\n",
    "\n",
    "    1.) Mean: The mean is calculated by adding up all the values in a dataset and dividing by the total number of values. It is the most commonly used measure of central tendency and is sensitive to extreme values or outliers, as it can be influenced by the presence of these values. The mean is used to describe datasets that are normally distributed or symmetric.\n",
    "\n",
    "    2.) Median: The median is the middle value in a dataset when the values are arranged in order. It is not affected by extreme values or outliers and is often used as a measure of central tendency for skewed datasets. The median is calculated by finding the value that separates the dataset into two equal halves.\n",
    "\n",
    "    3.) Mode: The mode is the value that appears most frequently in a dataset. It is useful for datasets that have multiple peaks or modes and can be used as a measure of central tendency for categorical data. The mode is calculated by identifying the value that occurs most frequently in the dataset.\n",
    "\n",
    "    In general, the mean, median, and mode are used to describe the central tendency of a dataset and provide insight into the typical value or values in the dataset. The choice of which measure to use depends on the characteristics of the dataset being analyzed. The mean is the most commonly used measure of central tendency and is used to describe datasets that are normally distributed or symmetric. The median is used to describe datasets that are skewed or have extreme values or outliers. The mode is used to describe datasets that have multiple peaks or modes or for categorical data."
   ]
  },
  {
   "attachments": {},
   "cell_type": "markdown",
   "metadata": {},
   "source": [
    "Q3. Measure the three measures of central tendency for the given height data:\n",
    "     [178,177,176,177,178.2,178,175,179,180,175,178.9,176.2,177,172.5,178,176.5]"
   ]
  },
  {
   "cell_type": "code",
   "execution_count": 1,
   "metadata": {},
   "outputs": [
    {
     "data": {
      "text/plain": [
       "177.01875"
      ]
     },
     "execution_count": 1,
     "metadata": {},
     "output_type": "execute_result"
    }
   ],
   "source": [
    "import numpy as np\n",
    "l=[178,177,176,177,178.2,178,175,179,180,175,178.9,176.2,177,172.5,178,176.5]\n",
    "np.mean(l)\n"
   ]
  },
  {
   "cell_type": "code",
   "execution_count": 2,
   "metadata": {},
   "outputs": [
    {
     "data": {
      "text/plain": [
       "177.0"
      ]
     },
     "execution_count": 2,
     "metadata": {},
     "output_type": "execute_result"
    }
   ],
   "source": [
    "np.median(l)\n"
   ]
  },
  {
   "cell_type": "code",
   "execution_count": 3,
   "metadata": {},
   "outputs": [
    {
     "data": {
      "text/plain": [
       "ModeResult(mode=array([177.]), count=array([3]))"
      ]
     },
     "execution_count": 3,
     "metadata": {},
     "output_type": "execute_result"
    }
   ],
   "source": [
    "from scipy import stats\n",
    "stats.mode(l)"
   ]
  },
  {
   "attachments": {},
   "cell_type": "markdown",
   "metadata": {},
   "source": [
    "Q4. Find the standard deviation for the given data:\n",
    "\n",
    "[178,177,176,177,178.2,178,175,179,180,175,178.9,176.2,177,172.5,178,176.5]"
   ]
  },
  {
   "cell_type": "code",
   "execution_count": 4,
   "metadata": {},
   "outputs": [
    {
     "data": {
      "text/plain": [
       "1.7885814036548633"
      ]
     },
     "execution_count": 4,
     "metadata": {},
     "output_type": "execute_result"
    }
   ],
   "source": [
    "list=[178,177,176,177,178.2,178,175,179,180,175,178.9,176.2,177,172.5,178,176.5]\n",
    "np.std(list)"
   ]
  },
  {
   "attachments": {},
   "cell_type": "markdown",
   "metadata": {},
   "source": [
    "Q5. How are measures of dispersion such as range, variance, and standard deviation used to describe \n",
    "the spread of a dataset? Provide an example."
   ]
  },
  {
   "attachments": {},
   "cell_type": "markdown",
   "metadata": {},
   "source": [
    "    Measures of dispersion such as range, variance, and standard deviation are used to describe the spread or variability of a dataset. The key differences between these measures are:\n",
    "\n",
    "    1.) Range: The range is the difference between the maximum and minimum values in a dataset. It is a simple measure of dispersion that provides an indication of how much the values in a dataset vary. The range is useful for datasets with outliers or extreme values that can skew other measures of dispersion.\n",
    "\n",
    "    2.) Variance: The variance measures how much the values in a dataset deviate from the mean. It is calculated by taking the average of the squared differences between each value and the mean. The variance provides a measure of the average distance of the values from the mean and is used to describe the degree of variability within a dataset.\n",
    "\n",
    "    3.) Standard deviation: The standard deviation is the square root of the variance and measures the spread of a dataset in the same units as the original data. It is a commonly used measure of dispersion that provides a measure of how tightly the values in a dataset are clustered around the mean.\n",
    "\n",
    "    For example, consider the following dataset of test scores:"
   ]
  },
  {
   "cell_type": "code",
   "execution_count": 5,
   "metadata": {},
   "outputs": [
    {
     "data": {
      "text/plain": [
       "80.0"
      ]
     },
     "execution_count": 5,
     "metadata": {},
     "output_type": "execute_result"
    }
   ],
   "source": [
    "l2=[70, 75, 80, 85, 90]\n",
    "np.mean(l2)"
   ]
  },
  {
   "cell_type": "code",
   "execution_count": 6,
   "metadata": {},
   "outputs": [
    {
     "data": {
      "text/plain": [
       "80.0"
      ]
     },
     "execution_count": 6,
     "metadata": {},
     "output_type": "execute_result"
    }
   ],
   "source": [
    "np.median(l2)"
   ]
  },
  {
   "cell_type": "code",
   "execution_count": 7,
   "metadata": {},
   "outputs": [
    {
     "data": {
      "text/plain": [
       "ModeResult(mode=array([70]), count=array([1]))"
      ]
     },
     "execution_count": 7,
     "metadata": {},
     "output_type": "execute_result"
    }
   ],
   "source": [
    "stats.mode(l2)"
   ]
  },
  {
   "attachments": {},
   "cell_type": "markdown",
   "metadata": {},
   "source": [
    "Q6. What is a Venn diagram?\n",
    "\n",
    "        A Venn diagram is a graphical representation of the relationships between different sets of data. It was introduced by the mathematician John Venn in the late 1800s.\n",
    "\n",
    "    A Venn diagram consists of one or more circles or other shapes, called \"sets,\" that represent different groups of data. The sets are often labeled with a descriptive name, such as \"animals,\" \"plants,\" or \"mathematicians.\" The overlapping areas of the sets show the relationships between the groups of data.\n",
    "\n",
    "    For example, suppose you have two sets of data: \"cats\" and \"dogs.\" You can create a Venn diagram with two circles, one for cats and one for dogs, with the overlapping area showing where the two sets intersect. This intersection represents the animals that are both cats and dogs, such as a \"cat-dog\" hybrid.\n",
    "\n",
    "    Venn diagrams are commonly used in mathematics, statistics, logic, and other fields to illustrate relationships between different sets of data. They are also used in education and business to help people understand complex concepts and make informed decisions."
   ]
  },
  {
   "attachments": {},
   "cell_type": "markdown",
   "metadata": {},
   "source": [
    "Q7. For the two given sets A = (2,3,4,5,6,7) & B = (0,2,6,8,10). Find:\n",
    "\n",
    "(i) \t\tA B\n",
    "\n",
    "(ii)\tA ⋃ B\n",
    "\n",
    "    (i) The common elements between A and B are {2, 6}, so:\n",
    "    A B = {2, 6}\n",
    "\n",
    "    (ii) The elements in A ⋃ B are {0, 2, 3, 4, 5, 6, 7, 8, 10}, which is the union of the two sets."
   ]
  },
  {
   "attachments": {},
   "cell_type": "markdown",
   "metadata": {},
   "source": [
    "Q8. What do you understand about skewness in data?\n",
    "\n",
    "        Skewness in data is a measure of the degree of asymmetry in a distribution. In a symmetrical distribution, the data are evenly distributed around the mean, and the distribution has zero skewness. However, in an asymmetric distribution, the data are not evenly distributed around the mean, and the distribution has a nonzero skewness.\n",
    "\n",
    "    A positively skewed distribution has a long tail on the right-hand side, and the mean is greater than the median. This is because there are a few large values that pull the mean to the right. Examples of data that may exhibit positive skewness include income, sales figures, and stock prices.\n",
    "\n",
    "    A negatively skewed distribution has a long tail on the left-hand side, and the mean is less than the median. This is because there are a few small values that pull the mean to the left. Examples of data that may exhibit negative skewness include test scores, reaction times, and waiting times.\n",
    "\n",
    "    Skewness can have important implications for data analysis and modeling. For example, in regression analysis, the presence of skewness can violate assumptions of normality and lead to biased estimates. Therefore, it is important to be aware of skewness in the data and take appropriate steps to account for it in analysis and modeling."
   ]
  },
  {
   "attachments": {},
   "cell_type": "markdown",
   "metadata": {},
   "source": [
    "Q9. If a data is right skewed then what will be the position of median with respect to mean?\n",
    "\n",
    "    If a data is right skewed, then the median will be less than the mean. This is because the skewness in the data is caused by a few extreme values that are much larger than the rest of the data, which will pull the mean towards the right. As a result, the mean will be greater than the median.\n",
    "\n",
    "    In general, the median is a measure of central tendency that is less affected by extreme values in the data, while the mean is more affected by extreme values. Therefore, when the data is skewed, the median is often a more appropriate measure of central tendency than the mean."
   ]
  },
  {
   "attachments": {},
   "cell_type": "markdown",
   "metadata": {},
   "source": [
    "Q10. Explain the difference between covariance and correlation. How are these measures used in \n",
    "statistical analysis?\n",
    "\n",
    "    Covariance and correlation are both measures of the relationship between two variables in a dataset. However, there are some key differences between the two.\n",
    "\n",
    "    Covariance is a measure of the direction and strength of the linear relationship between two variables. It measures how much two variables change together. Specifically, covariance is the average of the products of the deviations of each variable from their respective means. Covariance can take on positive or negative values, depending on whether the variables tend to increase or decrease together, or whether they tend to vary in opposite directions.\n",
    "\n",
    "    Correlation, on the other hand, is a standardized measure of the linear relationship between two variables. Correlation is calculated by dividing the covariance between two variables by the product of their standard deviations. The resulting value ranges from -1 to 1, where -1 indicates a perfect negative correlation, 0 indicates no correlation, and 1 indicates a perfect positive correlation.\n",
    "\n",
    "    The main difference between covariance and correlation is that covariance is not standardized, so it is difficult to interpret its value. Correlation, on the other hand, is standardized, so its value is easily interpretable and comparable across different datasets.\n",
    "\n",
    "    In statistical analysis, both covariance and correlation are used to assess the relationship between two variables. Covariance is often used to calculate other statistics, such as regression coefficients and variance components. Correlation, on the other hand, is used to determine the strength and direction of the linear relationship between two variables, and to help identify potential outliers or influential observations in a dataset.\n",
    "\n",
    "\n",
    "\n",
    "\n",
    "\n",
    "\n",
    "\n",
    "\n"
   ]
  },
  {
   "attachments": {},
   "cell_type": "markdown",
   "metadata": {},
   "source": [
    "Q11. What is the formula for calculating the sample mean? Provide an example calculation for a \n",
    "dataset.\n",
    "\n",
    "    The formula for calculating the sample mean is:\n",
    "sample mean = (sum of all observations in the sample) / (number of observations in the sample)\n",
    "\n",
    "    In other words, to calculate the sample mean, you add up all the values in the sample and divide by the number of values.\n",
    "            For example, let's say we have the following dataset:"
   ]
  },
  {
   "cell_type": "code",
   "execution_count": 9,
   "metadata": {},
   "outputs": [
    {
     "data": {
      "text/plain": [
       "8.4"
      ]
     },
     "execution_count": 9,
     "metadata": {},
     "output_type": "execute_result"
    }
   ],
   "source": [
    "import numpy as np\n",
    "l=[5, 7, 8, 10, 12]\n",
    "np.mean(l)"
   ]
  },
  {
   "attachments": {},
   "cell_type": "markdown",
   "metadata": {},
   "source": [
    "Q12. For a normal distribution data what is the relationship between its measure of central tendency?\n",
    "\n",
    "        For a normal distribution data, the mean, median, and mode are all equal to each other. This is because a normal distribution is symmetric around its mean, so the point of maximum density (i.e., the mode) and the midpoint of the distribution (i.e., the median) are both equal to the mean.\n",
    "\n",
    "    In general, the mean, median, and mode are measures of central tendency that describe the typical or central value of a dataset. The mean is the arithmetic average of all the values in the dataset, while the median is the value that divides the dataset into two equal halves, and the mode is the most frequently occurring value in the dataset.\n",
    "\n",
    "    For a normal distribution, the mean is often considered the best measure of central tendency because it takes into account all the values in the dataset and is less affected by outliers than the median and mode. However, if the data is skewed or contains outliers, the median or mode may be a more appropriate measure of central tendency."
   ]
  },
  {
   "attachments": {},
   "cell_type": "markdown",
   "metadata": {},
   "source": [
    "Q13. How is covariance different from correlation?\n",
    "\n",
    "        Covariance and correlation are both measures of the relationship between two variables in a dataset, but there are some key differences between the two.\n",
    "\n",
    "    Covariance measures the direction and strength of the linear relationship between two variables. It indicates how much two variables change together. Specifically, covariance is the average of the products of the deviations of each variable from their respective means. Covariance can take on positive or negative values, depending on whether the variables tend to increase or decrease together, or whether they tend to vary in opposite directions.\n",
    "\n",
    "    Correlation, on the other hand, is a standardized measure of the linear relationship between two variables. Correlation is calculated by dividing the covariance between two variables by the product of their standard deviations. The resulting value ranges from -1 to 1, where -1 indicates a perfect negative correlation, 0 indicates no correlation, and 1 indicates a perfect positive correlation.\n",
    "    The main difference between covariance and correlation is that covariance is not standardized, so it is difficult to interpret its value. Correlation, on the other hand, is standardized, so its value is easily interpretable and comparable across different datasets.\n",
    "\n",
    "    Covariance measures the direction and strength of the linear relationship between two variables, while correlation measures the strength of the linear relationship between two variables on a standardized scale."
   ]
  },
  {
   "attachments": {},
   "cell_type": "markdown",
   "metadata": {},
   "source": [
    "Q14. How do outliers affect measures of central tendency and dispersion? Provide an example.\n",
    "\n",
    "        Outliers can have a significant impact on measures of central tendency and dispersion, especially if they are extreme values that are far away from the rest of the data.\n",
    "\n",
    "    For measures of central tendency, such as the mean, outliers can greatly affect the value of the central tendency. If an outlier is much larger or smaller than the rest of the data, it can significantly shift the mean towards the direction of the outlier. This can result in a mean that is not representative of the majority of the data. The median is less affected by outliers, as it is simply the middle value of the dataset and is not influenced by extreme values.\n",
    "\n",
    "    For measures of dispersion, such as the standard deviation or variance, outliers can also have a large impact. Outliers can greatly increase the variability in the data, which can result in a larger standard deviation or variance. This can make the data appear more spread out than it actually is. The interquartile range (IQR) is less affected by outliers, as it is based on the middle 50% of the data and is not influenced by extreme values.\n",
    "\n",
    "    For example, let's consider the following dataset of salaries (in thousands of dollars) for a company:\n",
    "\n",
    "{30, 32, 35, 38, 40, 43, 45, 47, 50, 200}\n",
    "\n",
    "    In this dataset, the value 200 is an outlier because it is much larger than the rest of the values. The mean salary for this dataset is calculated as:\n",
    "\n",
    "mean = (30 + 32 + 35 + 38 + 40 + 43 + 45 + 47 + 50 + 200) / 10 = 56\n",
    "\n",
    "    As we can see, the mean is heavily influenced by the outlier value of 200, which is much larger than the rest of the data. The median salary, however, is calculated as:\n",
    "\n",
    "median = (40 + 43) / 2 = 41.5\n",
    "\n",
    "    The median is less influenced by the outlier because it is simply the middle value of the dataset. Similarly, the standard deviation of the dataset is calculated as:\n",
    "\n",
    "s = 48.39\n",
    "\n",
    "    The standard deviation is greatly affected by the outlier value, as it is much larger than the rest of the data. In this case, it may be more appropriate to use the median and interquartile range as measures of central tendency and dispersion, as they are less influenced by outliers."
   ]
  },
  {
   "cell_type": "code",
   "execution_count": 13,
   "metadata": {},
   "outputs": [
    {
     "data": {
      "text/plain": [
       "56.0"
      ]
     },
     "execution_count": 13,
     "metadata": {},
     "output_type": "execute_result"
    }
   ],
   "source": [
    "l6=[30, 32, 35, 38, 40, 43, 45, 47, 50, 200]\n",
    "np.mean(l6)"
   ]
  },
  {
   "cell_type": "code",
   "execution_count": 14,
   "metadata": {},
   "outputs": [
    {
     "data": {
      "text/plain": [
       "41.5"
      ]
     },
     "execution_count": 14,
     "metadata": {},
     "output_type": "execute_result"
    }
   ],
   "source": [
    "np.median(l6)"
   ]
  },
  {
   "cell_type": "code",
   "execution_count": 16,
   "metadata": {},
   "outputs": [
    {
     "data": {
      "text/plain": [
       "48.39008162836678"
      ]
     },
     "execution_count": 16,
     "metadata": {},
     "output_type": "execute_result"
    }
   ],
   "source": [
    "np.std(l6)"
   ]
  },
  {
   "cell_type": "code",
   "execution_count": null,
   "metadata": {},
   "outputs": [],
   "source": []
  }
 ],
 "metadata": {
  "kernelspec": {
   "display_name": "Python 3",
   "language": "python",
   "name": "python3"
  },
  "language_info": {
   "codemirror_mode": {
    "name": "ipython",
    "version": 3
   },
   "file_extension": ".py",
   "mimetype": "text/x-python",
   "name": "python",
   "nbconvert_exporter": "python",
   "pygments_lexer": "ipython3",
   "version": "3.9.10"
  },
  "orig_nbformat": 4
 },
 "nbformat": 4,
 "nbformat_minor": 2
}
