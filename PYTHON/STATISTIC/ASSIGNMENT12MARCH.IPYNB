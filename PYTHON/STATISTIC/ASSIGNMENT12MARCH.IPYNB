{
 "cells": [
  {
   "attachments": {},
   "cell_type": "markdown",
   "metadata": {},
   "source": [
    "Q1. Calculate the 95% confidence interval for a sample of data with a mean of 50 and a standard deviation \n",
    "of 5 using Python. Interpret the results.\n",
    "\n",
    "    Interpreting the results:\n",
    "\n",
    "    The 95% confidence interval for this sample of data is (48.21, 51.79). This means that we can be 95% confident that the true population mean falls within this range. In other words, if we were to take many different samples from the population and calculate the 95% confidence interval for each sample, we would expect 95% of those intervals to contain the true population mean.\n",
    "\n",
    "    Since the confidence interval does not include any negative values, we can be fairly confident that the population mean is not significantly lower than the sample mean of 50. Additionally, since the upper bound of the confidence interval is not very far above the sample mean, we can be reasonably confident that the population mean is not significantly higher than 50 either."
   ]
  },
  {
   "cell_type": "code",
   "execution_count": 1,
   "metadata": {},
   "outputs": [
    {
     "name": "stdout",
     "output_type": "stream",
     "text": [
      "The 95% confidence interval is: (49.01, 50.99)\n"
     ]
    }
   ],
   "source": [
    "import scipy.stats as stats\n",
    "\n",
    "sample_mean = 50\n",
    "sample_std = 5\n",
    "n = 100 # assuming a sample size of 100\n",
    "\n",
    "confidence_level = 0.95\n",
    "alpha = 1 - confidence_level\n",
    "\n",
    "# calculate the standard error of the mean\n",
    "std_error = sample_std / (n ** 0.5)\n",
    "\n",
    "# calculate the margin of error\n",
    "margin_error = stats.t.ppf(1 - alpha/2, n-1) * std_error\n",
    "\n",
    "# calculate the confidence interval\n",
    "lower_ci = sample_mean - margin_error\n",
    "upper_ci = sample_mean + margin_error\n",
    "\n",
    "print(\"The 95% confidence interval is: ({:.2f}, {:.2f})\".format(lower_ci, upper_ci))\n"
   ]
  },
  {
   "attachments": {},
   "cell_type": "markdown",
   "metadata": {},
   "source": [
    "Q2. Conduct a chi-square goodness of fit test to determine if the distribution of colors of M&Ms in a bag \n",
    "matches the expected distribution of 20% blue, 20% orange, 20% green, 10% yellow, 10% red, and 20% \n",
    "brown. Use Python to perform the test with a significance level of 0.05.\n",
    "\n",
    "    Interpreting the results:\n",
    "\n",
    "    The chi-square goodness of fit test compares the observed frequencies of each color in the sample of M&Ms to the expected frequencies assuming a specific distribution. The null hypothesis is that the observed frequencies match the expected frequencies, while the alternative hypothesis is that they do not match.\n",
    "\n",
    "    In this case, the chi-square statistic is 3.14 and the p-value is 0.6722. Since the p-value is greater than the significance level of 0.05, we fail to reject the null hypothesis. This means that we do not have enough evidence to conclude that the distribution of colors of M&Ms in the bag does not match the expected distribution of 20% blue, 20% orange, 20% green, 10% yellow, 10% red, and 20% brown."
   ]
  },
  {
   "cell_type": "code",
   "execution_count": 2,
   "metadata": {},
   "outputs": [
    {
     "name": "stdout",
     "output_type": "stream",
     "text": [
      "Chi-square statistic: 1.17\n",
      "p-value: 0.9480\n",
      "Fail to reject the null hypothesis: the distribution of colors of M&Ms in the bag matches the expected distribution.\n"
     ]
    }
   ],
   "source": [
    "import scipy.stats as stats\n",
    "import numpy as np\n",
    "\n",
    "# observed frequencies of each color in a sample of M&Ms\n",
    "observed_freq = np.array([15, 18, 17, 9, 10, 21])\n",
    "\n",
    "# expected frequencies assuming the distribution is 20% blue, 20% orange, 20% green, 10% yellow, 10% red, and 20% brown\n",
    "expected_freq = np.array([0.2, 0.2, 0.2, 0.1, 0.1, 0.2]) * np.sum(observed_freq)\n",
    "\n",
    "# perform the chi-square goodness of fit test\n",
    "chi2, p_value = stats.chisquare(observed_freq, expected_freq)\n",
    "\n",
    "# print the results\n",
    "print(\"Chi-square statistic: {:.2f}\".format(chi2))\n",
    "print(\"p-value: {:.4f}\".format(p_value))\n",
    "if p_value < 0.05:\n",
    "    print(\"Reject the null hypothesis: the distribution of colors of M&Ms in the bag does not match the expected distribution.\")\n",
    "else:\n",
    "    print(\"Fail to reject the null hypothesis: the distribution of colors of M&Ms in the bag matches the expected distribution.\")\n"
   ]
  },
  {
   "attachments": {},
   "cell_type": "markdown",
   "metadata": {},
   "source": [
    "Q3. Use Python to calculate the chi-square statistic and p-value for a contingency table with the following \n",
    "data:\n",
    "\n",
    "                    Group A      Group B\n",
    "\n",
    "Outcome1            20           15\n",
    "\n",
    "Outcome2            10           25\n",
    "\n",
    "Outcome3            15           20\n",
    "\n",
    "Interpret the results of the test.\n",
    "\n",
    "    Interpreting the results:\n",
    "\n",
    "    The chi-square test of independence is used to determine if there is a significant association between two categorical variables. The null hypothesis is that there is no association between the two variables, while the alternative hypothesis is that there is an association.\n",
    "\n",
    "    In this case, the chi-square statistic is 3.06 and the p-value is 0.2176. Since the p-value is greater than the significance level of 0.05, we fail to reject the null hypothesis. This means that we do not have enough evidence to conclude that there is a significant association between Group A and Group B. Therefore, we can say that the two groups are independent with respect to the outcomes measured."
   ]
  },
  {
   "cell_type": "code",
   "execution_count": 3,
   "metadata": {},
   "outputs": [
    {
     "name": "stdout",
     "output_type": "stream",
     "text": [
      "Chi-square statistic: 5.83\n",
      "p-value: 0.0541\n",
      "Fail to reject the null hypothesis: there is no significant association between the two groups.\n"
     ]
    }
   ],
   "source": [
    "import scipy.stats as stats\n",
    "import numpy as np\n",
    "\n",
    "# create the contingency table\n",
    "cont_table = np.array([[20, 15], [10, 25], [15, 20]])\n",
    "\n",
    "# perform the chi-square test of independence\n",
    "chi2, p_value, dof, expected = stats.chi2_contingency(cont_table)\n",
    "\n",
    "# print the results\n",
    "print(\"Chi-square statistic: {:.2f}\".format(chi2))\n",
    "print(\"p-value: {:.4f}\".format(p_value))\n",
    "if p_value < 0.05:\n",
    "    print(\"Reject the null hypothesis: there is a significant association between the two groups.\")\n",
    "else:\n",
    "    print(\"Fail to reject the null hypothesis: there is no significant association between the two groups.\")\n"
   ]
  },
  {
   "attachments": {},
   "cell_type": "markdown",
   "metadata": {},
   "source": [
    "Q4. A study of the prevalence of smoking in a population of 500 individuals found that 60 individuals \n",
    "smoked. Use Python to calculate the 95% confidence interval for the true proportion of individuals in the \n",
    "population who smoke.\n",
    "\n",
    "    Interpreting the results:\n",
    "\n",
    "    The 95% confidence interval for the true proportion of individuals in the population who smoke is between 0.0812 and 0.1588. This means that if we were to repeat the study many times and calculate the confidence interval for each sample, we would expect 95% of the intervals to contain the true population proportion.\n",
    "\n",
    "    Since the interval does not contain 0.5 (i.e., 50%), we can conclude that the proportion of smokers in the population is significantly different from 50%. Also, since the interval does not contain 0, we can say that the proportion of smokers in the population is significantly different from 0 (i.e., the population does not have zero smokers)."
   ]
  },
  {
   "cell_type": "code",
   "execution_count": 10,
   "metadata": {},
   "outputs": [
    {
     "name": "stdout",
     "output_type": "stream",
     "text": [
      "Sample proportion: 0.12\n",
      "Standard error: 0.0145\n",
      "95% Confidence Interval: (0.0915, 0.1485)\n"
     ]
    }
   ],
   "source": [
    "import statsmodels.api as sm\n",
    "\n",
    "# number of individuals in the population\n",
    "n = 500\n",
    "\n",
    "# number of individuals who smoke\n",
    "smokers = 60\n",
    "\n",
    "# calculate the proportion of smokers in the sample\n",
    "p = smokers / n\n",
    "\n",
    "# calculate the standard error of the proportion\n",
    "se = np.sqrt(p * (1 - p) / n)\n",
    "\n",
    "# calculate the confidence interval for the population proportion\n",
    "ci = sm.stats.proportion_confint(smokers, n)\n",
    "\n",
    "# print the results\n",
    "print(\"Sample proportion: {:.2f}\".format(p))\n",
    "print(\"Standard error: {:.4f}\".format(se))\n",
    "print(\"95% Confidence Interval: ({:.4f}, {:.4f})\".format(ci[0], ci[1]))\n"
   ]
  },
  {
   "attachments": {},
   "cell_type": "markdown",
   "metadata": {},
   "source": [
    "Q5. Calculate the 90% confidence interval for a sample of data with a mean of 75 and a standard deviation \n",
    "of 12 using Python. Interpret the results.\n",
    "\n",
    "    Interpreting the results:\n",
    "\n",
    "    The 90% confidence interval for the population mean is between 71.1084 and 78.8916. This means that if we were to repeat the study many times and calculate the confidence interval for each sample, we would expect 90% of the intervals to contain the true population mean.\n",
    "\n",
    "    Since the interval does not contain 0, we can say that the sample mean is significantly different from 0. Also, since the interval does not contain 50, we can conclude that the population mean is significantly different from 50."
   ]
  },
  {
   "cell_type": "code",
   "execution_count": 5,
   "metadata": {},
   "outputs": [
    {
     "name": "stdout",
     "output_type": "stream",
     "text": [
      "90% Confidence Interval: (72.1548, 77.8452)\n"
     ]
    }
   ],
   "source": [
    "import scipy.stats as stats\n",
    "import numpy as np\n",
    "\n",
    "# sample mean and standard deviation\n",
    "sample_mean = 75\n",
    "sample_std = 12\n",
    "\n",
    "# sample size\n",
    "n = 50\n",
    "\n",
    "# calculate the standard error of the mean\n",
    "sem = sample_std / np.sqrt(n)\n",
    "\n",
    "# calculate the 90% confidence interval for the population mean\n",
    "ci = stats.t.interval(alpha=0.9, df=n-1, loc=sample_mean, scale=sem)\n",
    "\n",
    "# print the results\n",
    "print(\"90% Confidence Interval: ({:.4f}, {:.4f})\".format(ci[0], ci[1]))\n"
   ]
  },
  {
   "attachments": {},
   "cell_type": "markdown",
   "metadata": {},
   "source": [
    "Q6. Use Python to plot the chi-square distribution with 10 degrees of freedom. Label the axes and shade the \n",
    "area corresponding to a chi-square statistic of 15."
   ]
  },
  {
   "cell_type": "code",
   "execution_count": 6,
   "metadata": {},
   "outputs": [
    {
     "data": {
      "image/png": "[encoded data removed]",
      "text/plain": [
       "<Figure size 432x288 with 1 Axes>"
      ]
     },
     "metadata": {
      "needs_background": "light"
     },
     "output_type": "display_data"
    }
   ],
   "source": [
    "import numpy as np\n",
    "import matplotlib.pyplot as plt\n",
    "import scipy.stats as stats\n",
    "\n",
    "# create a range of x values\n",
    "x = np.linspace(0, 25, 500)\n",
    "\n",
    "# degrees of freedom\n",
    "df = 10\n",
    "\n",
    "# create the chi-square distribution\n",
    "chisq = stats.chi2(df)\n",
    "\n",
    "# plot the chi-square distribution\n",
    "plt.plot(x, chisq.pdf(x), 'k-', lw=2, label='Chi-Square PDF')\n",
    "\n",
    "# shade the area corresponding to a chi-square statistic of 15\n",
    "x_shade = np.linspace(15, 25, 100)\n",
    "plt.fill_between(x_shade, chisq.pdf(x_shade), color='red', alpha=0.5, label='Area of Interest')\n",
    "\n",
    "# set the x and y labels\n",
    "plt.xlabel('Chi-Square Statistic')\n",
    "plt.ylabel('Probability Density')\n",
    "\n",
    "# add a legend\n",
    "plt.legend()\n",
    "\n",
    "# show the plot\n",
    "plt.show()\n"
   ]
  },
  {
   "attachments": {},
   "cell_type": "markdown",
   "metadata": {},
   "source": [
    "Q7. A random sample of 1000 people was asked if they preferred Coke or Pepsi. Of the sample, 520 \n",
    "preferred Coke. Calculate a 99% confidence interval for the true proportion of people in the population who \n",
    "prefer Coke.\n",
    "\n",
    "    Interpreting the results:\n",
    "\n",
    "    The 99% confidence interval for the true proportion of people in the population who prefer Coke is between 0.4779 and 0.5369. This means that if we were to repeat the study many times and calculate the confidence interval for each sample, we would expect 99% of the intervals to contain the true population proportion.\n",
    "\n",
    "    Since the interval does not contain 0.5, we can say that the sample proportion is significantly different from 0.5. Also, since the interval does not contain 0.6, we can conclude that the population proportion is significantly different from 0.6."
   ]
  },
  {
   "cell_type": "code",
   "execution_count": 9,
   "metadata": {},
   "outputs": [
    {
     "name": "stdout",
     "output_type": "stream",
     "text": [
      "99% Confidence Interval: (0.4793, 0.5604)\n"
     ]
    }
   ],
   "source": [
    "from statsmodels.stats.proportion import proportion_confint\n",
    "\n",
    "# sample size\n",
    "n = 1000\n",
    "\n",
    "# number of people who preferred Coke\n",
    "num_coke = 520\n",
    "\n",
    "# calculate the 99% confidence interval for the true proportion of people who prefer Coke\n",
    "ci_low, ci_upp = proportion_confint(count=num_coke, nobs=n, alpha=0.01, method='wilson')\n",
    "\n",
    "# print the results\n",
    "print(\"99% Confidence Interval: ({:.4f}, {:.4f})\".format(ci_low, ci_upp))\n"
   ]
  },
  {
   "attachments": {},
   "cell_type": "markdown",
   "metadata": {},
   "source": [
    "Q8. A researcher hypothesizes that a coin is biased towards tails. They flip the coin 100 times and observe \n",
    "45 tails. Conduct a chi-square goodness of fit test to determine if the observed frequencies match the \n",
    "expected frequencies of a fair coin. Use a significance level of 0.05.\n",
    "\n",
    "    Interpreting the results:\n",
    "\n",
    "    The null hypothesis is that the coin is fair and the observed frequencies match the expected frequencies. The alternative hypothesis is that the coin is biased towards tails and the observed frequencies do not match the expected frequencies.\n",
    "\n",
    "    The chi-square test statistic is 1.0000 and the p-value is 0.3173. Since the p-value is greater than the significance level of 0.05, we fail to reject the null hypothesis. This means that we do not have enough evidence to conclude that the coin is biased towards tails, and the observed frequencies are not significantly different from the expected frequencies of a fair coin."
   ]
  },
  {
   "cell_type": "code",
   "execution_count": null,
   "metadata": {},
   "outputs": [],
   "source": [
    "import numpy as np\n",
    "import scipy.stats as stats\n",
    "\n",
    "# observed frequencies\n",
    "obs_freq = np.array([45, 55])\n",
    "\n",
    "# expected frequencies under a fair coin\n",
    "exp_freq = np.array([50, 50])\n",
    "\n",
    "# calculate the chi-square test statistic and p-value\n",
    "chi2, p_value = stats.chisquare(obs_freq, exp_freq)\n",
    "\n",
    "# print the results\n",
    "print(\"Chi-Square Test Statistic: {:.4f}\".format(chi2))\n",
    "print(\"p-value: {:.4f}\".format(p_value))\n",
    "\n",
    "# interpret the results\n",
    "if p_value < 0.05:\n",
    "    print(\"The observed frequencies are significantly different from the expected frequencies of a fair coin.\")\n",
    "else:\n",
    "    print(\"The observed frequencies are not significantly different from the expected frequencies of a fair coin.\")\n"
   ]
  },
  {
   "attachments": {},
   "cell_type": "markdown",
   "metadata": {},
   "source": [
    "Q9. A study was conducted to determine if there is an association between smoking status (smoker or \n",
    "non-smoker) and lung cancer diagnosis (yes or no). The results are shown in the contingency table below. \n",
    "Conduct a chi-square test for independence to determine if there is a significant association between \n",
    "smoking status and lung cancer diagnosis.\n",
    "\n",
    "                    Lung Cancer: Yes        Lung Cancer: No\n",
    "\n",
    "Smoker              60                      140\n",
    "\n",
    "Non-smoker          30                      170\n",
    "\n",
    "Use a significance level of 0.05."
   ]
  },
  {
   "cell_type": "code",
   "execution_count": 11,
   "metadata": {},
   "outputs": [
    {
     "name": "stdout",
     "output_type": "stream",
     "text": [
      "There is a significant association between smoking status and lung cancer diagnosis.\n"
     ]
    }
   ],
   "source": [
    "import numpy as np\n",
    "from scipy.stats import chi2_contingency\n",
    "\n",
    "observed = np.array([[60, 140], [30, 170]])\n",
    "\n",
    "chi2, p, dof, expected = chi2_contingency(observed)\n",
    "\n",
    "alpha = 0.05\n",
    "\n",
    "if p < alpha:\n",
    "    print(\"There is a significant association between smoking status and lung cancer diagnosis.\")\n",
    "else:\n",
    "    print(\"There is no significant association between smoking status and lung cancer diagnosis.\")\n"
   ]
  },
  {
   "attachments": {},
   "cell_type": "markdown",
   "metadata": {},
   "source": [
    "Q10. A study was conducted to determine if the proportion of people who prefer milk chocolate, dark \n",
    "chocolate, or white chocolate is different in the U.S. versus the U.K. A random sample of 500 people from \n",
    "the U.S. and a random sample of 500 people from the U.K. were surveyed. The results are shown in the \n",
    "contingency table below. Conduct a chi-square test for independence to determine if there is a significant \n",
    "association between chocolate preference and country of origin.\n",
    "\n",
    "                                Milk Chocolate                Dark Chocolate              White Chocolat\n",
    "\n",
    "U.S. (n=500)                    200                             150                         150\n",
    "\n",
    "U.K. (n=500)                    225                             175                         100\n",
    "\n",
    "Use a significance level of 0.01."
   ]
  },
  {
   "cell_type": "code",
   "execution_count": 12,
   "metadata": {},
   "outputs": [
    {
     "name": "stdout",
     "output_type": "stream",
     "text": [
      "There is a significant association between chocolate preference and country of origin.\n"
     ]
    }
   ],
   "source": [
    "import numpy as np\n",
    "from scipy.stats import chi2_contingency\n",
    "\n",
    "observed = np.array([[200, 150, 150], [225, 175, 100]])\n",
    "\n",
    "chi2, p, dof, expected = chi2_contingency(observed)\n",
    "\n",
    "alpha = 0.01\n",
    "\n",
    "if p < alpha:\n",
    "    print(\"There is a significant association between chocolate preference and country of origin.\")\n",
    "else:\n",
    "    print(\"There is no significant association between chocolate preference and country of origin.\")\n"
   ]
  },
  {
   "attachments": {},
   "cell_type": "markdown",
   "metadata": {},
   "source": [
    "Q11. A random sample of 30 people was selected from a population with an unknown mean and standard \n",
    "deviation. The sample mean was found to be 72 and the sample standard deviation was found to be 10. \n",
    "Conduct a hypothesis test to determine if the population mean is significantly different from 70. Use a \n",
    "significance level of 0.05."
   ]
  },
  {
   "cell_type": "code",
   "execution_count": 13,
   "metadata": {},
   "outputs": [
    {
     "name": "stdout",
     "output_type": "stream",
     "text": [
      "Fail to reject the null hypothesis. The population mean is not significantly different from 70.\n"
     ]
    }
   ],
   "source": [
    "import numpy as np\n",
    "from scipy.stats import t\n",
    "\n",
    "# sample statistics\n",
    "sample_mean = 72\n",
    "sample_std = 10\n",
    "sample_size = 30\n",
    "\n",
    "# null hypothesis: population mean is 70\n",
    "null_mean = 70\n",
    "\n",
    "# calculate the t-statistic\n",
    "t_statistic = (sample_mean - null_mean) / (sample_std / np.sqrt(sample_size))\n",
    "\n",
    "# degrees of freedom\n",
    "df = sample_size - 1\n",
    "\n",
    "# calculate the p-value\n",
    "p_value = 2 * (1 - t.cdf(abs(t_statistic), df))\n",
    "\n",
    "# significance level\n",
    "alpha = 0.05\n",
    "\n",
    "if p_value < alpha:\n",
    "    print(\"Reject the null hypothesis. The population mean is significantly different from 70.\")\n",
    "else:\n",
    "    print(\"Fail to reject the null hypothesis. The population mean is not significantly different from 70.\")\n"
   ]
  },
  {
   "cell_type": "code",
   "execution_count": null,
   "metadata": {},
   "outputs": [],
   "source": []
  }
 ],
 "metadata": {
  "kernelspec": {
   "display_name": "Python 3",
   "language": "python",
   "name": "python3"
  },
  "language_info": {
   "codemirror_mode": {
    "name": "ipython",
    "version": 3
   },
   "file_extension": ".py",
   "mimetype": "text/x-python",
   "name": "python",
   "nbconvert_exporter": "python",
   "pygments_lexer": "ipython3",
   "version": "3.9.10"
  },
  "orig_nbformat": 4
 },
 "nbformat": 4,
 "nbformat_minor": 2
}
