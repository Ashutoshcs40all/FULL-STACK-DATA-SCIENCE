{
 "cells": [
  {
   "attachments": {},
   "cell_type": "markdown",
   "metadata": {},
   "source": [
    "Q1: What is Estimation Statistics? Explain point estimate and interval estimate.\n",
    "\n",
    "    Estimation statistics is a branch of inferential statistics that deals with estimating population parameters from sample statistics. In estimation, we use the information from a sample of data to make inferences about the population from which the sample was drawn.\n",
    "\n",
    "    Point estimate is a single value that is used to estimate an unknown population parameter. It is calculated using a sample statistic that is assumed to be an unbiased estimator of the population parameter of interest. For example, the sample mean can be used as a point estimate for the population mean, or the sample proportion can be used as a point estimate for the population proportion.\n",
    "\n",
    "    Interval estimate is a range of values that is used to estimate an unknown population parameter. It is calculated by constructing a confidence interval around the point estimate, which provides a range of values that is likely to contain the true population parameter with a certain level of confidence. For example, a 95% confidence interval for the population mean would be a range of values that is expected to contain the true population mean with 95% confidence.\n",
    "\n",
    "    Interval estimates are generally preferred over point estimates because they provide more information about the precision of the estimate and the uncertainty associated with it. The width of the confidence interval depends on the sample size, the level of confidence, and the variability of the sample statistic, among other factors.\n",
    "\n",
    "    In summary, point estimate provides a single value that is used to estimate a population parameter, while interval estimate provides a range of values that is used to estimate the same parameter, along with a measure of the uncertainty associated with the estimate.\n"
   ]
  },
  {
   "attachments": {},
   "cell_type": "markdown",
   "metadata": {},
   "source": [
    "Q2. Write a Python function to estimate the population mean using a sample mean and standard \n",
    "deviation."
   ]
  },
  {
   "cell_type": "code",
   "execution_count": 1,
   "metadata": {},
   "outputs": [],
   "source": [
    "import math\n",
    "\n",
    "def estimate_population_mean(sample_mean, sample_std, sample_size):\n",
    "    # Calculate the standard error of the mean\n",
    "    standard_error = sample_std / math.sqrt(sample_size)\n",
    "    # Calculate the margin of error for a 95% confidence interval\n",
    "    margin_of_error = 1.96 * standard_error\n",
    "    # Calculate the lower and upper bounds of the confidence interval\n",
    "    lower_bound = sample_mean - margin_of_error\n",
    "    upper_bound = sample_mean + margin_of_error\n",
    "    # Return the estimated population mean and the confidence interval\n",
    "    return (sample_mean, lower_bound, upper_bound)\n"
   ]
  },
  {
   "attachments": {},
   "cell_type": "markdown",
   "metadata": {},
   "source": [
    "Q3: What is Hypothesis testing? Why is it used? State the importance of Hypothesis testing.\n",
    "\n",
    "     Hypothesis testing is a statistical method used to evaluate a hypothesis or claim about a population parameter based on sample data. The goal of hypothesis testing is to determine whether the observed data is consistent or not with a specific hypothesis or claim about the population.\n",
    "\n",
    "    Hypothesis testing is used to make decisions about the population based on a sample of data. It is often used in scientific research to test a research hypothesis, which is a specific prediction about the relationship between variables. Hypothesis testing can also be used in quality control and process improvement to test whether a process is operating within specified limits.\n",
    "\n",
    "    The importance of hypothesis testing lies in its ability to provide a formal, rigorous framework for making decisions based on data. By using statistical methods to evaluate hypotheses, we can make more informed decisions about the population and draw conclusions that are supported by evidence. Hypothesis testing also allows us to quantify the degree of uncertainty associated with our conclusions, which is important when making decisions that have real-world consequences.\n",
    "\n",
    "    In summary, hypothesis testing is an essential tool for making decisions based on data and is widely used in scientific research, quality control, and process improvement. It allows us to evaluate hypotheses and claims about the population using sample data, and provides a rigorous framework for drawing conclusions that are supported by evidence."
   ]
  },
  {
   "attachments": {},
   "cell_type": "markdown",
   "metadata": {},
   "source": [
    "Q4. Create a hypothesis that states whether the average weight of male college students is greater than \n",
    "the average weight of female college students.\n",
    "\n",
    "    Here's an example of a hypothesis that compares the average weight of male and female college students:\n",
    "\n",
    "    1.) Null hypothesis: The average weight of male college students is equal to or less than the average weight of female college students.\n",
    "\n",
    "    2.) Alternative hypothesis: The average weight of male college students is greater than the average weight of female college students.\n",
    "\n",
    "    Symbolically, this can be written as:\n",
    "\n",
    "H0: μ_male ≤ μ_female\n",
    "\n",
    "Ha: μ_male > μ_female\n",
    "\n",
    "where μ_male is the population mean weight of male college students and μ_female is the population mean weight of female college students.\n",
    "\n",
    "    This hypothesis can be tested by collecting a random sample of male and female college students, calculating their sample means and standard deviations, and performing a hypothesis test to determine whether the difference in sample means is statistically significant.\n",
    "       "
   ]
  },
  {
   "attachments": {},
   "cell_type": "markdown",
   "metadata": {},
   "source": [
    "Q5. Write a Python script to conduct a hypothesis test on the difference between two population means, \n",
    "given a sample from each population."
   ]
  },
  {
   "cell_type": "code",
   "execution_count": 2,
   "metadata": {},
   "outputs": [
    {
     "name": "stdout",
     "output_type": "stream",
     "text": [
      "Reject the null hypothesis\n",
      "Sample 1 mean: 11.290000000000001\n",
      "Sample 2 mean: 9.33\n",
      "Pooled standard deviation: 1.1983785341498365\n",
      "Test statistic: 3.657186031798205\n",
      "P-value: 0.0009012836549656678\n"
     ]
    }
   ],
   "source": [
    "import numpy as np\n",
    "from scipy.stats import t\n",
    "\n",
    "# Define the sample data for each population\n",
    "sample1 = np.array([10.2, 12.3, 9.8, 11.5, 13.1, 11.9, 12.7, 10.5, 11.2, 9.7])\n",
    "sample2 = np.array([8.5, 9.7, 7.8, 10.1, 9.3, 11.2, 10.5, 8.8, 7.5, 9.9])\n",
    "\n",
    "# Calculate the sample means and standard deviations\n",
    "mean1 = np.mean(sample1)\n",
    "mean2 = np.mean(sample2)\n",
    "std1 = np.std(sample1, ddof=1)  # ddof=1 specifies to use the sample standard deviation\n",
    "std2 = np.std(sample2, ddof=1)\n",
    "\n",
    "# Set the significance level and degrees of freedom\n",
    "alpha = 0.05\n",
    "df = len(sample1) + len(sample2) - 2\n",
    "\n",
    "# Calculate the pooled standard deviation\n",
    "s_pooled = np.sqrt(((len(sample1)-1)*(std1**2) + (len(sample2)-1)*(std2**2)) / df)\n",
    "\n",
    "# Calculate the test statistic\n",
    "t_statistic = (mean1 - mean2) / (s_pooled * np.sqrt(1/len(sample1) + 1/len(sample2)))\n",
    "\n",
    "# Calculate the p-value\n",
    "p_value = 1 - t.cdf(t_statistic, df)\n",
    "\n",
    "# Determine whether to reject or fail to reject the null hypothesis based on the p-value\n",
    "if p_value < alpha:\n",
    "    print(\"Reject the null hypothesis\")\n",
    "else:\n",
    "    print(\"Fail to reject the null hypothesis\")\n",
    "    \n",
    "# Print the test results\n",
    "print(\"Sample 1 mean:\", mean1)\n",
    "print(\"Sample 2 mean:\", mean2)\n",
    "print(\"Pooled standard deviation:\", s_pooled)\n",
    "print(\"Test statistic:\", t_statistic)\n",
    "print(\"P-value:\", p_value)\n"
   ]
  },
  {
   "attachments": {},
   "cell_type": "markdown",
   "metadata": {},
   "source": [
    "Q6: What is a null and alternative hypothesis? Give some examples.\n",
    "\n",
    "    A null hypothesis is a statement that assumes there is no significant difference between two or more groups, or that there is no relationship between two variables. The alternative hypothesis, on the other hand, is a statement that assumes there is a significant difference between two or more groups, or that there is a relationship between two variables.\n",
    "\n",
    "Here are some examples of null and alternative hypotheses:\n",
    "\n",
    "    1.) Null hypothesis: The mean age of students in a university is 21.\n",
    "    Alternative hypothesis: The mean age of students in a university is not 21.\n",
    "\n",
    "    2.) Null hypothesis: There is no difference in the mean height of male and female students in a school.\n",
    "    Alternative hypothesis: The mean height of male students is different from the mean height of female students in a school.\n",
    "\n",
    "    3.) Null hypothesis: The proportion of defective items produced by a factory is 0.1.\n",
    "    Alternative hypothesis: The proportion of defective items produced by a factory is not 0.1.\n",
    "\n",
    "    4.) Null hypothesis: There is no relationship between the amount of exercise and the level of stress in individuals.\n",
    "    Alternative hypothesis: There is a relationship between the amount of exercise and the level of stress in individuals.\n",
    "\n",
    "    In each of these examples, the null hypothesis assumes that there is no significant difference or relationship, while the alternative hypothesis assumes that there is. The goal of hypothesis testing is to determine which hypothesis is supported by the data, based on the significance level and test statistic."
   ]
  },
  {
   "attachments": {},
   "cell_type": "markdown",
   "metadata": {},
   "source": [
    "Q7: Write down the steps involved in hypothesis testing.\n",
    "\n",
    "Here are the general steps involved in hypothesis testing:\n",
    "\n",
    "    1.) State the null and alternative hypotheses: The first step in hypothesis testing is to clearly state the null and alternative hypotheses. The null hypothesis is the statement being tested and assumes that there is no significant difference or relationship, while the alternative hypothesis is the opposite.\n",
    "\n",
    "    2.) Choose a significance level: The significance level (also called alpha) is the probability of rejecting the null hypothesis when it is actually true. It is typically set to 0.05 or 0.01, but can vary depending on the specific study.\n",
    "\n",
    "    3.) Determine the test statistic: The test statistic is a numerical value that summarizes the data and is used to determine whether to reject or fail to reject the null hypothesis. The test statistic depends on the type of test being conducted and the nature of the data.\n",
    "\n",
    "    4.) Calculate the p-value: The p-value is the probability of observing the test statistic or a more extreme value, assuming the null hypothesis is true. If the p-value is less than the significance level, the null hypothesis is rejected in favor of the alternative hypothesis.\n",
    "\n",
    "    5.) Draw a conclusion: Based on the p-value and the significance level, a conclusion is drawn about whether to reject or fail to reject the null hypothesis. If the null hypothesis is rejected, it is concluded that there is evidence of a significant difference or relationship, while if the null hypothesis is not rejected, it is concluded that there is no evidence of a significant difference or relationship.\n",
    "\n",
    "    6.) Interpret the results: The final step is to interpret the results of the hypothesis test in the context of the research question and draw conclusions about the population based on the sample data.\n",
    "\n",
    "It is important to note that the specific steps involved in hypothesis testing may vary depending on the type of test being conducted and the nature of the data."
   ]
  },
  {
   "attachments": {},
   "cell_type": "markdown",
   "metadata": {},
   "source": [
    "Q8. Define p-value and explain its significance in hypothesis testing.\n",
    "\n",
    "    In hypothesis testing, the p-value is the probability of obtaining a test statistic as extreme or more extreme than the one observed in the sample, assuming that the null hypothesis is true. In other words, it measures the strength of the evidence against the null hypothesis.\n",
    "\n",
    "    The p-value is a key output of hypothesis tests, as it provides a way to interpret the results of the test. If the p-value is less than or equal to the significance level (usually 0.05), then the null hypothesis is rejected and the alternative hypothesis is accepted. This means that there is strong evidence that the observed effect or relationship is not due to chance and is likely a true effect or relationship in the population.\n",
    "\n",
    "    On the other hand, if the p-value is greater than the significance level, then the null hypothesis is not rejected and it is concluded that there is insufficient evidence to support the alternative hypothesis. This means that the observed effect or relationship may be due to chance or random variation in the sample, rather than a true effect or relationship in the population.\n",
    "\n",
    "    It is important to note that the p-value does not provide information about the size or practical significance of the observed effect or relationship, only the statistical significance. Therefore, it is important to consider the context of the research question and the practical implications of the results when interpreting the p-value and drawing conclusions."
   ]
  },
  {
   "attachments": {},
   "cell_type": "markdown",
   "metadata": {},
   "source": [
    "Q9. Generate a Student's t-distribution plot using Python's matplotlib library, with the degrees of freedom \n",
    "parameter set to 10."
   ]
  },
  {
   "cell_type": "code",
   "execution_count": 4,
   "metadata": {},
   "outputs": [
    {
     "data": {
      "image/png": "[encoded data removed]",
      "text/plain": [
       "<Figure size 432x288 with 1 Axes>"
      ]
     },
     "metadata": {
      "needs_background": "light"
     },
     "output_type": "display_data"
    }
   ],
   "source": [
    "import numpy as np\n",
    "import matplotlib.pyplot as plt\n",
    "from scipy.stats import t\n",
    "\n",
    "# Generate a range of x-values\n",
    "x = np.linspace(-4, 4, 1000)\n",
    "\n",
    "# Compute the pdf for a t-distribution with 10 degrees of freedom\n",
    "pdf = t.pdf(x, df=10)\n",
    "\n",
    "# Plot the t-distribution\n",
    "plt.plot(x, pdf)\n",
    "\n",
    "# Add axis labels and a title\n",
    "plt.xlabel('x')\n",
    "plt.ylabel('pdf')\n",
    "plt.title('Student\\'s t-Distribution with 10 Degrees of Freedom')\n",
    "\n",
    "# Show the plot\n",
    "plt.show()\n"
   ]
  },
  {
   "attachments": {},
   "cell_type": "markdown",
   "metadata": {},
   "source": [
    "Q10. Write a Python program to calculate the two-sample t-test for independent samples, given two \n",
    "random samples of equal size and a null hypothesis that the population means are equal.\n",
    "\n",
    "\n"
   ]
  },
  {
   "cell_type": "code",
   "execution_count": 5,
   "metadata": {},
   "outputs": [
    {
     "name": "stdout",
     "output_type": "stream",
     "text": [
      "T-Statistic:  -1.0004236938528144\n",
      "P-Value:  0.3183265549172911\n"
     ]
    }
   ],
   "source": [
    "import numpy as np\n",
    "from scipy.stats import ttest_ind\n",
    "\n",
    "# Define two random samples of equal size\n",
    "sample1 = np.random.normal(10, 2, 100)\n",
    "sample2 = np.random.normal(10, 2, 100)\n",
    "\n",
    "# Calculate the t-statistic and p-value for the two-sample t-test\n",
    "t_statistic, p_value = ttest_ind(sample1, sample2)\n",
    "\n",
    "# Print the results\n",
    "print(\"T-Statistic: \", t_statistic)\n",
    "print(\"P-Value: \", p_value)\n"
   ]
  },
  {
   "attachments": {},
   "cell_type": "markdown",
   "metadata": {},
   "source": [
    "Q11: What is Student’s t distribution? When to use the t-Distribution.\n",
    "\n",
    "    Student's t-distribution is a probability distribution that is used in statistical inference for estimating population parameters when the sample size is small and the population standard deviation is unknown. It is similar to the normal distribution but has heavier tails, which makes it more suitable for small sample sizes.\n",
    "\n",
    "    The t-distribution is often used in hypothesis testing when the population standard deviation is unknown and must be estimated from the sample data. In this case, the t-distribution provides a way to calculate a confidence interval for the population mean and to test hypotheses about the population mean.\n",
    "\n",
    "In general, the t-distribution should be used when:\n",
    "\n",
    "    ** The sample size is small (less than 30),\n",
    "    ** The population standard deviation is unknown and must be estimated from the sample data,\n",
    "    ** The data is normally distributed or approximately normally distributed (the t-distribution becomes more like the normal distribution as the sample size increases).\n",
    "\n",
    "    The t-distribution is commonly used in fields such as medicine, psychology, and social sciences, where experiments often involve small sample sizes."
   ]
  },
  {
   "attachments": {},
   "cell_type": "markdown",
   "metadata": {},
   "source": [
    "Q12: What is t-statistic? State the formula for t-statistic.\n",
    "\n",
    "    The t-statistic is a measure of the difference between the mean of two groups, and it is commonly used in hypothesis testing to determine whether the difference between two means is significant or not.\n",
    "\n",
    "    The formula for t-statistic is:\n",
    "t = (x1 - x2) / (s / sqrt(n))\n",
    "    where:\n",
    "\n",
    "-- x1 and x2 are the sample means of the two groups being compared\n",
    "\n",
    "-- s is the pooled standard deviation of the two groups\n",
    "\n",
    "-- n is the total sample size of the two groups\n",
    "\n",
    "    The t-statistic measures the difference between the means in terms of standard error units. A large t-value indicates that the difference between the means is significant, while a small t-value indicates that the difference is not significant. The critical values of t are determined by the degrees of freedom (df), which is the total sample size minus the number of groups being compared minus one."
   ]
  },
  {
   "attachments": {},
   "cell_type": "markdown",
   "metadata": {},
   "source": [
    "Q13. A coffee shop owner wants to estimate the average daily revenue for their shop. They take a random \n",
    "sample of 50 days and find the sample mean revenue to be $500 with a standard deviation of $50. \n",
    "Estimate the population mean revenue with a 95% confidence interval."
   ]
  },
  {
   "cell_type": "code",
   "execution_count": 6,
   "metadata": {},
   "outputs": [
    {
     "name": "stdout",
     "output_type": "stream",
     "text": [
      "The population mean revenue is estimated to be between $485.79 and $514.21 with 95% confidence.\n"
     ]
    }
   ],
   "source": [
    "import math\n",
    "from scipy.stats import t\n",
    "\n",
    "# sample information\n",
    "n = 50\n",
    "sample_mean = 500\n",
    "sample_std = 50\n",
    "\n",
    "# degrees of freedom\n",
    "df = n - 1\n",
    "\n",
    "# critical value for 95% confidence interval\n",
    "alpha = 0.05\n",
    "t_crit = t.ppf(1 - alpha/2, df)\n",
    "\n",
    "# margin of error\n",
    "margin_of_error = t_crit * (sample_std / math.sqrt(n))\n",
    "\n",
    "# confidence interval\n",
    "lower_bound = sample_mean - margin_of_error\n",
    "upper_bound = sample_mean + margin_of_error\n",
    "\n",
    "print(\"The population mean revenue is estimated to be between ${:.2f} and ${:.2f} with 95% confidence.\".format(lower_bound, upper_bound))\n"
   ]
  },
  {
   "attachments": {},
   "cell_type": "markdown",
   "metadata": {},
   "source": [
    "Q14. A researcher hypothesizes that a new drug will decrease blood pressure by 10 mmHg. They conduct a \n",
    "clinical trial with 100 patients and find that the sample mean decrease in blood pressure is 8 mmHg with a \n",
    "standard deviation of 3 mmHg. Test the hypothesis with a significance level of 0.05."
   ]
  },
  {
   "cell_type": "code",
   "execution_count": 7,
   "metadata": {},
   "outputs": [
    {
     "name": "stdout",
     "output_type": "stream",
     "text": [
      "Reject the null hypothesis. The new drug decreases blood pressure significantly.\n",
      "t-value: -6.666666666666667\n",
      "p-value: 1.5012289189542116e-09\n"
     ]
    }
   ],
   "source": [
    "import math\n",
    "from scipy.stats import t\n",
    "\n",
    "# sample information\n",
    "n = 100\n",
    "sample_mean = 8\n",
    "population_mean = 10\n",
    "sample_std = 3\n",
    "\n",
    "# degrees of freedom\n",
    "df = n - 1\n",
    "\n",
    "# t-value and p-value\n",
    "t_value = (sample_mean - population_mean) / (sample_std / math.sqrt(n))\n",
    "p_value = 2 * (1 - t.cdf(abs(t_value), df))\n",
    "\n",
    "# test decision\n",
    "alpha = 0.05\n",
    "if p_value < alpha:\n",
    "    print(\"Reject the null hypothesis. The new drug decreases blood pressure significantly.\")\n",
    "else:\n",
    "    print(\"Fail to reject the null hypothesis. The new drug does not decrease blood pressure significantly.\")\n",
    "\n",
    "print(\"t-value:\", t_value)\n",
    "print(\"p-value:\", p_value)\n"
   ]
  },
  {
   "attachments": {},
   "cell_type": "markdown",
   "metadata": {},
   "source": [
    "Q15. An electronics company produces a certain type of product with a mean weight of 5 pounds and a \n",
    "standard deviation of 0.5 pounds. A random sample of 25 products is taken, and the sample mean weight \n",
    "is found to be 4.8 pounds. Test the hypothesis that the true mean weight of the products is less than 5 \n",
    "pounds with a significance level of 0.01."
   ]
  },
  {
   "cell_type": "code",
   "execution_count": 8,
   "metadata": {},
   "outputs": [
    {
     "name": "stdout",
     "output_type": "stream",
     "text": [
      "Fail to reject the null hypothesis. The true mean weight of the products is not less than 5 pounds.\n",
      "t-value: -2.0000000000000018\n",
      "p-value: 0.02846992496829572\n"
     ]
    }
   ],
   "source": [
    "import math\n",
    "from scipy.stats import t\n",
    "\n",
    "# sample information\n",
    "n = 25\n",
    "sample_mean = 4.8\n",
    "population_mean = 5\n",
    "population_std = 0.5\n",
    "\n",
    "# degrees of freedom\n",
    "df = n - 1\n",
    "\n",
    "# t-value and p-value\n",
    "t_value = (sample_mean - population_mean) / (population_std / math.sqrt(n))\n",
    "p_value = t.cdf(t_value, df)\n",
    "\n",
    "# test decision\n",
    "alpha = 0.01\n",
    "if p_value < alpha:\n",
    "    print(\"Reject the null hypothesis. The true mean weight of the products is less than 5 pounds.\")\n",
    "else:\n",
    "    print(\"Fail to reject the null hypothesis. The true mean weight of the products is not less than 5 pounds.\")\n",
    "\n",
    "print(\"t-value:\", t_value)\n",
    "print(\"p-value:\", p_value)\n"
   ]
  },
  {
   "attachments": {},
   "cell_type": "markdown",
   "metadata": {},
   "source": [
    "Q16. Two groups of students are given different study materials to prepare for a test. The first group (n1 = \n",
    "30) has a mean score of 80 with a standard deviation of 10, and the second group (n2 = 40) has a mean \n",
    "score of 75 with a standard deviation of 8. Test the hypothesis that the population means for the two \n",
    "groups are equal with a significance level of 0.01.\n"
   ]
  },
  {
   "cell_type": "code",
   "execution_count": 10,
   "metadata": {},
   "outputs": [
    {
     "name": "stdout",
     "output_type": "stream",
     "text": [
      "t-statistic: 2.2511258444537408\n",
      "p-value: 0.027613480367697507\n",
      "Fail to reject the null hypothesis that the population means are equal\n"
     ]
    }
   ],
   "source": [
    "import scipy.stats as stats\n",
    "import numpy as np\n",
    "\n",
    "n1 = 30  # sample size of group 1\n",
    "n2 = 40  # sample size of group 2\n",
    "x1 = 80  # sample mean of group 1\n",
    "x2 = 75  # sample mean of group 2\n",
    "s1 = 10  # sample standard deviation of group 1\n",
    "s2 = 8   # sample standard deviation of group 2\n",
    "alpha = 0.01  # significance level\n",
    "\n",
    "# Calculate the t-statistic and p-value\n",
    "se = np.sqrt((s1**2/n1) + (s2**2/n2))\n",
    "t_stat = (x1 - x2) / se\n",
    "df = n1 + n2 - 2\n",
    "p_value = 2 * (1 - stats.t.cdf(abs(t_stat), df))\n",
    "\n",
    "# Print the results\n",
    "print(\"t-statistic:\", t_stat)\n",
    "print(\"p-value:\", p_value)\n",
    "\n",
    "if p_value < alpha:\n",
    "    print(\"Reject the null hypothesis that the population means are equal\")\n",
    "else:\n",
    "    print(\"Fail to reject the null hypothesis that the population means are equal\")\n"
   ]
  },
  {
   "attachments": {},
   "cell_type": "markdown",
   "metadata": {},
   "source": [
    "Q17. A marketing company wants to estimate the average number of ads watched by viewers during a TV \n",
    "program. They take a random sample of 50 viewers and find that the sample mean is 4 with a standard \n",
    "deviation of 1.5. Estimate the population mean with a 99% confidence interval.\n"
   ]
  },
  {
   "cell_type": "code",
   "execution_count": 9,
   "metadata": {},
   "outputs": [
    {
     "name": "stdout",
     "output_type": "stream",
     "text": [
      "99% Confidence Interval: (3.4314963358572577, 4.568503664142742)\n"
     ]
    }
   ],
   "source": [
    "import scipy.stats as stats\n",
    "import math\n",
    "\n",
    "n = 50  # sample size\n",
    "x_bar = 4  # sample mean\n",
    "s = 1.5  # sample standard deviation\n",
    "alpha = 0.01  # significance level (1 - confidence level)\n",
    "\n",
    "t_critical = stats.t.ppf(1 - alpha/2, n - 1)  # t-critical value\n",
    "\n",
    "std_error = s / math.sqrt(n)  # standard error\n",
    "\n",
    "lower_bound = x_bar - t_critical * std_error\n",
    "upper_bound = x_bar + t_critical * std_error\n",
    "\n",
    "print(f\"99% Confidence Interval: ({lower_bound}, {upper_bound})\")\n"
   ]
  },
  {
   "cell_type": "code",
   "execution_count": null,
   "metadata": {},
   "outputs": [],
   "source": []
  }
 ],
 "metadata": {
  "kernelspec": {
   "display_name": "Python 3",
   "language": "python",
   "name": "python3"
  },
  "language_info": {
   "codemirror_mode": {
    "name": "ipython",
    "version": 3
   },
   "file_extension": ".py",
   "mimetype": "text/x-python",
   "name": "python",
   "nbconvert_exporter": "python",
   "pygments_lexer": "ipython3",
   "version": "3.9.10"
  },
  "orig_nbformat": 4
 },
 "nbformat": 4,
 "nbformat_minor": 2
}
