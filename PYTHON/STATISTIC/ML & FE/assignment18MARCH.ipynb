{
 "cells": [
  {
   "attachments": {},
   "cell_type": "markdown",
   "metadata": {},
   "source": [
    "Q1. What is the Filter method in feature selection, and how does it work?\n",
    "\n",
    "    The filter method in feature selection is a technique that involves selecting features based on their statistical properties, such as correlation, mutual information, or variance, without regard to a particular machine learning model. The filter method works by selecting a subset of features from the original set based on a predefined criterion or score. The criterion used can vary depending on the data and the problem, but common methods include:\n",
    "\n",
    "    1.) Correlation: This method selects features that are highly correlated with the target variable but have low correlation with other features in the dataset.\n",
    "\n",
    "    2.) Mutual Information: This method measures the mutual dependence between the target variable and the features. Features with high mutual information scores are considered more informative.\n",
    "\n",
    "    3.) Variance Threshold: This method removes features with low variance, assuming that such features do not contain much useful information.\n",
    "\n",
    "    4.) Chi-squared test: This method is used for feature selection of categorical variables. It selects features based on the dependency between the feature and the target variable.\n",
    "\n",
    "    The filter method is computationally efficient and can handle large datasets with a large number of features. However, it may not always select the most predictive features, and it can be sensitive to outliers. Therefore, it is often used in combination with other feature selection methods, such as wrapper or embedded methods, to achieve better performance."
   ]
  },
  {
   "attachments": {},
   "cell_type": "markdown",
   "metadata": {},
   "source": [
    "Q2. How does the Wrapper method differ from the Filter method in feature selection?"
   ]
  },
  {
   "attachments": {},
   "cell_type": "markdown",
   "metadata": {},
   "source": [
    "Q3. What are some common techniques used in Embedded feature selection methods?"
   ]
  },
  {
   "attachments": {},
   "cell_type": "markdown",
   "metadata": {},
   "source": [
    "Q4. What are some drawbacks of using the Filter method for feature selection?"
   ]
  },
  {
   "attachments": {},
   "cell_type": "markdown",
   "metadata": {},
   "source": [
    "Q5. In which situations would you prefer using the Filter method over the Wrapper method for feature \n",
    "selection?"
   ]
  },
  {
   "attachments": {},
   "cell_type": "markdown",
   "metadata": {},
   "source": [
    "Q6. In a telecom company, you are working on a project to develop a predictive model for customer churn. \n",
    "You are unsure of which features to include in the model because the dataset contains several different \n",
    "ones. Describe how you would choose the most pertinent attributes for the model using the Filter Method."
   ]
  },
  {
   "attachments": {},
   "cell_type": "markdown",
   "metadata": {},
   "source": [
    "Q7. You are working on a project to predict the outcome of a soccer match. You have a large dataset with \n",
    "many features, including player statistics and team rankings. Explain how you would use the Embedded \n",
    "method to select the most relevant features for the model.\n"
   ]
  },
  {
   "attachments": {},
   "cell_type": "markdown",
   "metadata": {},
   "source": [
    "Q8. You are working on a project to predict the price of a house based on its features, such as size, location, \n",
    "and age. You have a limited number of features, and you want to ensure that you select the most important \n",
    "ones for the model. Explain how you would use the Wrapper method to select the best set of features for the \n",
    "predictor."
   ]
  },
  {
   "cell_type": "markdown",
   "metadata": {},
   "source": []
  },
  {
   "cell_type": "code",
   "execution_count": null,
   "metadata": {},
   "outputs": [],
   "source": []
  }
 ],
 "metadata": {
  "language_info": {
   "name": "python"
  },
  "orig_nbformat": 4
 },
 "nbformat": 4,
 "nbformat_minor": 2
}
