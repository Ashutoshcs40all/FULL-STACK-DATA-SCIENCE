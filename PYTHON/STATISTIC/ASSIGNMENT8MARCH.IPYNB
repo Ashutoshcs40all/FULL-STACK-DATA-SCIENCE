{
 "cells": [
  {
   "attachments": {},
   "cell_type": "markdown",
   "metadata": {},
   "source": [
    "Q1. What is the Probability density function?\n",
    "\n",
    "    The Probability Density Function (PDF) is a mathematical function that describes the probability distribution of a random variable in a continuous probability distribution. It is a function that can be used to calculate the probability of a random variable taking a value within a certain range.\n",
    "\n",
    "    In simpler terms, the PDF provides information about how likely it is for a random variable to take on a particular value within a certain range of values. The area under the PDF curve between two values represents the probability of the random variable taking a value within that range.\n",
    "\n",
    "    For example, if we have a continuous random variable X that can take on any value between 0 and 1, the PDF f(x) would describe the probability of X taking on a particular value x within that range. The probability of X taking on any value between two values a and b can be calculated by integrating the PDF between those two values:\n",
    "\n",
    "    P(a ≤ X ≤ b) = ∫a^b f(x) dx\n",
    "\n",
    "    The PDF is an important concept in statistics and probability theory, as it is used to describe the characteristics of a continuous random variable and to make predictions about the likelihood of certain outcomes.\n",
    "\n",
    "Q2. What are the types of Probability distribution?\n",
    "\n",
    "    There are several types of probability distributions, each with its own set of characteristics and applications. The main types of probability distributions are:\n",
    "\n",
    "    Bernoulli Distribution: A Bernoulli distribution is a discrete probability distribution that models a single trial with two possible outcomes, usually referred to as success and failure. It is commonly used to model binary events such as coin flips or the success or failure of a single experiment.\n",
    "\n",
    "    Binomial Distribution: A binomial distribution is a discrete probability distribution that models the number of successes in a fixed number of independent trials, each with the same probability of success. It is commonly used to model the number of heads in a series of coin flips or the number of defective items in a batch of products.\n",
    "\n",
    "    Poisson Distribution: A Poisson distribution is a discrete probability distribution that models the number of occurrences of a certain event in a fixed interval of time or space. It is commonly used to model the number of customers arriving at a service center, the number of accidents in a city, or the number of calls received by a call center.\n",
    "\n",
    "    Normal Distribution: A normal distribution is a continuous probability distribution that is often used to model the distribution of real-valued random variables that are expected to be symmetric around a mean value. It is also known as the Gaussian distribution and has many important properties, including that it is defined by two parameters - the mean and the standard deviation.\n",
    "\n",
    "    Exponential Distribution: An exponential distribution is a continuous probability distribution that models the time between two consecutive events in a Poisson process. It is commonly used to model the lifetime of a product or the time between arrivals of customers at a service center.\n",
    "\n",
    "    Uniform Distribution: A uniform distribution is a continuous probability distribution that models random variables with equal probability over a finite interval. It is commonly used to model random selection from a set of options or to simulate the distribution of random numbers."
   ]
  },
  {
   "attachments": {},
   "cell_type": "markdown",
   "metadata": {},
   "source": [
    "Q3. Write a Python function to calculate the probability density function of a normal distribution with \n",
    "given mean and standard deviation at a given point."
   ]
  },
  {
   "cell_type": "code",
   "execution_count": 2,
   "metadata": {},
   "outputs": [
    {
     "name": "stdout",
     "output_type": "stream",
     "text": [
      "0.24197072451914337\n"
     ]
    }
   ],
   "source": [
    "import math\n",
    "\n",
    "def normal_pdf(x, mean, sd):\n",
    "    \"\"\"Calculate the probability density function of a normal distribution\n",
    "    at a given point x, with the given mean and standard deviation.\n",
    "    Args:\n",
    "        x (float): The point at which to calculate the PDF.\n",
    "        mean (float): The mean of the normal distribution.\n",
    "        sd (float): The standard deviation of the normal distribution.\n",
    "    Returns:\n",
    "        float: The PDF of the normal distribution at the given point x.\n",
    "    \"\"\"\n",
    "    numerator = math.exp(-0.5 * ((x - mean) / sd) ** 2)\n",
    "    denominator = sd * math.sqrt(2 * math.pi)\n",
    "    pdf = numerator / denominator\n",
    "    return pdf\n",
    "\n",
    "pdf_at_1 = normal_pdf(1, 0, 1)\n",
    "print(pdf_at_1)\n"
   ]
  },
  {
   "attachments": {},
   "cell_type": "markdown",
   "metadata": {},
   "source": [
    "Q4. What are the properties of Binomial distribution? Give two examples of events where binomial \n",
    "distribution can be applied.\n",
    "\n",
    "    The Binomial distribution is a discrete probability distribution that models the number of successes in a fixed number of independent trials, each with the same probability of success. The properties of the Binomial distribution are as follows:\n",
    "\n",
    "    1.) The number of trials is fixed and denoted by n.\n",
    "    2.) Each trial is independent of the others.\n",
    "    3.) There are only two possible outcomes for each trial, commonly referred to as success or failure.\n",
    "    4.) The probability of success, denoted by p, is constant for each trial.\n",
    "    5.) The probability of failure, denoted by q = 1 - p, is also constant for each trial.\n",
    "    6.) The random variable X, which represents the number of successes in n trials, follows a Binomial distribution.\n",
    "    Two examples of events where Binomial distribution can be applied are:\n",
    "\n",
    "    1.) Tossing a Coin: If we toss a fair coin n times, each with a probability of success (i.e., getting heads) of 0.5, the number of heads that we get in those n trials follows a Binomial distribution. We can use the Binomial distribution to calculate the probability of getting a certain number of heads in n tosses.\n",
    "\n",
    "    2.) Manufacturing Defects: A manufacturing company produces a large number of products, and each product has a probability of being defective. If we randomly select n products from the production line and count the number of defective products, the number of defects follows a Binomial distribution. We can use the Binomial distribution to calculate the probability of getting a certain number of defects in the sample of n products."
   ]
  },
  {
   "attachments": {},
   "cell_type": "markdown",
   "metadata": {},
   "source": [
    "Q5. Generate a random sample of size 1000 from a binomial distribution with probability of success 0.4 \n",
    "and plot a histogram of the results using matplotlib."
   ]
  },
  {
   "cell_type": "code",
   "execution_count": 3,
   "metadata": {},
   "outputs": [
    {
     "data": {
      "image/png": "[encoded data removed]",
      "text/plain": [
       "<Figure size 432x288 with 1 Axes>"
      ]
     },
     "metadata": {
      "needs_background": "light"
     },
     "output_type": "display_data"
    }
   ],
   "source": [
    "import numpy as np\n",
    "import matplotlib.pyplot as plt\n",
    "\n",
    "# Generate random sample of size 1000 from binomial distribution\n",
    "n = 10 # number of trials\n",
    "p = 0.4 # probability of success\n",
    "sample = np.random.binomial(n, p, size=1000)\n",
    "\n",
    "# Plot histogram of the sample\n",
    "plt.hist(sample, bins=range(n+2), align='left', density=True, edgecolor='black')\n",
    "plt.xlabel('Number of successes')\n",
    "plt.ylabel('Density')\n",
    "plt.title('Histogram of Binomial Distribution')\n",
    "plt.show()\n"
   ]
  },
  {
   "cell_type": "code",
   "execution_count": 5,
   "metadata": {},
   "outputs": [
    {
     "data": {
      "image/png": "[encoded data removed]",
      "text/plain": [
       "<IPython.core.display.Image object>"
      ]
     },
     "execution_count": 5,
     "metadata": {},
     "output_type": "execute_result"
    }
   ],
   "source": [
    "from IPython import display\n",
    "display.Image(\"output6.png\")"
   ]
  },
  {
   "attachments": {},
   "cell_type": "markdown",
   "metadata": {},
   "source": [
    "Q6. Write a Python function to calculate the cumulative distribution function of a Poisson distribution \n",
    "with given mean at a given point."
   ]
  },
  {
   "cell_type": "code",
   "execution_count": 6,
   "metadata": {},
   "outputs": [
    {
     "name": "stdout",
     "output_type": "stream",
     "text": [
      "0.857123460498547\n"
     ]
    }
   ],
   "source": [
    "import math\n",
    "\n",
    "def poisson_cdf(k, mean):\n",
    "    \"\"\"Calculate the cumulative distribution function of a Poisson distribution\n",
    "    at a given point k, with the given mean.\n",
    "    Args:\n",
    "        k (int): The point at which to calculate the CDF.\n",
    "        mean (float): The mean of the Poisson distribution.\n",
    "    Returns:\n",
    "        float: The CDF of the Poisson distribution at the given point k.\n",
    "    \"\"\"\n",
    "    cdf = 0\n",
    "    for i in range(k+1):\n",
    "        cdf += (mean ** i) / (math.factorial(i))\n",
    "    cdf *= math.exp(-mean)\n",
    "    return cdf\n",
    "\n",
    "cdf_at_3 = poisson_cdf(3, 2)\n",
    "print(cdf_at_3)\n"
   ]
  },
  {
   "attachments": {},
   "cell_type": "markdown",
   "metadata": {},
   "source": [
    "Q7. How Binomial distribution different from Poisson distribution?\n",
    "\n",
    "    The Binomial distribution and Poisson distribution are both discrete probability distributions that are used to model the probability of certain events occurring. However, they are used in different contexts and have different properties.\n",
    "\n",
    "    The main differences between the Binomial and Poisson distributions are:\n",
    "\n",
    "    1.) Definition: The Binomial distribution models the number of successes in a fixed number of independent trials, each with the same probability of success. The Poisson distribution models the number of occurrences of a certain event in a fixed interval of time or space.\n",
    "\n",
    "    2.) Number of trials: The Binomial distribution requires a fixed number of trials n, whereas the Poisson distribution does not have a fixed number of trials.\n",
    "\n",
    "    3.) Probability of success: The Binomial distribution assumes a constant probability of success p for each trial, whereas the Poisson distribution assumes that the probability of an event occurring is proportional to the size of the time or space interval being considered.\n",
    "\n",
    "    4.) Mean and Variance: For the Binomial distribution, the mean and variance are both equal to np, where n is the number of trials and p is the probability of success. For the Poisson distribution, the mean and variance are both equal to λ, where λ is the average number of occurrences of the event in the given interval.\n",
    "\n",
    "    5.) Continuity: The Binomial distribution is a discrete distribution, whereas the Poisson distribution is a continuous distribution.\n",
    "\n",
    "    6.) Application: The Binomial distribution is used to model events with a fixed number of trials and a constant probability of success, such as coin tosses or manufacturing defects. The Poisson distribution is used to model events with a variable number of occurrences over a fixed interval of time or space, such as customer arrivals or machine breakdowns.\n",
    "\n",
    "        The Binomial distribution and Poisson distribution have different assumptions and are used in different contexts, but both are useful for modeling and analyzing probabilities of certain events.\n",
    "\n",
    "\n",
    "\n",
    "\n",
    "\n"
   ]
  },
  {
   "attachments": {},
   "cell_type": "markdown",
   "metadata": {},
   "source": [
    "Q8. Generate a random sample of size 1000 from a Poisson distribution with mean 5 and calculate the \n",
    "sample mean and variance."
   ]
  },
  {
   "cell_type": "code",
   "execution_count": 7,
   "metadata": {},
   "outputs": [
    {
     "name": "stdout",
     "output_type": "stream",
     "text": [
      "Sample mean: 4.923\n",
      "Sample variance: 5.009071\n"
     ]
    }
   ],
   "source": [
    "import numpy as np\n",
    "\n",
    "# Generate random sample of size 1000 from Poisson distribution\n",
    "mean = 5\n",
    "sample = np.random.poisson(mean, size=1000)\n",
    "\n",
    "# Calculate sample mean and variance\n",
    "sample_mean = np.mean(sample)\n",
    "sample_var = np.var(sample)\n",
    "\n",
    "print(\"Sample mean:\", sample_mean)\n",
    "print(\"Sample variance:\", sample_var)\n"
   ]
  },
  {
   "attachments": {},
   "cell_type": "markdown",
   "metadata": {},
   "source": [
    "Q9. How mean and variance are related in Binomial distribution and Poisson distribution?\n",
    "\n",
    "        In the Binomial distribution, the mean and variance are both equal to np, where n is the number of trials and p is the probability of success. Therefore, the variance of the Binomial distribution is equal to np(1-p). This means that the variance increases as the probability of success moves away from 0.5, with the largest variance occurring when p=0.5.\n",
    "\n",
    "    In the Poisson distribution, the mean and variance are both equal to λ, where λ is the average number of occurrences of the event in the given interval. This means that the variance of the Poisson distribution is also equal to λ. Therefore, the variance of the Poisson distribution is equal to its mean, and this property is known as the \"equal mean and variance\" property.\n",
    "\n",
    "    This property indicates that in the Poisson distribution, the variability of the distribution is solely determined by its mean. In other words, if the average number of occurrences is high, then the distribution will be more spread out, and if the average number of occurrences is low, then the distribution will be more tightly clustered around the mean.\n",
    "\n",
    "    In the Binomial distribution, the mean and variance are related to the number of trials and the probability of success, while in the Poisson distribution, the mean and variance are equal and related only to the average number of occurrences.\n",
    "\n",
    "    "
   ]
  },
  {
   "attachments": {},
   "cell_type": "markdown",
   "metadata": {},
   "source": [
    "Q10. In normal distribution with respect to mean position, where does the least frequent data appear?\n",
    "\n",
    "        In a normal distribution, the least frequent data appear in the tails of the distribution, farthest away from the mean. This is because the normal distribution is a bell-shaped curve with a symmetric shape, meaning that the probability density is highest around the mean and decreases as we move away from the mean in both directions.\n",
    "\n",
    "    The normal distribution is characterized by its mean (μ) and standard deviation (σ), which determine the position and spread of the distribution, respectively. About 68% of the data falls within one standard deviation of the mean, and about 95% of the data falls within two standard deviations of the mean.\n",
    "\n",
    "    Therefore, the least frequent data in a normal distribution will be found in the tails of the distribution, which are the values that are more than two standard deviations away from the mean. The exact position of the least frequent data will depend on the specific mean and standard deviation of the distribution."
   ]
  },
  {
   "cell_type": "code",
   "execution_count": null,
   "metadata": {},
   "outputs": [],
   "source": []
  }
 ],
 "metadata": {
  "kernelspec": {
   "display_name": "Python 3",
   "language": "python",
   "name": "python3"
  },
  "language_info": {
   "codemirror_mode": {
    "name": "ipython",
    "version": 3
   },
   "file_extension": ".py",
   "mimetype": "text/x-python",
   "name": "python",
   "nbconvert_exporter": "python",
   "pygments_lexer": "ipython3",
   "version": "3.9.10"
  },
  "orig_nbformat": 4
 },
 "nbformat": 4,
 "nbformat_minor": 2
}
