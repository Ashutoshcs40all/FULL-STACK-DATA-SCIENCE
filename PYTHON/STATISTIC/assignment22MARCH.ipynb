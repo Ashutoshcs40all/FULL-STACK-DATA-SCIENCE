{
 "cells": [
  {
   "attachments": {},
   "cell_type": "markdown",
   "metadata": {},
   "source": [
    "    Q1. Pearson correlation coefficient is a measure of the linear relationship between two variables. Suppose you have collected data on the amount of time students spend studying for an exam and their final exam scores. Calculate the Pearson correlation coefficient between these two variables and interpret the result.\n"
   ]
  },
  {
   "cell_type": "code",
   "execution_count": 8,
   "metadata": {},
   "outputs": [
    {
     "name": "stdout",
     "output_type": "stream",
     "text": [
      "Pearson correlation coefficient: 0.9847982464479191\n"
     ]
    }
   ],
   "source": [
    "import numpy as np\n",
    "\n",
    "# Study Time\n",
    "study_time = [5, 3, 7, 4, 6]\n",
    "\n",
    "# Exam Scores\n",
    "exam_scores = [80, 60, 90, 70, 85]\n",
    "\n",
    "# Calculate the Pearson correlation coefficient\n",
    "correlation_coefficient = np.corrcoef(study_time, exam_scores)[0, 1]\n",
    "\n",
    "print(\"Pearson correlation coefficient:\", correlation_coefficient)\n"
   ]
  },
  {
   "attachments": {},
   "cell_type": "markdown",
   "metadata": {},
   "source": [
    "    Q2. Spearman's rank correlation is a measure of the monotonic relationship between two variables. Suppose you have collected data on the amount of sleep individuals get each night and their overall job satisfaction level on a scale of 1 to 10. Calculate the Spearman's rank correlation between these two variables and interpret the result."
   ]
  },
  {
   "cell_type": "code",
   "execution_count": 7,
   "metadata": {},
   "outputs": [
    {
     "name": "stdout",
     "output_type": "stream",
     "text": [
      "Spearman's rank correlation coefficient: 0.6\n"
     ]
    }
   ],
   "source": [
    "import numpy as np\n",
    "from scipy.stats import spearmanr\n",
    "\n",
    "# Amount of Sleep\n",
    "amount_of_sleep = [7.5, 6.0, 8.0, 5.5, 7.0]\n",
    "\n",
    "# Job Satisfaction\n",
    "job_satisfaction = [8, 6, 7, 4, 9]\n",
    "\n",
    "# Calculate the Spearman's rank correlation\n",
    "correlation_coefficient, _ = spearmanr(amount_of_sleep, job_satisfaction)\n",
    "\n",
    "print(\"Spearman's rank correlation coefficient:\", correlation_coefficient)\n"
   ]
  },
  {
   "attachments": {},
   "cell_type": "markdown",
   "metadata": {},
   "source": [
    "    Q3. Suppose you are conducting a study to examine the relationship between the number of hours of exercise per week and body mass index (BMI) in a sample of adults. You collected data on both variables for 50 participants. Calculate the Pearson correlation coefficient and the Spearman's rank correlation between these two variables and compare the results."
   ]
  },
  {
   "cell_type": "code",
   "execution_count": 6,
   "metadata": {},
   "outputs": [
    {
     "name": "stdout",
     "output_type": "stream",
     "text": [
      "Pearson correlation coefficient: -0.8947690723553323\n",
      "Spearman's rank correlation coefficient: -0.8999999999999998\n"
     ]
    }
   ],
   "source": [
    "import numpy as np\n",
    "from scipy.stats import spearmanr\n",
    "\n",
    "# Hours of Exercise\n",
    "hours_of_exercise = [3.5, 2.1, 4.2, 1.8, 5.0]\n",
    "\n",
    "# BMI\n",
    "bmi = [22.1, 25.5, 19.8, 27.3, 21.6]\n",
    "\n",
    "# Calculate the Pearson correlation coefficient\n",
    "correlation_coefficient = np.corrcoef(hours_of_exercise, bmi)[0, 1]\n",
    "\n",
    "# Calculate the Spearman's rank correlation\n",
    "spearman_coefficient, _ = spearmanr(hours_of_exercise, bmi)\n",
    "\n",
    "print(\"Pearson correlation coefficient:\", correlation_coefficient)\n",
    "print(\"Spearman's rank correlation coefficient:\", spearman_coefficient)\n"
   ]
  },
  {
   "attachments": {},
   "cell_type": "markdown",
   "metadata": {},
   "source": [
    "    Q4. A researcher is interested in examining the relationship between the number of hours individuals spend watching television per day and their level of physical activity. The researcher collected data on both variables from a sample of 50 participants. Calculate the Pearson correlation coefficient between these two variables."
   ]
  },
  {
   "cell_type": "code",
   "execution_count": 5,
   "metadata": {},
   "outputs": [
    {
     "name": "stdout",
     "output_type": "stream",
     "text": [
      "Pearson correlation coefficient: 0.8681317423979534\n"
     ]
    }
   ],
   "source": [
    "import numpy as np\n",
    "\n",
    "# Hours of TV\n",
    "hours_of_TV = [3, 2, 4, 1, 5, 6,3,7,9,11,23]\n",
    "\n",
    "# Physical Activity Level\n",
    "physical_activity_level = [6, 5, 4, 7, 3,5,3,1,9,11,22]\n",
    "\n",
    "# Calculate the Pearson correlation coefficient\n",
    "correlation_coefficient = np.corrcoef(hours_of_TV, physical_activity_level)[0, 1]\n",
    "\n",
    "print(\"Pearson correlation coefficient:\", correlation_coefficient)\n"
   ]
  },
  {
   "attachments": {},
   "cell_type": "markdown",
   "metadata": {},
   "source": [
    "    Q5. A survey was conducted to examine the relationship between age and preference for a particular\n",
    "    brand of soft drink. The survey results are shown below:\n",
    "\n",
    "        Age(Years)                                      Soft drink Preference\n",
    "        25                                              Coke\n",
    "        42                                              Pepsi\n",
    "        37                                              Mountain dew\n",
    "        19                                              Coke\n",
    "        31                                              Pepsi  \n",
    "        28                                              Coke   "
   ]
  },
  {
   "cell_type": "code",
   "execution_count": 2,
   "metadata": {},
   "outputs": [
    {
     "name": "stdout",
     "output_type": "stream",
     "text": [
      "Pearson correlation coefficient: 0.7587035441865058\n"
     ]
    }
   ],
   "source": [
    "import numpy as np\n",
    "\n",
    "# Age (Years)\n",
    "age = [25, 42, 37, 19, 31, 28]\n",
    "\n",
    "# Soft drink preference\n",
    "preference = [1, 2, 3, 1, 2, 1]\n",
    "\n",
    "# Calculate the Pearson correlation coefficient\n",
    "correlation_coefficient = np.corrcoef(age, preference)[0, 1]\n",
    "\n",
    "print(\"Pearson correlation coefficient:\", correlation_coefficient)\n"
   ]
  },
  {
   "attachments": {},
   "cell_type": "markdown",
   "metadata": {},
   "source": [
    "    Q6. A company is interested in examining the relationship between the number of sales calls made per day and the number of sales made per week. The company collected data on both variables from a sample of 30 sales representatives. Calculate the Pearson correlation coefficient between these two variables."
   ]
  },
  {
   "cell_type": "code",
   "execution_count": 1,
   "metadata": {},
   "outputs": [
    {
     "name": "stdout",
     "output_type": "stream",
     "text": [
      "Pearson correlation coefficient: 0.9453580852649909\n"
     ]
    }
   ],
   "source": [
    "import numpy as np\n",
    "\n",
    "# Number of sales calls made per day\n",
    "sales_calls_per_day = [10, 12, 8, 15, 9, 11, 13, 10, 12, 14, 16, 9, 11, 13, 15, 12, 11, 14, 10, 9, 8, 12, 10, 13, 14, 15, 11, 9, 10, 12]\n",
    "\n",
    "# Number of sales made per week\n",
    "sales_per_week = [2, 3, 1, 4, 2, 3, 3, 2, 3, 4, 4, 2, 3, 3, 4, 3, 3, 4, 2, 2, 1, 3, 2, 4, 4, 4, 3, 2, 2, 3]\n",
    "\n",
    "# Calculate the Pearson correlation coefficient\n",
    "correlation_coefficient = np.corrcoef(sales_calls_per_day, sales_per_week)[0, 1]\n",
    "\n",
    "print(\"Pearson correlation coefficient:\", correlation_coefficient)\n"
   ]
  },
  {
   "attachments": {},
   "cell_type": "markdown",
   "metadata": {},
   "source": [
    "    The Pearson correlation coefficient ranges from -1 to 1. A positive correlation coefficient indicates a positive linear relationship between the variables, meaning that as the number of sales calls made per day increases, the number of sales made per week tends to increase as well. A negative correlation coefficient indicates a negative linear relationship, where an increase in the number of sales calls made per day is associated with a decrease in the number of sales made per week. A correlation coefficient close to 0 indicates no significant linear relationship between the variables.\n",
    "\n",
    "    By calculating the Pearson correlation coefficient, the company can gain insights into the strength and direction of the relationship between the number of sales calls and the number of sales, which can help in evaluating the effectiveness of their sales strategies and making informed business decisions."
   ]
  },
  {
   "cell_type": "code",
   "execution_count": null,
   "metadata": {},
   "outputs": [],
   "source": []
  }
 ],
 "metadata": {
  "kernelspec": {
   "display_name": "Python 3",
   "language": "python",
   "name": "python3"
  },
  "language_info": {
   "codemirror_mode": {
    "name": "ipython",
    "version": 3
   },
   "file_extension": ".py",
   "mimetype": "text/x-python",
   "name": "python",
   "nbconvert_exporter": "python",
   "pygments_lexer": "ipython3",
   "version": "3.9.10"
  },
  "orig_nbformat": 4
 },
 "nbformat": 4,
 "nbformat_minor": 2
}
