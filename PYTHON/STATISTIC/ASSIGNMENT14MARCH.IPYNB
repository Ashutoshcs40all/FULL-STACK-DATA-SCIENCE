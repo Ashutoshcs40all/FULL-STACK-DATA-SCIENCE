{
 "cells": [
  {
   "attachments": {},
   "cell_type": "markdown",
   "metadata": {},
   "source": [
    "Q1. Write a Python function that takes in two arrays of data and calculates the F-value for a variance ratio \n",
    "test. The function should return the F-value and the corresponding p-value for the test."
   ]
  },
  {
   "cell_type": "code",
   "execution_count": 1,
   "metadata": {},
   "outputs": [
    {
     "name": "stdout",
     "output_type": "stream",
     "text": [
      "F-value:  3.6\n",
      "p-value:  0.0943497728424377\n"
     ]
    }
   ],
   "source": [
    "from scipy.stats import f_oneway\n",
    "\n",
    "data1 = [1, 2, 3, 4, 5]\n",
    "data2 = [2, 4, 6, 8, 10]\n",
    "\n",
    "def variance_ratio_test(data1, data2):\n",
    "    f_value, p_value = f_oneway(data1, data2)\n",
    "    return f_value, p_value\n",
    "\n",
    "f_value, p_value = variance_ratio_test(data1, data2)\n",
    "print(\"F-value: \", f_value)\n",
    "print(\"p-value: \", p_value)"
   ]
  },
  {
   "attachments": {},
   "cell_type": "markdown",
   "metadata": {},
   "source": [
    "Q2. Given a significance level of 0.05 and the degrees of freedom for the numerator and denominator of an \n",
    "F-distribution, write a Python function that returns the critical F-value for a two-tailed test."
   ]
  },
  {
   "cell_type": "code",
   "execution_count": 2,
   "metadata": {},
   "outputs": [
    {
     "name": "stdout",
     "output_type": "stream",
     "text": [
      "Critical F-value:  4.461255495919247\n"
     ]
    }
   ],
   "source": [
    "from scipy.stats import f\n",
    "\n",
    "num_df = 2\n",
    "denom_df = 20\n",
    "alpha = 0.05\n",
    "\n",
    "def critical_f_value(num_df, denom_df, alpha=0.05):\n",
    "    # Calculate the critical F-value\n",
    "    f_crit = f.ppf(1-alpha/2, num_df, denom_df)\n",
    "    \n",
    "    return f_crit\n",
    "f_crit = critical_f_value(num_df, denom_df, alpha)\n",
    "print(\"Critical F-value: \", f_crit)"
   ]
  },
  {
   "attachments": {},
   "cell_type": "markdown",
   "metadata": {},
   "source": [
    "Q3. Write a Python program that generates random samples from two normal distributions with known \n",
    "variances and uses an F-test to determine if the variances are equal. The program should output the F-value, degrees of freedom, and p-value for the test."
   ]
  },
  {
   "cell_type": "code",
   "execution_count": 3,
   "metadata": {},
   "outputs": [
    {
     "name": "stdout",
     "output_type": "stream",
     "text": [
      "F-value:  0.6020513333352552\n",
      "Degrees of freedom (numerator, denominator):  19 ,  24\n",
      "p-value:  0.26230564743629287\n"
     ]
    }
   ],
   "source": [
    "import numpy as np\n",
    "from scipy.stats import f\n",
    "\n",
    "# Set random seed for reproducibility\n",
    "np.random.seed(1234)\n",
    "\n",
    "# Generate two normal distributions with known variances\n",
    "mu1 = 5\n",
    "mu2 = 5\n",
    "sigma1 = 2\n",
    "sigma2 = 3\n",
    "n1 = 20\n",
    "n2 = 25\n",
    "data1 = np.random.normal(mu1, sigma1, n1)\n",
    "data2 = np.random.normal(mu2, sigma2, n2)\n",
    "\n",
    "# Calculate the F-value, degrees of freedom, and p-value for the F-test\n",
    "f_value = np.var(data1, ddof=1) / np.var(data2, ddof=1)\n",
    "dfn = n1 - 1\n",
    "dfd = n2 - 1\n",
    "p_value = 2 * min(f.cdf(f_value, dfn, dfd), 1 - f.cdf(f_value, dfn, dfd))\n",
    "\n",
    "# Output the results\n",
    "print(\"F-value: \", f_value)\n",
    "print(\"Degrees of freedom (numerator, denominator): \", dfn, \", \", dfd)\n",
    "print(\"p-value: \", p_value)\n"
   ]
  },
  {
   "attachments": {},
   "cell_type": "markdown",
   "metadata": {},
   "source": [
    "Q4.The variances of two populations are known to be 10 and 15. A sample of 12 observations is taken from \n",
    "each population. Conduct an F-test at the 5% significance level to determine if the variances are \n",
    "significantly different."
   ]
  },
  {
   "cell_type": "code",
   "execution_count": 4,
   "metadata": {},
   "outputs": [
    {
     "name": "stdout",
     "output_type": "stream",
     "text": [
      "Sample variance of population 1: 12.305836871110602\n",
      "Sample variance of population 2: 13.93185376486066\n",
      "F-statistic: 0.8832878293733425\n",
      "Critical value: 3.473699051085809\n",
      "p-value: 0.8406030712310796\n",
      "Fail to reject the null hypothesis that the variances are equal.\n"
     ]
    }
   ],
   "source": [
    "import numpy as np\n",
    "from scipy.stats import f\n",
    "\n",
    "# Set the significance level and sample sizes\n",
    "alpha = 0.05\n",
    "n1 = 12\n",
    "n2 = 12\n",
    "\n",
    "# Set the known variances of the populations\n",
    "var1 = 10\n",
    "var2 = 15\n",
    "\n",
    "# Generate random samples from the two populations\n",
    "np.random.seed(1234)\n",
    "pop1 = np.random.normal(0, np.sqrt(var1), n1)\n",
    "pop2 = np.random.normal(0, np.sqrt(var2), n2)\n",
    "\n",
    "# Calculate the sample variances\n",
    "sample_var1 = np.var(pop1, ddof=1)\n",
    "sample_var2 = np.var(pop2, ddof=1)\n",
    "\n",
    "# Calculate the F-statistic\n",
    "F = sample_var1 / sample_var2\n",
    "\n",
    "# Calculate the critical value for the F-distribution\n",
    "dfn = n1 - 1\n",
    "dfd = n2 - 1\n",
    "critical_value = f.ppf(1 - alpha/2, dfn, dfd)\n",
    "\n",
    "# Calculate the p-value\n",
    "p_value = 2 * min(f.cdf(F, dfn, dfd), 1 - f.cdf(F, dfn, dfd))\n",
    "\n",
    "# Print the results\n",
    "print(\"Sample variance of population 1:\", sample_var1)\n",
    "print(\"Sample variance of population 2:\", sample_var2)\n",
    "print(\"F-statistic:\", F)\n",
    "print(\"Critical value:\", critical_value)\n",
    "print(\"p-value:\", p_value)\n",
    "\n",
    "# Check if the null hypothesis is rejected or not\n",
    "if F > critical_value:\n",
    "    print(\"Reject the null hypothesis that the variances are equal.\")\n",
    "else:\n",
    "    print(\"Fail to reject the null hypothesis that the variances are equal.\")\n"
   ]
  },
  {
   "attachments": {},
   "cell_type": "markdown",
   "metadata": {},
   "source": [
    "Q5. A manufacturer claims that the variance of the diameter of a certain product is 0.005. A sample of 25 \n",
    "products is taken, and the sample variance is found to be 0.006. Conduct an F-test at the 1% significance \n",
    "level to determine if the claim is justified."
   ]
  },
  {
   "cell_type": "code",
   "execution_count": 5,
   "metadata": {},
   "outputs": [
    {
     "name": "stdout",
     "output_type": "stream",
     "text": [
      "Claimed variance: 0.005\n",
      "Sample variance: 0.006\n",
      "F-statistic: 1.2\n",
      "Critical value: nan\n",
      "p-value: nan\n",
      "Fail to reject the null hypothesis that the variance is equal to the claimed variance.\n"
     ]
    }
   ],
   "source": [
    "import numpy as np\n",
    "from scipy.stats import f\n",
    "\n",
    "# Set the significance level and sample size\n",
    "alpha = 0.01\n",
    "n = 25\n",
    "\n",
    "# Set the claimed variance and sample variance\n",
    "claimed_var = 0.005\n",
    "sample_var = 0.006\n",
    "\n",
    "# Calculate the F-statistic\n",
    "F = sample_var / claimed_var\n",
    "\n",
    "# Calculate the critical value for the F-distribution\n",
    "dfn = n - 1\n",
    "dfd = 0 # degrees of freedom for the denominator\n",
    "critical_value = f.ppf(1 - alpha, dfn, dfd)\n",
    "\n",
    "# Calculate the p-value\n",
    "p_value = 1 - f.cdf(F, dfn, dfd)\n",
    "\n",
    "# Print the results\n",
    "print(\"Claimed variance:\", claimed_var)\n",
    "print(\"Sample variance:\", sample_var)\n",
    "print(\"F-statistic:\", F)\n",
    "print(\"Critical value:\", critical_value)\n",
    "print(\"p-value:\", p_value)\n",
    "\n",
    "# Check if the null hypothesis is rejected or not\n",
    "if F > critical_value:\n",
    "    print(\"Reject the null hypothesis that the variance is equal to the claimed variance.\")\n",
    "else:\n",
    "    print(\"Fail to reject the null hypothesis that the variance is equal to the claimed variance.\")\n"
   ]
  },
  {
   "attachments": {},
   "cell_type": "markdown",
   "metadata": {},
   "source": [
    "Q6. Write a Python function that takes in the degrees of freedom for the numerator and denominator of an \n",
    "F-distribution and calculates the mean and variance of the distribution. The function should return the \n",
    "mean and variance as a tuple.\n",
    "\n",
    "        This function uses the f module from the scipy.stats library. It takes in the degrees of freedom for the numerator (dfn) and denominator (dfd) of an F-distribution and calculates the mean and variance of the distribution using the formulas:\n",
    "\n",
    "    1.) Mean: dfd / (dfd - 2)\n",
    "    2.) Variance: 2 * dfd^2 * (dfn + dfd - 2) / (dfn * (dfd - 2)^2 * (dfd - 4))\n",
    "The function returns the mean and variance as a tuple. You can call this function with the desired values of dfn and dfd to get the mean and variance of the corresponding F-distribution."
   ]
  },
  {
   "cell_type": "code",
   "execution_count": 6,
   "metadata": {},
   "outputs": [],
   "source": [
    "from scipy.stats import f\n",
    "\n",
    "def f_dist_mean_var(dfn, dfd):\n",
    "    \"\"\"\n",
    "    Calculates the mean and variance of an F-distribution given the degrees of freedom\n",
    "    for the numerator and denominator.\n",
    "    \n",
    "    Parameters:\n",
    "    dfn (int): degrees of freedom for the numerator\n",
    "    dfd (int): degrees of freedom for the denominator\n",
    "    \n",
    "    Returns:\n",
    "    tuple: mean and variance of the F-distribution\n",
    "    \"\"\"\n",
    "    mean = dfd / (dfd - 2)\n",
    "    var = (2 * dfd**2 * (dfn + dfd - 2)) / (dfn * (dfd - 2)**2 * (dfd - 4))\n",
    "    \n",
    "    return mean, var\n"
   ]
  },
  {
   "attachments": {},
   "cell_type": "markdown",
   "metadata": {},
   "source": [
    "Q7. A random sample of 10 measurements is taken from a normal population with unknown variance. The \n",
    "sample variance is found to be 25. Another random sample of 15 measurements is taken from another \n",
    "normal population with unknown variance, and the sample variance is found to be 20. Conduct an F-test \n",
    "at the 10% significance level to determine if the variances are significantly different."
   ]
  },
  {
   "cell_type": "code",
   "execution_count": 12,
   "metadata": {},
   "outputs": [
    {
     "name": "stdout",
     "output_type": "stream",
     "text": [
      "The variances are not significantly different.\n"
     ]
    }
   ],
   "source": [
    "from scipy.stats import f\n",
    "\n",
    "n1 = 10\n",
    "sigma1 = 25\n",
    "n2 = 15\n",
    "sigma2 = 20\n",
    "alpha = 0.1\n",
    "df1 = n1 - 1\n",
    "df2 = n2 - 1\n",
    "\n",
    "F = sigma1 / sigma2\n",
    "p = 2 * min(f.cdf(F, df1, df2), 1 - f.cdf(F, df1, df2))\n",
    "\n",
    "if p < alpha:\n",
    "    print(\"The variances are significantly different.\")\n",
    "else:\n",
    "    print(\"The variances are not significantly different.\")\n"
   ]
  },
  {
   "attachments": {},
   "cell_type": "markdown",
   "metadata": {},
   "source": [
    "Q8. The following data represent the waiting times in minutes at two different restaurants on a Saturday \n",
    "night: Restaurant A: 24, 25, 28, 23, 22, 20, 27; Restaurant B: 31, 33, 35, 30, 32, 36. Conduct an F-test at the 5% significance level to determine if the variances are significantly different.\n",
    "\n",
    "    We can conduct an F-test to test the equality of variances between the two groups using the following steps:\n",
    "\n",
    "    1.) Calculate the sample variances for both groups.\n",
    "    2.) Calculate the ratio of the sample variances, which follows an F-distribution with degrees of freedom (n1-1) and (n2-1), where n1 and n2 are the sample sizes for each group.\n",
    "    3.) Calculate the p-value associated with the F-statistic using the F-distribution.\n",
    "    4.) Compare the p-value to the significance level (0.05) and make a decision."
   ]
  },
  {
   "cell_type": "code",
   "execution_count": 11,
   "metadata": {},
   "outputs": [
    {
     "name": "stdout",
     "output_type": "stream",
     "text": [
      "F-statistic: 1.4551907719609583\n",
      "p-value: 0.6512592126031258\n",
      "Fail to reject null hypothesis, variances are not significantly different.\n"
     ]
    }
   ],
   "source": [
    "import numpy as np\n",
    "from scipy.stats import f\n",
    "\n",
    "# Data for Restaurant A and Restaurant B\n",
    "a = np.array([24, 25, 28, 23, 22, 20, 27])\n",
    "b = np.array([31, 33, 35, 30, 32, 36])\n",
    "\n",
    "# Calculate sample variances\n",
    "var_a = np.var(a, ddof=1)\n",
    "var_b = np.var(b, ddof=1)\n",
    "\n",
    "# Calculate the F-statistic and p-value\n",
    "f_stat = var_a / var_b\n",
    "p_val = f.cdf(f_stat, len(a)-1, len(b)-1)\n",
    "\n",
    "# Print the results\n",
    "print(\"F-statistic:\", f_stat)\n",
    "print(\"p-value:\", p_val)\n",
    "\n",
    "# Check if p-value is less than the significance level\n",
    "if p_val < 0.05:\n",
    "    print(\"Reject null hypothesis, variances are significantly different.\")\n",
    "else:\n",
    "    print(\"Fail to reject null hypothesis, variances are not significantly different.\")\n"
   ]
  },
  {
   "attachments": {},
   "cell_type": "markdown",
   "metadata": {},
   "source": [
    "Q9. The following data represent the test scores of two groups of students: Group A: 80, 85, 90, 92, 87, 83; \n",
    "Group B: 75, 78, 82, 79, 81, 84. Conduct an F-test at the 1% significance level to determine if the variances \n",
    "are significantly different."
   ]
  },
  {
   "cell_type": "code",
   "execution_count": 13,
   "metadata": {},
   "outputs": [
    {
     "name": "stdout",
     "output_type": "stream",
     "text": [
      "The variances are not significantly different.\n"
     ]
    }
   ],
   "source": [
    "from scipy.stats import f\n",
    "\n",
    "groupA = [80, 85, 90, 92, 87, 83]\n",
    "groupB = [75, 78, 82, 79, 81, 84]\n",
    "\n",
    "n1 = len(groupA)\n",
    "var1 = sum((x - sum(groupA)/n1)**2 for x in groupA) / (n1 - 1)\n",
    "n2 = len(groupB)\n",
    "var2 = sum((x - sum(groupB)/n2)**2 for x in groupB) / (n2 - 1)\n",
    "\n",
    "alpha = 0.01\n",
    "df1 = n1 - 1\n",
    "df2 = n2 - 1\n",
    "\n",
    "F = var1 / var2\n",
    "p = 2 * min(f.cdf(F, df1, df2), 1 - f.cdf(F, df1, df2))\n",
    "\n",
    "if p < alpha:\n",
    "    print(\"The variances are significantly different.\")\n",
    "else:\n",
    "    print(\"The variances are not significantly different.\")\n"
   ]
  }
 ],
 "metadata": {
  "kernelspec": {
   "display_name": "Python 3",
   "language": "python",
   "name": "python3"
  },
  "language_info": {
   "codemirror_mode": {
    "name": "ipython",
    "version": 3
   },
   "file_extension": ".py",
   "mimetype": "text/x-python",
   "name": "python",
   "nbconvert_exporter": "python",
   "pygments_lexer": "ipython3",
   "version": "3.9.10"
  },
  "orig_nbformat": 4
 },
 "nbformat": 4,
 "nbformat_minor": 2
}
