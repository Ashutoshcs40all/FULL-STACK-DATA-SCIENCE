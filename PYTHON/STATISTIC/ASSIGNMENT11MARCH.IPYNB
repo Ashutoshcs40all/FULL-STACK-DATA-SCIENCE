{
 "cells": [
  {
   "attachments": {},
   "cell_type": "markdown",
   "metadata": {},
   "source": [
    "Q1: What is the difference between a t-test and a z-test? Provide an example scenario where you would \n",
    "use each type of test.\n",
    "\n",
    "    The main difference between a t-test and a z-test is that a z-test is used when the population standard deviation is known, while a t-test is used when the population standard deviation is unknown and must be estimated from the sample.\n",
    "\n",
    "    A z-test is more appropriate when the sample size is large (typically above 30), while a t-test is more appropriate when the sample size is small (typically below 30).\n",
    "\n",
    "Here are example scenarios where you would use each type of test:\n",
    "\n",
    "    1.) Z-Test: Suppose we want to test whether the mean height of all 18-year-old males in the United States is equal to 70 inches. We have access to a large sample of heights and know the population standard deviation is 3 inches. In this case, we can use a z-test to test the null hypothesis that the mean height is equal to 70 inches.\n",
    "\n",
    "    2.) T-Test: Suppose we want to test whether there is a significant difference in the mean time it takes two groups of workers to complete a task. We have two independent samples of sizes 10 and 12, respectively. We do not know the population standard deviation, but we can estimate it from the sample. In this case, we can use a two-sample t-test to test the null hypothesis that the population means of the two groups are equal.\n",
    "\n",
    "    In summary, a z-test is used when the population standard deviation is known, the sample size is large, and the data is normally distributed. A t-test is used when the population standard deviation is unknown, the sample size is small, and the data is normally distributed."
   ]
  },
  {
   "attachments": {},
   "cell_type": "markdown",
   "metadata": {},
   "source": [
    "Q2: Differentiate between one-tailed and two-tailed tests.\n",
    "\n",
    "    One-tailed and two-tailed tests are types of hypothesis tests used in statistical analysis.\n",
    "\n",
    "    A one-tailed test, also known as a directional test, is a statistical test where the null hypothesis is rejected in favor of an alternative hypothesis in only one direction. This means that the test is designed to detect an effect in a specific direction. For example, if we want to test whether a new drug is better than an existing drug, we might use a one-tailed test to determine if the new drug is statistically better than the existing drug.\n",
    "\n",
    "    A two-tailed test, also known as a non-directional test, is a statistical test where the null hypothesis is rejected in favor of an alternative hypothesis in both directions. This means that the test is designed to detect a difference, whether it is positive or negative. For example, if we want to test whether a new teaching method improves test scores, we might use a two-tailed test to determine if the new teaching method is statistically different from the old method.\n",
    "\n",
    "    The choice between a one-tailed and two-tailed test depends on the research question being asked and the directionality of the effect being tested. In general, a one-tailed test is more powerful and requires a smaller sample size to detect an effect, but it is only appropriate when there is a strong theoretical or empirical basis for predicting the direction of the effect. A two-tailed test, on the other hand, is more conservative and is appropriate when there is no strong prior expectation about the direction of the effect."
   ]
  },
  {
   "attachments": {},
   "cell_type": "markdown",
   "metadata": {},
   "source": [
    "Q3: Explain the concept of Type 1 and Type 2 errors in hypothesis testing. Provide an example scenario for \n",
    "each type of error.\n",
    "\n",
    "    Type 1 and Type 2 errors are two types of errors that can occur in hypothesis testing.\n",
    "\n",
    "    Type 1 error occurs when we reject the null hypothesis when it is actually true. In other words, we conclude that there is a significant effect when in reality there is no effect. The probability of making a Type 1 error is denoted by alpha (α) and is equal to the level of significance we set for our test. In statistical testing, we typically set the level of significance to 0.05 (or 5%) or 0.01 (or 1%).\n",
    "\n",
    "    An example scenario of a Type 1 error is when a company releases a new drug after conducting a clinical trial. The null hypothesis is that the drug has no effect on the disease, and the alternative hypothesis is that the drug has a positive effect on the disease. If the company rejects the null hypothesis and releases the drug to the market based on the results of the trial, but later it turns out that the drug has no effect on the disease, then the company has made a Type 1 error.\n",
    "\n",
    "    Type 2 error occurs when we fail to reject the null hypothesis when it is actually false. In other words, we conclude that there is no significant effect when in reality there is an effect. The probability of making a Type II error is denoted by beta (β) and is related to the power of the test, which is the probability of correctly rejecting the null hypothesis when it is false.\n",
    "\n",
    "    An example scenario of a Type 2 error is when a company conducts a clinical trial for a new drug and fails to reject the null hypothesis that the drug has no effect on the disease, even though the drug actually has a positive effect on the disease. In this case, the company may decide not to release the drug to the market, and patients who could have benefited from the drug are not able to access it.\n",
    "\n",
    "    In summary, Type 1 error occurs when we reject a true null hypothesis, while Type 2 error occurs when we fail to reject a false null hypothesis. Both types of errors have implications for decision-making and should be minimized in hypothesis testing."
   ]
  },
  {
   "attachments": {},
   "cell_type": "markdown",
   "metadata": {},
   "source": [
    "Q4:  Explain Bayes's theorem with an example.\n",
    "\n",
    "    Bayes's theorem is a fundamental concept in probability theory and statistics that describes how to update the probability of a hypothesis based on new evidence. It is named after the Reverend Thomas Bayes, an 18th-century British statistician and philosopher.\n",
    "\n",
    "    Bayes's theorem can be stated mathematically as follows:\n",
    "\n",
    "P(H|E) = P(E|H) x P(H) / P(E)\n",
    "\n",
    "    where:\n",
    "\n",
    "            -- P(H|E) is the probability of hypothesis H given the observed evidence E\n",
    "\n",
    "            -- P(E|H) is the probability of observing evidence E given that hypothesis H is true\n",
    "\n",
    "            -- P(H) is the prior probability of hypothesis H before observing the evidence E\n",
    "\n",
    "            -- P(E) is the probability of observing the evidence E, regardless of the hypothesis\n",
    "    \n",
    "    In other words, Bayes's theorem tells us how to revise our beliefs about a hypothesis based on new evidence.\n",
    "\n",
    "    Here is an example scenario to illustrate Bayes's theorem:\n",
    "\n",
    "    Suppose there is a rare disease that affects 1% of the population. A diagnostic test has been developed that is 95% accurate, meaning that it correctly identifies 95% of people with the disease and 95% of people without the disease.\n",
    "\n",
    "    If a person tests positive for the disease, what is the probability that they actually have the disease?\n",
    "\n",
    "    Let's use Bayes's theorem to answer this question. We can define the following:\n",
    "\n",
    "-- H: the hypothesis that the person has the disease\n",
    "\n",
    "-- E: the evidence that the person tests positive for the disease\n",
    "\n",
    "        We want to calculate P(H|E), the probability of the person having the disease given that they test positive.\n",
    "\n",
    "    We know that the prior probability of the person having the disease is P(H) = 0.01 (1% of the population has the disease). We also know that the accuracy of the test is P(E|H) = 0.95 (if the person has the disease, the test correctly identifies it 95% of the time) and P(E|~H) = 0.05 (if the person does not have the disease, the test incorrectly identifies them as having the disease 5% of the time).\n",
    "\n",
    "    Using Bayes's theorem, we can calculate:\n",
    "\n",
    "P(H|E) = P(E|H) x P(H) / P(E)\n",
    "\n",
    "P(E) = P(E|H) x P(H) + P(E|~H) x P(~H) # using the law of total probability\n",
    "\n",
    "P(E) = (0.95 x 0.01) + (0.05 x 0.99) = 0.059\n",
    "\n",
    "P(H|E) = (0.95 x 0.01) / 0.059 = 0.161 (approximately)\n",
    "\n",
    "    This means that if a person tests positive for the disease, the probability that they actually have the disease is only 16.1%, despite the test being 95% accurate. This is because the disease is rare, and the false positives (5% of the time) add up to a substantial proportion of the positive test results.\n"
   ]
  },
  {
   "attachments": {},
   "cell_type": "markdown",
   "metadata": {},
   "source": [
    "Q5: What is a confidence interval? How to calculate the confidence interval, explain with an example.\n",
    "\n",
    "    A confidence interval is a range of values that is likely to contain the true value of a population parameter with a specified level of confidence. In other words, it is an estimate of where the true population parameter lies based on a sample of data.\n",
    "\n",
    "    The level of confidence represents the percentage of intervals that would include the true population parameter if the sampling and estimation process were repeated many times. Common levels of confidence are 90%, 95%, and 99%.\n",
    "\n",
    "    To calculate a confidence interval, we need to determine the point estimate of the population parameter (usually the sample mean), the standard error of the estimate (which takes into account the sample size and the variability of the sample), and the level of confidence desired.\n",
    "\n",
    "    Here is an example of how to calculate a confidence interval:\n",
    "\n",
    "    Suppose a researcher wants to estimate the average height of all adult men in a city. They take a random sample of 100 men and measure their heights. The sample mean height is 175 cm, and the sample standard deviation is 8 cm.\n",
    "\n",
    "    The researcher wants to calculate a 95% confidence interval for the true population mean height.\n",
    "\n",
    "    The formula for a confidence interval for the population mean is:\n",
    "\n",
    "CI = X̄ ± Zα/2 * SE\n",
    "\n",
    "    where:\n",
    "\n",
    "    -- X̄ is the sample mean\n",
    "    -- Zα/2 is the critical value from the standard normal distribution that corresponds to the desired level of confidence (α/2 represents the tail probability, so for a 95% confidence interval, α/2 = 0.025 and Zα/2 = 1.96)\n",
    "    -- SE is the standard error of the estimate, calculated as s/√n where s is the sample standard deviation and n is the sample size.\n",
    "-- Substituting the values from the example, we get:\n",
    "\n",
    "CI = 175 ± 1.96 * 8/√100\n",
    "\n",
    "CI = 175 ± 1.57\n",
    "\n",
    "    The 95% confidence interval for the true population mean height is (173.43, 176.57).\n",
    "\n",
    "    This means that if the sampling and estimation process were repeated many times, we would expect the true population mean height to be contained within this interval in 95% of the cases. We can be 95% confident that the true population mean height lies somewhere between 173.43 cm and 176.57 cm based on the sample of 100 men that we measured."
   ]
  },
  {
   "attachments": {},
   "cell_type": "markdown",
   "metadata": {},
   "source": [
    "Q6. Use Bayes' Theorem to calculate the probability of an event occurring given prior knowledge of the \n",
    "event's probability and new evidence. Provide a sample problem and solution.\n",
    "\n",
    "    Bayes' theorem is a mathematical formula that describes the probability of an event occurring given prior knowledge of the event's probability and new evidence. The formula is as follows:\n",
    "\n",
    "P(A|B) = P(B|A) * P(A) / P(B)\n",
    "\n",
    "    Where:\n",
    "\n",
    "    -- P(A|B) is the probability of A given B\n",
    "\n",
    "    -- P(B|A) is the probability of B given A\n",
    "\n",
    "    -- P(A) is the prior probability of A\n",
    "\n",
    "    -- P(B) is the prior probability of B\n",
    "\n",
    "    Here's a sample problem and solution in Python:\n",
    "\n",
    "Problem: A medical test for a certain disease is known to be 95% accurate. That is, if a person has the disease, the test will correctly identify it as positive 95% of the time. If a person does not have the disease, the test will correctly identify it as negative 95% of the time. The disease affects 1 in 10,000 people. If a person tests positive, what is the probability that they actually have the disease?"
   ]
  },
  {
   "cell_type": "code",
   "execution_count": 1,
   "metadata": {},
   "outputs": [
    {
     "name": "stdout",
     "output_type": "stream",
     "text": [
      "The probability of having the disease given a positive test is: 0.0018965861449391096\n"
     ]
    }
   ],
   "source": [
    "# prior probability of having the disease\n",
    "prior_prob = 0.0001\n",
    "\n",
    "# probability of a positive test given the disease\n",
    "prob_pos_given_disease = 0.95\n",
    "\n",
    "# probability of a positive test given no disease\n",
    "prob_pos_given_no_disease = 0.05\n",
    "\n",
    "# probability of a positive test\n",
    "prob_pos = prior_prob * prob_pos_given_disease + (1 - prior_prob) * prob_pos_given_no_disease\n",
    "\n",
    "# probability of having the disease given a positive test\n",
    "post_prob = (prior_prob * prob_pos_given_disease) / prob_pos\n",
    "\n",
    "print(\"The probability of having the disease given a positive test is:\", post_prob)\n"
   ]
  },
  {
   "attachments": {},
   "cell_type": "markdown",
   "metadata": {},
   "source": [
    "Q7. Calculate the 95% confidence interval for a sample of data with a mean of 50 and a standard deviation \n",
    "of 5. Interpret the results.\n",
    "\n",
    "    To calculate the 95% confidence interval for a sample of data with a mean of 50 and a standard deviation of 5, we can use the following formula:\n",
    "\n",
    "CI = x̄ ± z*(σ/√n)\n",
    "\n",
    "    where:\n",
    "    -- x̄ is the sample mean\n",
    "    -- σ is the population standard deviation (or sample standard deviation if the population standard deviation is unknown)\n",
    "    -- n is the sample size\n",
    "    -- z is the z-score for the desired confidence level\n",
    "\n",
    "    For a 95% confidence interval, the z-score is 1.96. Substituting the values given in the problem, we get:\n",
    "\n",
    "CI = 50 ± 1.96*(5/√n)\n",
    "\n",
    "    To calculate the range of the confidence interval, we need to determine the sample size (n). Since the sample size is not given in the problem, let's assume a sample size of 100. Substituting this value, we get:\n",
    "\n",
    "CI = 50 ± 1.96*(5/√100)\n",
    "CI = 50 ± 0.98"
   ]
  },
  {
   "cell_type": "code",
   "execution_count": 1,
   "metadata": {},
   "outputs": [
    {
     "name": "stdout",
     "output_type": "stream",
     "text": [
      "The 95% confidence interval is: (49.02, 50.98)\n"
     ]
    }
   ],
   "source": [
    "import math\n",
    "\n",
    "sample_mean = 50\n",
    "sample_std = 5\n",
    "sample_size = 100\n",
    "z_score = 1.96\n",
    "\n",
    "margin_of_error = z_score * (sample_std / math.sqrt(sample_size))\n",
    "confidence_interval = (sample_mean - margin_of_error, sample_mean + margin_of_error)\n",
    "\n",
    "print(f\"The 95% confidence interval is: {confidence_interval}\")\n"
   ]
  },
  {
   "attachments": {},
   "cell_type": "markdown",
   "metadata": {},
   "source": [
    "Q8. What is the margin of error in a confidence interval? How does sample size affect the margin of error? \n",
    "Provide an example of a scenario where a larger sample size would result in a smaller margin of error.\n",
    "\n",
    "    The margin of error in a confidence interval is the range of values that is added or subtracted from the point estimate of a population parameter to create an interval that is likely to contain the true value of the parameter with a certain level of confidence. It represents the maximum amount of error we can tolerate in our estimate of the population parameter.\n",
    "\n",
    "    The margin of error is affected by several factors, including the sample size, the level of confidence, and the variability in the sample data. A larger sample size generally leads to a smaller margin of error, while a smaller sample size tends to result in a larger margin of error. This is because a larger sample size provides more information about the population, which reduces the uncertainty associated with the estimate.\n",
    "\n",
    "    For example, suppose we want to estimate the proportion of voters in a state who support a particular candidate, and we take a random sample of 500 voters. If we calculate a 95% confidence interval using this sample, we might get a margin of error of +/- 4%. This means that we are 95% confident that the true proportion of voters who support the candidate falls within the range of 46% to 54% (i.e., the point estimate of 50% plus or minus the margin of error of 4%).\n",
    "\n",
    "    Now, suppose we take a larger sample of 1,000 voters. If we calculate a 95% confidence interval using this sample, we might get a margin of error of +/- 3%. This means that we are 95% confident that the true proportion of voters who support the candidate falls within the range of 47% to 53% (i.e., the point estimate of 50% plus or minus the margin of error of 3%). Note that the margin of error has decreased from 4% to 3% due to the larger sample size.\n",
    "\n",
    "    A larger sample size generally leads to a smaller margin of error, while a smaller sample size tends to result in a larger margin of error. This is because a larger sample size provides more information about the population, which reduces the uncertainty associated with the estimate.\n"
   ]
  },
  {
   "attachments": {},
   "cell_type": "markdown",
   "metadata": {},
   "source": [
    "Q9. Calculate the z-score for a data point with a value of 75, a population mean of 70, and a population \n",
    "standard deviation of 5. Interpret the results.\n",
    "\n",
    "    To calculate the z-score for a data point with a value of 75, we can use the formula:\n",
    "\n",
    "z = (x - mu) / sigma\n",
    "\n",
    "    where x is the value of the data point, mu is the population mean, and sigma is the population standard deviation.\n",
    "\n",
    "    In this case, x = 75, mu = 70, and sigma = 5, so:\n",
    "\n",
    "z = (75 - 70) / 5\n",
    "z = 1\n",
    "\n",
    "    So the z-score for this data point is 1."
   ]
  },
  {
   "cell_type": "code",
   "execution_count": 2,
   "metadata": {},
   "outputs": [
    {
     "name": "stdout",
     "output_type": "stream",
     "text": [
      "The z-score for the data point with value 75 is 1.0\n"
     ]
    }
   ],
   "source": [
    "x = 75\n",
    "mu = 70\n",
    "sigma = 5\n",
    "\n",
    "z = (x - mu) / sigma\n",
    "\n",
    "print(\"The z-score for the data point with value\", x, \"is\", z)\n"
   ]
  },
  {
   "attachments": {},
   "cell_type": "markdown",
   "metadata": {},
   "source": [
    "Q10. In a study of the effectiveness of a new weight loss drug, a sample of 50 participants lost an average \n",
    "of 6 pounds with a standard deviation of 2.5 pounds. Conduct a hypothesis test to determine if the drug is \n",
    "significantly effective at a 95% confidence level using a t-test.\n",
    "\n",
    "    To conduct a hypothesis test to determine if the weight loss drug is significantly effective, we need to set up the null and alternative hypotheses:\n",
    "\n",
    "    Null hypothesis (H0): The weight loss drug is not significantly effective (mean weight loss <= 0)\n",
    "    Alternative hypothesis (Ha): The weight loss drug is significantly effective (mean weight loss > 0)\n",
    "\n",
    "    We will conduct a one-sample t-test with a significance level (alpha) of 0.05 and a 95% confidence level.\n",
    "\n",
    "    First, let's calculate the t-score using the formula:\n",
    "\n",
    "t = (x̄ - μ) / (s / √n)\n",
    "\n",
    "    where x̄ is the sample mean, μ is the population mean (which we assume to be 0 for the null hypothesis), s is the sample standard deviation, and n is the sample size.\n",
    "\n",
    "In this case, x̄ = 6, μ = 0, s = 2.5, and n = 50, so:\n",
    "\n",
    "t = (6 - 0) / (2.5 / √50)\n",
    "t = 12\n",
    "\n",
    "    Next, we need to find the critical t-value using a t-distribution table with n-1 degrees of freedom (df = 49) and a significance level of 0.05. For a one-tailed test (since Ha is one-sided), the critical t-value is 1.677.\n",
    "\n",
    "    Since our calculated t-value of 12 is greater than the critical t-value of 1.677, we reject the null hypothesis and conclude that the weight loss drug is significantly effective at a 95% confidence level."
   ]
  },
  {
   "cell_type": "code",
   "execution_count": 3,
   "metadata": {},
   "outputs": [
    {
     "name": "stdout",
     "output_type": "stream",
     "text": [
      "The weight loss drug is significantly effective at a 95% confidence level\n"
     ]
    }
   ],
   "source": [
    "import scipy.stats as stats\n",
    "\n",
    "sample_mean = 6\n",
    "pop_mean = 0\n",
    "sample_std = 2.5\n",
    "sample_size = 50\n",
    "alpha = 0.05\n",
    "\n",
    "# Calculate the t-score\n",
    "t_score = (sample_mean - pop_mean) / (sample_std / (sample_size ** 0.5))\n",
    "\n",
    "# Find the p-value\n",
    "p_value = stats.t.sf(abs(t_score), sample_size-1)\n",
    "\n",
    "if p_value < alpha:\n",
    "    print(\"The weight loss drug is significantly effective at a 95% confidence level\")\n",
    "else:\n",
    "    print(\"There is not enough evidence to conclude that the weight loss drug is significantly effective\")\n"
   ]
  },
  {
   "attachments": {},
   "cell_type": "markdown",
   "metadata": {},
   "source": [
    "Q11. In a survey of 500 people, 65% reported being satisfied with their current job. Calculate the 95% \n",
    "confidence interval for the true proportion of people who are satisfied with their job.\n",
    "\n",
    "    To calculate the 95% confidence interval for the true proportion of people who are satisfied with their job, we can use the formula:\n",
    "\n",
    "CI = p ± z * √(p * (1 - p) / n)\n",
    "\n",
    "    where CI is the confidence interval, p is the sample proportion, z is the critical value from the standard normal distribution (which corresponds to a 95% confidence level, so z = 1.96), and n is the sample size.\n",
    "\n",
    "    In this case, p = 0.65 and n = 500, so:\n",
    "\n",
    "CI = 0.65 ± 1.96 * √(0.65 * (1 - 0.65) / 500)\n",
    "CI = 0.65 ± 0.043\n",
    "CI = (0.607, 0.693)\n",
    "\n",
    "    Therefore, the 95% confidence interval for the true proportion of people who are satisfied with their job is (0.607, 0.693)."
   ]
  },
  {
   "cell_type": "code",
   "execution_count": 4,
   "metadata": {},
   "outputs": [
    {
     "name": "stdout",
     "output_type": "stream",
     "text": [
      "The 95% confidence interval is (0.608, 0.692)\n"
     ]
    }
   ],
   "source": [
    "import math\n",
    "\n",
    "p = 0.65\n",
    "n = 500\n",
    "z = 1.96\n",
    "\n",
    "se = math.sqrt(p * (1 - p) / n)\n",
    "CI_lower = p - z * se\n",
    "CI_upper = p + z * se\n",
    "\n",
    "print(f\"The 95% confidence interval is ({CI_lower:.3f}, {CI_upper:.3f})\")\n"
   ]
  },
  {
   "attachments": {},
   "cell_type": "markdown",
   "metadata": {},
   "source": [
    "Q12. A researcher is testing the effectiveness of two different teaching methods on student performance. \n",
    "Sample A has a mean score of 85 with a standard deviation of 6, while sample B has a mean score of 82 \n",
    "with a standard deviation of 5. Conduct a hypothesis test to determine if the two teaching methods have a \n",
    "significant difference in student performance using a t-test with a significance level of 0.01.\n",
    "\n",
    "    To conduct a hypothesis test to determine if the two teaching methods have a significant difference in student performance, we need to set up the null and alternative hypotheses:\n",
    "\n",
    "    Null hypothesis (H0): The two teaching methods have no significant difference in student performance (μA - μB = 0)\n",
    "    Alternative hypothesis (Ha): The two teaching methods have a significant difference in student performance (μA - μB ≠ 0)\n",
    "\n",
    "    We will conduct a two-sample t-test with a significance level (alpha) of 0.01.\n",
    "\n",
    "    First, let's calculate the t-score using the formula:\n",
    "\n",
    "t = (x̄A - x̄B - D) / (s_p * √(1/nA + 1/nB))\n",
    "\n",
    "    where x̄A and x̄B are the sample means for sample A and B respectively, D is the hypothesized difference between the population means (which is 0 for the null hypothesis), s_p is the pooled standard deviation, nA and nB are the sample sizes for sample A and B respectively.\n",
    "\n",
    "    Pooled standard deviation can be calculated by the formula:\n",
    "\n",
    "s_p = √(((nA - 1) * sA^2 + (nB - 1) * sB^2) / (nA + nB - 2))\n",
    "\n",
    "    where sA and sB are the sample standard deviations for sample A and B respectively.\n",
    "\n",
    "In this case, x̄A = 85, x̄B = 82, sA = 6, sB = 5, nA = nB = 30, and D = 0, so:\n",
    "\n",
    "s_p = √(((30 - 1) * 6^2 + (30 - 1) * 5^2) / (30 + 30 - 2))\n",
    "s_p = 5.343\n",
    "\n",
    "t = (85 - 82 - 0) / (5.343 * √(1/30 + 1/30))\n",
    "t = 2.45\n",
    "\n",
    "    Next, we need to find the critical t-value using a t-distribution table with nA + nB - 2 degrees of freedom (df = 58) and a significance level of 0.01. For a two-tailed test, the critical t-value is ±2.660.\n",
    "\n",
    "    Since our calculated t-value of 2.45 is less than the critical t-value of ±2.660, we fail to reject the null hypothesis and conclude that there is not enough evidence to support that the two teaching methods have a significant difference in student performance at a 99% confidence level."
   ]
  },
  {
   "cell_type": "code",
   "execution_count": 5,
   "metadata": {},
   "outputs": [
    {
     "name": "stdout",
     "output_type": "stream",
     "text": [
      "There is not enough evidence to conclude that the two teaching methods have a significant difference in student performance\n"
     ]
    }
   ],
   "source": [
    "import scipy.stats as stats\n",
    "\n",
    "sample_A_mean = 85\n",
    "sample_A_std = 6\n",
    "sample_A_size = 30\n",
    "\n",
    "sample_B_mean = 82\n",
    "sample_B_std = 5\n",
    "sample_B_size = 30\n",
    "\n",
    "alpha = 0.01\n",
    "\n",
    "# Calculate the t-score and p-value\n",
    "t_score, p_value = stats.ttest_ind_from_stats(sample_A_mean, sample_A_std, sample_A_size, \n",
    "                                              sample_B_mean, sample_B_std, sample_B_size)\n",
    "\n",
    "if p_value < alpha:\n",
    "    print(\"The two teaching methods have a significant difference in student performance\")\n",
    "else:\n",
    "    print(\"There is not enough evidence to conclude that the two teaching methods have a significant difference in student performance\")\n"
   ]
  },
  {
   "attachments": {},
   "cell_type": "markdown",
   "metadata": {},
   "source": [
    "Q13. A population has a mean of 60 and a standard deviation of 8. A sample of 50 observations has a mean \n",
    "of 65. Calculate the 90% confidence interval for the true population mean.\n",
    "\n",
    "    To calculate the 90% confidence interval for the true population mean, we can use the formula:\n",
    "\n",
    "CI = x̄ ± z*(σ/√n)\n",
    "\n",
    "    where x̄ is the sample mean, σ is the population standard deviation, n is the sample size, z is the critical z-value from the standard normal distribution table corresponding to the desired confidence level.\n",
    "\n",
    "In this case, x̄ = 65, σ = 8, n = 50, and we want a 90% confidence interval.\n",
    "\n",
    "    The critical z-value for a 90% confidence level can be found using a standard normal distribution table or the scipy.stats.norm.ppf function in Python. For a two-tailed test with a 90% confidence level, the critical z-value is ±1.645.\n",
    "\n",
    "    Plugging these values into the formula, we get:\n",
    "\n",
    "CI = 65 ± 1.645*(8/√50)\n",
    "\n",
    "CI = (62.225, 67.775)\n",
    "\n",
    "    Therefore, we can be 90% confident that the true population mean falls within the range of 62.225 to 67.775 based on the sample mean of 65. "
   ]
  },
  {
   "cell_type": "code",
   "execution_count": 6,
   "metadata": {},
   "outputs": [
    {
     "name": "stdout",
     "output_type": "stream",
     "text": [
      "The 90% confidence interval for the true population mean is (63.139, 66.861)\n"
     ]
    }
   ],
   "source": [
    "import scipy.stats as stats\n",
    "\n",
    "sample_mean = 65\n",
    "pop_std = 8\n",
    "sample_size = 50\n",
    "conf_level = 0.9\n",
    "\n",
    "# Calculate the critical z-value\n",
    "z_critical = stats.norm.ppf((1 + conf_level) / 2)\n",
    "\n",
    "# Calculate the confidence interval\n",
    "lower_bound = sample_mean - z_critical * (pop_std / (sample_size ** 0.5))\n",
    "upper_bound = sample_mean + z_critical * (pop_std / (sample_size ** 0.5))\n",
    "\n",
    "print(f\"The 90% confidence interval for the true population mean is ({lower_bound:.3f}, {upper_bound:.3f})\")\n"
   ]
  },
  {
   "attachments": {},
   "cell_type": "markdown",
   "metadata": {},
   "source": [
    "Q14. In a study of the effects of caffeine on reaction time, a sample of 30 participants had an average \n",
    "reaction time of 0.25 seconds with a standard deviation of 0.05 seconds. Conduct a hypothesis test to \n",
    "determine if the caffeine has a significant effect on reaction time at a 90% confidence level using a t-test.\n",
    "\n",
    "    To conduct a hypothesis test to determine if caffeine has a significant effect on reaction time, we need to set up the null and alternative hypotheses:\n",
    "\n",
    "    Null hypothesis (H0): The mean reaction time for the population with caffeine is the same as the mean reaction time for the population without caffeine.\n",
    "    Alternative hypothesis (Ha): The mean reaction time for the population with caffeine is different from the mean reaction time for the population without caffeine.\n",
    "    We will use a two-tailed t-test to test the hypothesis since we are interested in determining if there is a significant difference in reaction time between the two populations.\n",
    "\n",
    "    The test statistic can be calculated using the formula:\n",
    "\n",
    "t = (x̄ - μ) / (s / √n)\n",
    "\n",
    "    where x̄ is the sample mean, μ is the hypothesized population mean, s is the sample standard deviation, and n is the sample size.\n",
    "\n",
    "    In this case, x̄ = 0.25, μ = 0 (since the null hypothesis assumes no difference in mean reaction time), s = 0.05, and n = 30.\n",
    "\n",
    "    Using a t-distribution table or the scipy.stats.t.ppf function in Python, we can find the critical t-value for a two-tailed test with a 90% confidence level and 29 degrees of freedom to be ±1.699.\n",
    "\n",
    "    We can then calculate the test statistic:\n",
    "\n",
    "t = (0.25 - 0) / (0.05 / √30) = 4.743\n",
    "\n",
    "    Since the absolute value of the test statistic (4.743) is greater than the critical t-value (1.699), we can reject the null hypothesis and conclude that there is a significant difference in mean reaction time between the two populations."
   ]
  },
  {
   "cell_type": "code",
   "execution_count": 7,
   "metadata": {},
   "outputs": [
    {
     "name": "stdout",
     "output_type": "stream",
     "text": [
      "Reject null hypothesis\n"
     ]
    }
   ],
   "source": [
    "import scipy.stats as stats\n",
    "\n",
    "sample_mean = 0.25\n",
    "pop_mean = 0\n",
    "sample_std = 0.05\n",
    "sample_size = 30\n",
    "conf_level = 0.9\n",
    "\n",
    "# Calculate the critical t-value\n",
    "df = sample_size - 1\n",
    "t_critical = abs(stats.t.ppf((1 - conf_level) / 2, df))\n",
    "\n",
    "# Calculate the test statistic\n",
    "t = (sample_mean - pop_mean) / (sample_std / (sample_size ** 0.5))\n",
    "\n",
    "if abs(t) > t_critical:\n",
    "    print(\"Reject null hypothesis\")\n",
    "else:\n",
    "    print(\"Fail to reject null hypothesis\")\n"
   ]
  },
  {
   "cell_type": "code",
   "execution_count": null,
   "metadata": {},
   "outputs": [],
   "source": []
  }
 ],
 "metadata": {
  "kernelspec": {
   "display_name": "Python 3",
   "language": "python",
   "name": "python3"
  },
  "language_info": {
   "codemirror_mode": {
    "name": "ipython",
    "version": 3
   },
   "file_extension": ".py",
   "mimetype": "text/x-python",
   "name": "python",
   "nbconvert_exporter": "python",
   "pygments_lexer": "ipython3",
   "version": "3.9.10"
  },
  "orig_nbformat": 4
 },
 "nbformat": 4,
 "nbformat_minor": 2
}
