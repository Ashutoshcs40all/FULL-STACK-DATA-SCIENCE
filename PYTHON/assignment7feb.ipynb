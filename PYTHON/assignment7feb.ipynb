{
 "cells": [
  {
   "cell_type": "markdown",
   "metadata": {},
   "source": [
    "Q1. You are writing code for a company. The requirement of the company is that you create a python\n",
    "function that will check whether the password entered by the user is correct or not. The function should\n",
    "take the password as input and return the string “Valid Password” if the entered password follows the\n",
    "below-given password guidelines else it should return “Invalid Password”.\n",
    "\n",
    "\n",
    "Note: 1. The Password should contain at least two uppercase letters and at least two lowercase letters.\n",
    "\n",
    "2. The Password should contain at least a number and three special characters.\n",
    "\n",
    "3. The length of the password should be 10 characters long."
   ]
  },
  {
   "cell_type": "code",
   "execution_count": 2,
   "metadata": {},
   "outputs": [
    {
     "name": "stdout",
     "output_type": "stream",
     "text": [
      "Invalid Password\n"
     ]
    }
   ],
   "source": [
    "N_symbol=\"ABCDEFGHIJKLMNOPQRSTUVWXYZ\"\n",
    "check=input(\"Enter Your Password\")\n",
    "def Password(check):\n",
    "    c_upper,c_lower,num,special=0,0,0,0\n",
    "    if len(check)>=10:\n",
    "        for i in check:\n",
    "            n=0\n",
    "            for j in N_symbol:\n",
    "                # Count How many Special character in Password \n",
    "                if i!= j and i.upper()!=j and not(i.isnumeric()):\n",
    "                    n+=1\n",
    "                    # print(i,j,p)\n",
    "                    if n>25 :\n",
    "                        special+=1\n",
    "                        # print(i,special)\n",
    "                # Count How many Upper Lower Case \n",
    "                elif i==j:\n",
    "                    c_upper+=1\n",
    "                    # print(i,c_upper)\n",
    "                # Count How many Lower Cass    \n",
    "                elif i==j.lower():\n",
    "                    c_lower+=1\n",
    "                    # print(i,c_lower)\n",
    "            # Count How many Number    \n",
    "            if i.isnumeric():\n",
    "                num+=1\n",
    "                # print(i,num)\n",
    "        # Check Condition (:-Note)\n",
    "        # * Two Upper Case & Two lower Case\n",
    "        # * A Number & Three Special Sharacters\n",
    "        if c_upper>=2 and c_lower>=2 and num>=1 and special>=3 :\n",
    "            print('Valid Password')\n",
    "            # print(f\"Upper={c_upper}| Lower={c_lower}| Special={special}| Number={num}\") \n",
    "        else :\n",
    "            print('Invalid Password')\n",
    "            \n",
    "    else :\n",
    "        print('Invalid Password')\n",
    "                \n",
    "Password(check)"
   ]
  },
  {
   "attachments": {},
   "cell_type": "markdown",
   "metadata": {},
   "source": [
    "Q2. Solve the below-given questions using at least one of the following:\n",
    "1. Lambda function\n",
    "\n",
    "2. Filter function\n",
    "\n",
    "3. Map function\n",
    "\n",
    "4. List ComprehensioI\n",
    "\n",
    "B Check if the string starts with a particular letterY\n",
    "\n",
    "B Check if the string is numericY\n",
    "\n",
    "B Sort a list of tuples having fruit names and their quantity. [(\"mango\",99),(\"orange\",80), (\"grapes\", 1000)-\n",
    "\n",
    "B Find the squares of numbers from 1 to 10Y\n",
    "\n",
    "B Find the cube root of numbers from 1 to 10Y\n",
    "\n",
    "B Check if a given number is evenY\n",
    "\n",
    "B Filter odd numbers from the given list.\n",
    "\n",
    "[1,2,3,4,5,6,7,8,9,10-\n",
    "\n",
    "B Sort a list of integers into positive and negative integers lists.\n",
    "\n",
    "[1,2,3,4,5,6,-1,-2,-3,-4,-5,0]"
   ]
  },
  {
   "cell_type": "code",
   "execution_count": 3,
   "metadata": {},
   "outputs": [
    {
     "data": {
      "text/plain": [
       "True"
      ]
     },
     "execution_count": 3,
     "metadata": {},
     "output_type": "execute_result"
    }
   ],
   "source": [
    "# Check if the string starts with a particular letter.\n",
    "s= \"Ashutosh  is a IGnou student\"\n",
    "True if s[0]==\"A\" else False"
   ]
  },
  {
   "cell_type": "code",
   "execution_count": 4,
   "metadata": {},
   "outputs": [
    {
     "data": {
      "text/plain": [
       "['1', '0', '9', '0']"
      ]
     },
     "execution_count": 4,
     "metadata": {},
     "output_type": "execute_result"
    }
   ],
   "source": [
    "#Check if the string is numeric.\n",
    "s=\"ASHU1090\"\n",
    "list(filter(lambda x: x.isnumeric(), s))"
   ]
  },
  {
   "cell_type": "code",
   "execution_count": 5,
   "metadata": {},
   "outputs": [
    {
     "data": {
      "text/plain": [
       "False"
      ]
     },
     "execution_count": 5,
     "metadata": {},
     "output_type": "execute_result"
    }
   ],
   "source": [
    "a=lambda x: True if x.isnumeric() else False\n",
    "a(s)"
   ]
  },
  {
   "cell_type": "code",
   "execution_count": 6,
   "metadata": {},
   "outputs": [
    {
     "data": {
      "text/plain": [
       "[('orange', 80), ('mango', 99), ('grapes', 1000)]"
      ]
     },
     "execution_count": 6,
     "metadata": {},
     "output_type": "execute_result"
    }
   ],
   "source": [
    "# Sort a list of tuples having fruit names and their quantity.\n",
    "l=[(\"mango\",99),(\"orange\",80), (\"grapes\", 1000)]\n",
    "sort = sorted(l,key = lambda s : s[1]) \n",
    "sort"
   ]
  },
  {
   "cell_type": "code",
   "execution_count": 9,
   "metadata": {},
   "outputs": [
    {
     "data": {
      "text/plain": [
       "[1, 4, 9, 16, 25, 36, 49, 64, 81]"
      ]
     },
     "execution_count": 9,
     "metadata": {},
     "output_type": "execute_result"
    }
   ],
   "source": [
    "# Find the squares of numbers from 1 to 10.\n",
    "list(map(lambda x: x**2,list(range(1,10))))"
   ]
  },
  {
   "cell_type": "code",
   "execution_count": 11,
   "metadata": {},
   "outputs": [
    {
     "data": {
      "text/plain": [
       "[1.0,\n",
       " 1.2599210498948732,\n",
       " 1.4422495703074083,\n",
       " 1.5874010519681994,\n",
       " 1.7099759466766968,\n",
       " 1.8171205928321397,\n",
       " 1.912931182772389,\n",
       " 2.0,\n",
       " 2.080083823051904]"
      ]
     },
     "execution_count": 11,
     "metadata": {},
     "output_type": "execute_result"
    }
   ],
   "source": [
    "# Find the squares of numbers from 1 to 10.\n",
    "list(map(lambda x: x**(1/3),list(range(1,10))))"
   ]
  },
  {
   "cell_type": "code",
   "execution_count": 12,
   "metadata": {},
   "outputs": [
    {
     "name": "stdout",
     "output_type": "stream",
     "text": [
      "['Odd=1', 'Even=2', 'Odd=3', 'Even=4', 'Odd=5', 'Even=6', 'Odd=7', 'Even=8', 'Odd=9', 'Even=10']\n"
     ]
    }
   ],
   "source": [
    "# Check if a given number is even.\n",
    "#Ex:-1\n",
    "l=list(map(lambda x: f\"Even={x}\" if x%2==0 else f\"Odd={x}\" ,list(range(1,11))))\n",
    "print(l)"
   ]
  },
  {
   "cell_type": "code",
   "execution_count": 13,
   "metadata": {},
   "outputs": [
    {
     "data": {
      "text/plain": [
       "'Even'"
      ]
     },
     "execution_count": 13,
     "metadata": {},
     "output_type": "execute_result"
    }
   ],
   "source": [
    "#Ex:-2\n",
    "s=int(input(\"Inter a Numer\"))\n",
    "l=lambda x: \"Even\" if x%2==0 else \"Odd\"\n",
    "l(s)"
   ]
  },
  {
   "cell_type": "code",
   "execution_count": 14,
   "metadata": {},
   "outputs": [
    {
     "data": {
      "text/plain": [
       "[2, 4, 6, 8, 10]"
      ]
     },
     "execution_count": 14,
     "metadata": {},
     "output_type": "execute_result"
    }
   ],
   "source": [
    "# Filter odd numbers from the given list.\n",
    "l=[1,2,3,4,5,6,7,8,9,10]\n",
    "list(filter(lambda x : x%2==0,l))"
   ]
  },
  {
   "cell_type": "code",
   "execution_count": 15,
   "metadata": {},
   "outputs": [
    {
     "name": "stdout",
     "output_type": "stream",
     "text": [
      "[1, 2, 3, 4, 5, 6] \n",
      " [-1, -2, -3, -4, -5]\n"
     ]
    }
   ],
   "source": [
    "# Sort a list of integers into positive and negative integers lists.\n",
    "from functools import reduce  \n",
    "l=[1,2,3,4,5,6,-1,-2,-3,-4,-5,0]\n",
    "neg=list(filter(lambda x : x<0 , l))\n",
    "pos=list(filter(lambda x: x>0 ,l))\n",
    "print(f\"{pos} \\n {neg}\")"
   ]
  },
  {
   "cell_type": "markdown",
   "metadata": {},
   "source": []
  }
 ],
 "metadata": {
  "kernelspec": {
   "display_name": "Python 3.9.10 64-bit",
   "language": "python",
   "name": "python3"
  },
  "language_info": {
   "codemirror_mode": {
    "name": "ipython",
    "version": 3
   },
   "file_extension": ".py",
   "mimetype": "text/x-python",
   "name": "python",
   "nbconvert_exporter": "python",
   "pygments_lexer": "ipython3",
   "version": "3.9.10"
  },
  "orig_nbformat": 4,
  "vscode": {
   "interpreter": {
    "hash": "68360625e4cc29d002a61fb939545e264dabbb2ea2c79c9e867abe8e0afd20fa"
   }
  }
 },
 "nbformat": 4,
 "nbformat_minor": 2
}
