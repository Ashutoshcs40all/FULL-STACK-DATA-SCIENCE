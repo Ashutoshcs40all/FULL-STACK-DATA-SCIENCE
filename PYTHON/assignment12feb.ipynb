{
 "cells": [
  {
   "attachments": {},
   "cell_type": "markdown",
   "metadata": {},
   "source": [
    "Q1. What is an Exception in python? Write the difference between Exceptions and Syntax errors.\n",
    "\n",
    "        An exception in Python is an error that occurs during the execution of a program. Exceptions are runtime errors that can be raised when the program encounters unexpected situations, such as division by zero, trying to access an undefined variable, or attempting to open a file that does not exist.\n",
    "\n",
    "        Syntax errors, on the other hand, are errors that occur when the code does not follow the correct syntax for the programming language. Syntax errors are detected by the interpreter before the program is executed, and they prevent the program from running.\n",
    "\n",
    "        The main difference between exceptions and syntax errors is when they occur. Exceptions occur during the execution of a program, while syntax errors occur before the program is executed. Exceptions can be handled using exception handling constructs such as try and except, while syntax errors cannot be handled in the same way.\n",
    "\n",
    "\n",
    "\n",
    "\n",
    "\n",
    "\n",
    "\n",
    "\n",
    "\n",
    "\n",
    "\n",
    "\n",
    "\n"
   ]
  },
  {
   "attachments": {},
   "cell_type": "markdown",
   "metadata": {},
   "source": [
    "Q2. What happens when an exception is not handled? Explain with an example.\n",
    "\n",
    "        When an exception is not handled in Python, it will cause the program to terminate abruptly with an error message. The error message will indicate the type of exception that was raised and where it occurred in the code. This can cause the program to produce incorrect results or terminate prematurely, making it difficult to diagnose the cause of the problem.\n",
    "\n",
    "Here's an example of what happens when an exception is not handled in Python:\n",
    "\n",
    "        In this example, we are dividing a by b, which is 0. This will raise a ZeroDivisionError exception. Since this exception is not handled in the code, it will cause the program to terminate with the following error message:"
   ]
  },
  {
   "cell_type": "code",
   "execution_count": 1,
   "metadata": {},
   "outputs": [
    {
     "ename": "ZeroDivisionError",
     "evalue": "division by zero",
     "output_type": "error",
     "traceback": [
      "\u001b[1;31m---------------------------------------------------------------------------\u001b[0m",
      "\u001b[1;31mZeroDivisionError\u001b[0m                         Traceback (most recent call last)",
      "\u001b[1;32md:\\FSDS\\PYTHON\\assignment12feb.ipynb Cell 3\u001b[0m in \u001b[0;36m<cell line: 3>\u001b[1;34m()\u001b[0m\n\u001b[0;32m      <a href='vscode-notebook-cell:/d%3A/FSDS/PYTHON/assignment12feb.ipynb#X11sZmlsZQ%3D%3D?line=0'>1</a>\u001b[0m a \u001b[39m=\u001b[39m \u001b[39m5\u001b[39m\n\u001b[0;32m      <a href='vscode-notebook-cell:/d%3A/FSDS/PYTHON/assignment12feb.ipynb#X11sZmlsZQ%3D%3D?line=1'>2</a>\u001b[0m b \u001b[39m=\u001b[39m \u001b[39m0\u001b[39m\n\u001b[1;32m----> <a href='vscode-notebook-cell:/d%3A/FSDS/PYTHON/assignment12feb.ipynb#X11sZmlsZQ%3D%3D?line=2'>3</a>\u001b[0m c \u001b[39m=\u001b[39m a \u001b[39m/\u001b[39;49m b\n\u001b[0;32m      <a href='vscode-notebook-cell:/d%3A/FSDS/PYTHON/assignment12feb.ipynb#X11sZmlsZQ%3D%3D?line=3'>4</a>\u001b[0m \u001b[39mprint\u001b[39m(\u001b[39m\"\u001b[39m\u001b[39mThe result is\u001b[39m\u001b[39m\"\u001b[39m, c)\n",
      "\u001b[1;31mZeroDivisionError\u001b[0m: division by zero"
     ]
    }
   ],
   "source": [
    "a = 5\n",
    "b = 0\n",
    "c = a / b\n",
    "print(\"The result is\", c)\n"
   ]
  },
  {
   "attachments": {},
   "cell_type": "markdown",
   "metadata": {},
   "source": [
    "Q3. Which Python statements are used to catch and handle exceptions? Explain with an example.\n",
    "\n",
    "        In Python, the try and except statements are used to catch and handle exceptions. The try statement is used to define a block of code that may raise an exception, while the except statement is used to handle the exception if it occurs.\n",
    "\n",
    "        Here's an example of using the try and except statements to handle an exception in Python:\n",
    "        In this example, we are dividing a by b, which is 0. This will raise a ZeroDivisionError exception. The try statement defines a block of code that includes the division operation, and the except statement catches the exception and logs an error message to the file example1.log using the logging module. Additionally, a message is also printed to the console indicating that division by zero is not allowed.\n",
    "\n",
    "        With this exception handling in place, the program will not terminate abruptly in case of an error, but instead will log the error message and continue executing. This makes it easier to diagnose and fix any problems that may occur during the execution of the program."
   ]
  },
  {
   "cell_type": "code",
   "execution_count": 2,
   "metadata": {},
   "outputs": [
    {
     "name": "stdout",
     "output_type": "stream",
     "text": [
      "Division by zero is not allowed\n"
     ]
    }
   ],
   "source": [
    "import logging\n",
    "\n",
    "logging.basicConfig(filename='example1.log', level=logging.ERROR)\n",
    "\n",
    "try:\n",
    "    a = 5\n",
    "    b = 0\n",
    "    c = a / b\n",
    "except ZeroDivisionError:\n",
    "    logging.error(\"Division by zero is not allowed\")\n",
    "    print(\"Division by zero is not allowed\")\n"
   ]
  },
  {
   "attachments": {},
   "cell_type": "markdown",
   "metadata": {},
   "source": [
    "Q4. Explain with an example:#\n",
    "1)   try and else#\n",
    "2)   finally\n",
    "3)   raise\n",
    "\n",
    "            1) Try and else:\n",
    "            The try and else statements are used to handle exceptions in Python. The try statement is used to  define  \n",
    "            a block of code that may raise an exception. The else statement is used to define a block of code that \n",
    "            will be executed if no exceptions are raised in the try block.\n",
    "\n",
    "            2) Finally:\n",
    "            The finally statement is used to define a block of code that will be executed regardless of whether an     \n",
    "            exception  is raised or not. The finally block is used to perform cleanup operations, such as releasing    \n",
    "            resources, closing files, etc.\n",
    "\n",
    "            3) Raise:\n",
    "            The raise statement is used to raise an exception in Python. The raise statement is used to signal that an \n",
    "            error has occurred and to halt the execution of the program."
   ]
  },
  {
   "cell_type": "code",
   "execution_count": 6,
   "metadata": {},
   "outputs": [
    {
     "name": "stdout",
     "output_type": "stream",
     "text": [
      "Result: 2.5\n",
      "Cannot divide by zero\n"
     ]
    }
   ],
   "source": [
    "## Example:\n",
    "#1) Try and Else:\n",
    "\n",
    "def divide(a, b):\n",
    "    try:\n",
    "        result = a / b\n",
    "    except ZeroDivisionError:\n",
    "        print(\"Cannot divide by zero\")\n",
    "    else:\n",
    "        print(\"Result:\", result)\n",
    "\n",
    "divide(5, 2)\n",
    "divide(5, 0)\n"
   ]
  },
  {
   "cell_type": "code",
   "execution_count": 7,
   "metadata": {},
   "outputs": [
    {
     "name": "stdout",
     "output_type": "stream",
     "text": [
      "Cleanup operations\n",
      "Cannot divide by zero\n",
      "Cleanup operations\n"
     ]
    }
   ],
   "source": [
    "## Example:\n",
    "#2) Finally:\n",
    "\n",
    "def divide(a, b):\n",
    "    try:\n",
    "        result = a / b\n",
    "    except ZeroDivisionError:\n",
    "        print(\"Cannot divide by zero\")\n",
    "    finally:\n",
    "        print(\"Cleanup operations\")\n",
    "\n",
    "divide(5, 2)\n",
    "divide(5, 0)\n"
   ]
  },
  {
   "cell_type": "code",
   "execution_count": 8,
   "metadata": {},
   "outputs": [
    {
     "name": "stdout",
     "output_type": "stream",
     "text": [
      "Caught ValueError: Cannot divide by zero\n"
     ]
    }
   ],
   "source": [
    "## Example:\n",
    "#3) Raise:\n",
    "\n",
    "def divide(a, b):\n",
    "    if b == 0:\n",
    "        raise ValueError(\"Cannot divide by zero\")\n",
    "    return a / b\n",
    "\n",
    "try:\n",
    "    result = divide(5, 0)\n",
    "    print(\"Result:\", result)\n",
    "except ValueError as e:\n",
    "    print(\"Caught ValueError:\", e)\n"
   ]
  },
  {
   "attachments": {},
   "cell_type": "markdown",
   "metadata": {},
   "source": [
    "Q5. What are Custom Exceptions in python? Why do we need Custom Exceptions? Explain with an example.\n",
    "\n",
    "        Custom exceptions in Python are user-defined exceptions that are created to handle specific errors or conditions in a program. They allow developers to define custom error messages and custom handling mechanisms for specific types of exceptions.\n",
    "        The need for custom exceptions arises when the built-in exceptions in Python do not adequately address a particular error or condition in a program. In such cases, custom exceptions provide a way for developers to define and handle these specific errors or conditions in a more organized and structured way.\n",
    "        Here's an example that demonstrates the need for custom exceptions:\n",
    "\n",
    "        In this example, we have a function divide that takes two arguments a and b and returns their division. However, if b is 0, the function raises a ValueError with a custom message \"Cannot divide by zero\". The try and except statements are used to catch and handle this exception.\n",
    "        In this case, the custom exception allows us to handle the division by zero error in a specific and meaningful way, providing a custom error message to the user."
   ]
  },
  {
   "cell_type": "code",
   "execution_count": 5,
   "metadata": {},
   "outputs": [
    {
     "name": "stdout",
     "output_type": "stream",
     "text": [
      "Caught ValueError: Cannot divide by zero\n"
     ]
    }
   ],
   "source": [
    "def divide(a, b):\n",
    "    if b == 0:\n",
    "        raise ValueError(\"Cannot divide by zero\")\n",
    "    return a / b\n",
    "\n",
    "try:\n",
    "    result = divide(5, 0)\n",
    "    print(\"Result:\", result)\n",
    "except ValueError as e:\n",
    "    print(\"Caught ValueError:\", e)\n"
   ]
  },
  {
   "attachments": {},
   "cell_type": "markdown",
   "metadata": {},
   "source": [
    "Q6. Create a custom exception class. Use this class to handle an exception.\n",
    "        \n",
    "        In Python, it's possible to create custom exception classes to handle specific types of exceptions. To create a custom exception class, you need to inherit from the built-in Exception class.\n",
    "        Here's an example of creating a custom exception class MyException:\n",
    "        In this example, we create a custom exception class MyException that inherits from the built-in Exception class. The __init__ method is used to initialize the exception with a custom message.\n",
    "        To handle an exception using the custom exception class, you can raise the exception and catch it using the try and except statements:"
   ]
  },
  {
   "cell_type": "code",
   "execution_count": 4,
   "metadata": {},
   "outputs": [
    {
     "name": "stdout",
     "output_type": "stream",
     "text": [
      "Caught MyException: My custom exception\n"
     ]
    }
   ],
   "source": [
    "class MyException(Exception):\n",
    "    def __init__(self, message):\n",
    "        self.message = message\n",
    "try:\n",
    "    raise MyException(\"My custom exception\")\n",
    "except MyException as e:\n",
    "    print(\"Caught MyException:\", e.message)\n"
   ]
  },
  {
   "attachments": {},
   "cell_type": "markdown",
   "metadata": {},
   "source": [
    "        In this example, we raise the custom exception MyException with a custom message, and catch it in the except statement. The message is then printed to the console.\n",
    "\n",
    "        Using custom exception classes can make it easier to handle specific types of exceptions in a more organized and structured way, and to provide more meaningful error messages to help diagnose problems."
   ]
  },
  {
   "cell_type": "code",
   "execution_count": null,
   "metadata": {},
   "outputs": [],
   "source": []
  }
 ],
 "metadata": {
  "kernelspec": {
   "display_name": "Python 3",
   "language": "python",
   "name": "python3"
  },
  "language_info": {
   "codemirror_mode": {
    "name": "ipython",
    "version": 3
   },
   "file_extension": ".py",
   "mimetype": "text/x-python",
   "name": "python",
   "nbconvert_exporter": "python",
   "pygments_lexer": "ipython3",
   "version": "3.9.10"
  },
  "orig_nbformat": 4,
  "vscode": {
   "interpreter": {
    "hash": "68360625e4cc29d002a61fb939545e264dabbb2ea2c79c9e867abe8e0afd20fa"
   }
  }
 },
 "nbformat": 4,
 "nbformat_minor": 2
}
