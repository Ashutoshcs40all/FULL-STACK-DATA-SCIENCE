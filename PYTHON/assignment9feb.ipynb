{
 "cells": [
  {
   "attachments": {},
   "cell_type": "markdown",
   "metadata": {},
   "source": [
    "Q1 Create a vehicle class with an init method having instance variables as name_of_vehicle, max_speed\n",
    "and average_of_vehicle.\n",
    "\n",
    "\n",
    "\n",
    "\n",
    "\n"
   ]
  },
  {
   "cell_type": "code",
   "execution_count": 1,
   "metadata": {},
   "outputs": [
    {
     "name": "stdout",
     "output_type": "stream",
     "text": [
      "Car\n",
      "300\n",
      "20\n"
     ]
    }
   ],
   "source": [
    "class Vehicle:\n",
    "    def __init__(self, name_of_vehicle, max_speed, average_of_vehicle) -> None:\n",
    "        self.name_of_vehicle = name_of_vehicle\n",
    "        self.max_speed =max_speed\n",
    "        self.average_of_vehicle=average_of_vehicle\n",
    "\n",
    "my_vehicle = Vehicle(\"Car\",300,20)\n",
    "print(my_vehicle.name_of_vehicle)\n",
    "print(my_vehicle.max_speed)\n",
    "print(my_vehicle.average_of_vehicle)"
   ]
  },
  {
   "cell_type": "markdown",
   "metadata": {},
   "source": [
    "Q2. Create a child class car from the vehicle class created in Que 1, which will inherit the vehicle class.\n",
    "Create a method named seating_capacity which takes capacity as an argument and returns the name of\n",
    "the vehicle and its seating capacity."
   ]
  },
  {
   "cell_type": "code",
   "execution_count": 2,
   "metadata": {},
   "outputs": [
    {
     "name": "stdout",
     "output_type": "stream",
     "text": [
      "The TATA SEDAN has a seating of 5.\n"
     ]
    }
   ],
   "source": [
    "class Car(Vehicle):\n",
    "    def seating_capacity(self,capacity):\n",
    "        return f\"The {self.name_of_vehicle} has a seating of {capacity}.\"\n",
    "\n",
    "my_car = Car(\"TATA SEDAN\", 140,80)\n",
    "print(my_car.seating_capacity(5))"
   ]
  },
  {
   "cell_type": "markdown",
   "metadata": {},
   "source": [
    "Q3. What is multiple inheritance? Write a python code to demonstrate multiple inheritance.\n"
   ]
  },
  {
   "cell_type": "markdown",
   "metadata": {},
   "source": [
    "    Multiple inheritence is a feture of object-oriented programming languages that allows a class to inherit characterstics from multiple parent classes. In python, a class can inherit from multiple parent classes, aloowimg it to inherit proprties and method from each parent class. Example of multiple inheritence:--"
   ]
  },
  {
   "cell_type": "code",
   "execution_count": 3,
   "metadata": {},
   "outputs": [
    {
     "name": "stdout",
     "output_type": "stream",
     "text": [
      "Method 1 from Parent\n",
      "Method 2 from parent2\n"
     ]
    }
   ],
   "source": [
    "class Parent1:\n",
    "    def method1(self):\n",
    "        print(\"Method 1 from Parent\")\n",
    "\n",
    "class Parent2:\n",
    "    def method2(self):\n",
    "        print(\"Method 2 from parent2\")\n",
    "\n",
    "class Child(Parent1,Parent2):\n",
    "    pass\n",
    "\n",
    "C= Child()\n",
    "C.method1()\n",
    "C.method2()"
   ]
  },
  {
   "cell_type": "markdown",
   "metadata": {},
   "source": [
    "Q4. What are getter and setter in python? Create a class and create a getter and a setter method in this\n",
    "class."
   ]
  },
  {
   "cell_type": "markdown",
   "metadata": {},
   "source": [
    "    In python, getters and setters are methods that are used to access and modify the values of instance variables(also known as attributes) in a class. Getter methods are used to get the value of an instance variable, while setter methods are used to set the value of an instance variable. Example:---"
   ]
  },
  {
   "cell_type": "code",
   "execution_count": 4,
   "metadata": {},
   "outputs": [
    {
     "name": "stdout",
     "output_type": "stream",
     "text": [
      "ASHUTOSH\n",
      "ASHUTOSH MAURYA\n"
     ]
    }
   ],
   "source": [
    "class Person:\n",
    "    def __init__(self,name):\n",
    "        self._name = name\n",
    "\n",
    "    def get_name(self):\n",
    "        return self._name\n",
    "\n",
    "    def set_name(self,name):\n",
    "        self._name=name\n",
    "\n",
    "person= Person(\"ASHUTOSH\")\n",
    "print(person.get_name())\n",
    "person.set_name(\"ASHUTOSH MAURYA\")\n",
    "print(person.get_name())"
   ]
  },
  {
   "cell_type": "markdown",
   "metadata": {},
   "source": [
    "    In python, getters and setters are not enforced and can br bypassed if needed. However, the use of getters and setters is considered a good pratice as it provides a way to control access to an instance variable and enforce any necessary validation or constraints."
   ]
  },
  {
   "cell_type": "markdown",
   "metadata": {},
   "source": [
    "Q5.What is method overriding in python? Write a python code to demonstrate method overriding."
   ]
  },
  {
   "cell_type": "markdown",
   "metadata": {},
   "source": [
    "    Method overriding in python is a techinque in which a subclass provides a new implementation for a method that is already defined in its superclass. The new implementation in the subclass is said to override the implementation in the superclass.\n",
    "    Method overriding is used to modify or  extend the behavior of a method in the subclass. The new implementation in the subclass can call the implementation in the superclass using the 'super()' function, and then add additional functionlity. "
   ]
  },
  {
   "cell_type": "code",
   "execution_count": 5,
   "metadata": {},
   "outputs": [
    {
     "name": "stdout",
     "output_type": "stream",
     "text": [
      "The animals makes a sound\n",
      "The Dog barks\n"
     ]
    }
   ],
   "source": [
    "class Animal:\n",
    "    def make_sound(self):\n",
    "        print(\"The animals makes a sound\")\n",
    "    \n",
    "class Dog (Animal):\n",
    "    def make_sound(self):\n",
    "        print(\"The Dog barks\")\n",
    "\n",
    "animal = Animal()\n",
    "animal.make_sound()  \n",
    "\n",
    "dog = Dog()\n",
    "dog.make_sound()\n"
   ]
  },
  {
   "cell_type": "code",
   "execution_count": null,
   "metadata": {},
   "outputs": [],
   "source": []
  }
 ],
 "metadata": {
  "kernelspec": {
   "display_name": "Python 3.9.10 64-bit",
   "language": "python",
   "name": "python3"
  },
  "language_info": {
   "codemirror_mode": {
    "name": "ipython",
    "version": 3
   },
   "file_extension": ".py",
   "mimetype": "text/x-python",
   "name": "python",
   "nbconvert_exporter": "python",
   "pygments_lexer": "ipython3",
   "version": "3.9.10"
  },
  "orig_nbformat": 4,
  "vscode": {
   "interpreter": {
    "hash": "68360625e4cc29d002a61fb939545e264dabbb2ea2c79c9e867abe8e0afd20fa"
   }
  }
 },
 "nbformat": 4,
 "nbformat_minor": 2
}
