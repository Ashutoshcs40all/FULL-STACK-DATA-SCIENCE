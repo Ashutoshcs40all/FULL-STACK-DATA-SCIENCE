{
 "cells": [
  {
   "attachments": {},
   "cell_type": "markdown",
   "metadata": {},
   "source": [
    "Q1. Which function is used to open a file? What are the different modes of opening a file? Explain each mode \n",
    "of file opening.\n",
    "\n",
    "\n",
    "\n",
    "\n",
    "\n",
    "\n",
    "\n",
    "\n"
   ]
  },
  {
   "attachments": {},
   "cell_type": "markdown",
   "metadata": {},
   "source": [
    "    In python, we use the open() method to open the files.\n",
    "    Access modes govern the type of operations possible in the opend file. It refers to how the file will be used once its opened. These modes also define the location of the FILE HANDLE is like a cursor, which defines from where the data has to be read or written in the file. There are 6 access modes in python.\n",
    "\n",
    "    1) Read Only('r'): Open text file for reading. The handle is positioned at the beginning of the file. If the file does not exists, raises the I/O error. THis is also the default mode in which a file is opened.\n",
    "\n",
    "    2) Read and Write('r+'): Open the file for reading and writing. The handle is positioned at the beginning of the file. Raises I/O error if the file does not exist.\n",
    "\n",
    "    3) Write Only('w'):Open the file for writing. For the existing files, the data is truncated and over-written. The handle is positioned at the beginning of the file. Creates the file if the file does not exist.\n",
    "\n",
    "    4) Write and Read('w+'):Open the file for reading and writing. For the existing files, the data is truncated and over-written. The handle is positioned at the beginning of the file.\n",
    "\n",
    "    5) Append Only('a'):Open the file for writing. Creates the file if the file does not exist. The handle is positioned at the end of the file. The data being written will be inserted at the end, after the existing data.\n",
    "    \n",
    "    6) Append and Read('a+'): Open the file for reading and writing. Creates the file if the file does not exist. The handle is positioned at the end of the file. The data being written will be inserted at the end, after the existing data."
   ]
  },
  {
   "attachments": {},
   "cell_type": "markdown",
   "metadata": {},
   "source": [
    "Q2. Why close() function is used? Why is it important to close a file?\n",
    "\n",
    "        Python File Close() Method\n",
    "        The close() method close an open file. We should always close her files, in some cases, due to          \n",
    "        buffering, changes made to a file may not show until you close the file.\n",
    "        When you open a file, it takes up resources on your system, such as memory and file handles. If you open    \n",
    "        too many files without closing them, you may run out of these resources, which can lead to errors and        \n",
    "        crashes. By closing a file when you are finished with it, you free up these resources, allowing them          \n",
    "        to be used by other parts of your program or system.\n",
    "        For these reasons, it is a good practice to always close a file when you are finished using it. You         \n",
    "        can use the with statement in Python to automatically close a file, even if an exception is raised. This makes \n",
    "        it easier to write robust and error-free code that correctly handles files."
   ]
  },
  {
   "attachments": {},
   "cell_type": "markdown",
   "metadata": {},
   "source": [
    "Q3. Write a python program to create a text file. Write ‘I want to become a Data Scientist’ in that file. Then \n",
    "close the file. Open this file and read the content of the file.  \n",
    "        "
   ]
  },
  {
   "cell_type": "code",
   "execution_count": 10,
   "metadata": {},
   "outputs": [
    {
     "name": "stdout",
     "output_type": "stream",
     "text": [
      "I want to become a Data Scientist\n"
     ]
    }
   ],
   "source": [
    "# Create a text file and write text to it\n",
    "with open(\"textfile.txt\", \"w\") as file:\n",
    "    file.write(\"I want to become a Data Scientist\")\n",
    "\n",
    "# Close the file\n",
    "file.close()\n",
    "\n",
    "# Open the file and read the content\n",
    "with open(\"textfile.txt\", \"r\") as file:\n",
    "    content = file.read()\n",
    "    print(content)\n"
   ]
  },
  {
   "attachments": {},
   "cell_type": "markdown",
   "metadata": {},
   "source": [
    "Q4. Explain the following with python code: read(), readline() and readlines().\n",
    "    \n",
    "        read(): The read() method is used to read the entire contents of a file in one go. Here's an example of how it can be used with the logging module: n this example, the contents of the file example.txt are read using the read() method, and then logged using the logging.debug() method. The log entry will contain the entire contents of the file.\n",
    "        "
   ]
  },
  {
   "cell_type": "code",
   "execution_count": 3,
   "metadata": {},
   "outputs": [],
   "source": [
    "import logging\n",
    "\n",
    "logging.basicConfig(filename=\"example.log\", level=logging.DEBUG)\n",
    "\n",
    "with open(\"textfile.txt\", \"r\") as file:\n",
    "    content = file.read()\n",
    "    logging.debug(f\"The content of the file is: {content}\")\n"
   ]
  },
  {
   "attachments": {},
   "cell_type": "markdown",
   "metadata": {},
   "source": [
    "    readline():\n",
    "\n",
    "    The readline() method is used to read a single line from a file. Here's an example of how it can be used with the logging module:"
   ]
  },
  {
   "cell_type": "code",
   "execution_count": 4,
   "metadata": {},
   "outputs": [],
   "source": [
    "import logging\n",
    "\n",
    "logging.basicConfig(filename=\"example.log\", level=logging.DEBUG)\n",
    "\n",
    "with open(\"textfile.txt\", \"r\") as file:\n",
    "    line = file.readline()\n",
    "    while line:\n",
    "        logging.debug(f\"Line read from file: {line}\")\n",
    "        line = file.readline()\n"
   ]
  },
  {
   "attachments": {},
   "cell_type": "markdown",
   "metadata": {},
   "source": [
    "    readlines():\n",
    "\n",
    "    The readlines() method is used to read all the lines of a file into a list. Here's an example of how it can be used with the logging module:"
   ]
  },
  {
   "cell_type": "code",
   "execution_count": 6,
   "metadata": {},
   "outputs": [],
   "source": [
    "import logging\n",
    "\n",
    "logging.basicConfig(filename=\"example.log\", level=logging.DEBUG)\n",
    "\n",
    "with open(\"textfile.txt\", \"r\") as file:\n",
    "    lines = file.readlines()\n",
    "    for line in lines:\n",
    "        logging.debug(f\"Line read from file: {line}\")\n"
   ]
  },
  {
   "attachments": {},
   "cell_type": "markdown",
   "metadata": {},
   "source": [
    "Q5. Explain why with statement is used with open(). What is the advantage of using with statement and \n",
    "open() together?\n",
    "\n",
    "        The with statement is used in conjunction with the open() function in Python to ensure that the file is properly closed after it has been used. The advantage of using the with statement and open() together is that it automatically takes care of closing the file, even if an exception is raised within the block of code.\n",
    "\n",
    "        When we use the open() function without the with statement, we have to manually close the file after we have finished using it. If we forget to close the file, or if an error occurs before we reach the close statement, the file may not be properly closed, which can lead to data corruption or other issues.\n",
    "\n",
    "        However, when we use the with statement with the open() function, the file is automatically closed after the code within the block has been executed, even if an exception is raised. This helps to ensure that the file is always properly closed, which reduces the risk of data corruption or other issues. Here's an example of how the with statement can be used with the open() function:"
   ]
  },
  {
   "cell_type": "code",
   "execution_count": 7,
   "metadata": {},
   "outputs": [],
   "source": [
    "with open(\"textfile.txt\", \"r\") as file:\n",
    "    content = file.read()\n",
    "    # Use the file's contents\n",
    "\n",
    "# The file is automatically closed here\n"
   ]
  },
  {
   "attachments": {},
   "cell_type": "markdown",
   "metadata": {},
   "source": [
    "Q6. Explain the write() and writelines() functions. Give a suitable example.\n",
    "        The write() and writelines() functions are used to write text to a file in Python.\n",
    "\n",
    "    write():\n",
    "    The write() function is used to write a single string to a file. Here's an example of how it can be used:"
   ]
  },
  {
   "cell_type": "code",
   "execution_count": 8,
   "metadata": {},
   "outputs": [],
   "source": [
    "with open(\"textfile.txt\", \"w\") as file:\n",
    "    file.write(\"Hello, World!\")\n"
   ]
  },
  {
   "attachments": {},
   "cell_type": "markdown",
   "metadata": {},
   "source": [
    "    writelines():\n",
    "\n",
    "    The writelines() function is used to write a list of strings to a file. Here's an example of how it can be used:"
   ]
  },
  {
   "cell_type": "code",
   "execution_count": 9,
   "metadata": {},
   "outputs": [],
   "source": [
    "lines = [\"ASHU,\", \"TOSH\"]\n",
    "\n",
    "with open(\"textfile.txt\", \"w\") as file:\n",
    "    file.writelines(lines)\n"
   ]
  },
  {
   "cell_type": "code",
   "execution_count": null,
   "metadata": {},
   "outputs": [],
   "source": []
  }
 ],
 "metadata": {
  "kernelspec": {
   "display_name": "Python 3.9.10 64-bit",
   "language": "python",
   "name": "python3"
  },
  "language_info": {
   "codemirror_mode": {
    "name": "ipython",
    "version": 3
   },
   "file_extension": ".py",
   "mimetype": "text/x-python",
   "name": "python",
   "nbconvert_exporter": "python",
   "pygments_lexer": "ipython3",
   "version": "3.9.10"
  },
  "orig_nbformat": 4,
  "vscode": {
   "interpreter": {
    "hash": "68360625e4cc29d002a61fb939545e264dabbb2ea2c79c9e867abe8e0afd20fa"
   }
  }
 },
 "nbformat": 4,
 "nbformat_minor": 2
}
