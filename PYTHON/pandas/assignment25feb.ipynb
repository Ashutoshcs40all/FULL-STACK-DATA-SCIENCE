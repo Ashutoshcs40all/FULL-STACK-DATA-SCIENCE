{
 "cells": [
  {
   "attachments": {},
   "cell_type": "markdown",
   "metadata": {},
   "source": [
    "Consider following code to answer further questions:\n",
    "\n",
    "    Q1. Write a code to print the data present in the second row of the dataframe, df.\n"
   ]
  },
  {
   "cell_type": "code",
   "execution_count": 1,
   "metadata": {},
   "outputs": [],
   "source": [
    "import pandas as pd\n",
    "\n",
    "course_name = ['Dat_Science', 'Machine Learning', 'Big Data', 'Data Engineer']\n",
    "\n",
    "duration =  [2,3,6,4]\n",
    "\n",
    "df = pd.DataFrame(data = {'course_name' : course_name, 'duration' : duration})\n",
    "\n"
   ]
  },
  {
   "cell_type": "code",
   "execution_count": 2,
   "metadata": {},
   "outputs": [
    {
     "name": "stdout",
     "output_type": "stream",
     "text": [
      "course_name    Machine Learning\n",
      "duration                      3\n",
      "Name: 1, dtype: object\n"
     ]
    }
   ],
   "source": [
    "print(df.iloc[1])"
   ]
  },
  {
   "cell_type": "code",
   "execution_count": 3,
   "metadata": {},
   "outputs": [
    {
     "name": "stdout",
     "output_type": "stream",
     "text": [
      "['Machine Learning' 3]\n"
     ]
    }
   ],
   "source": [
    "print(df.iloc[1].values)"
   ]
  },
  {
   "attachments": {},
   "cell_type": "markdown",
   "metadata": {},
   "source": [
    "Q2. What is the difference between the functions loc and iloc in pandas.DataFrame?\n",
    "\n",
    "        'loc' and 'iloc' are two indexing operators available in the Pandas library that allow you to select rows and columns from a DataFrame based on their label or integer position, respectively.\n",
    "        The main difference between 'loc' and 'iloc' is in the way they interpret the indexing parameters:\n",
    "        'loc' selects data based on label, i.e., the row and column labels. You can use this operator to select rows and columns based on their index labels or boolean arrays. The syntax for using loc is 'df.loc[row_labels, column_labels]'.\n",
    "        'iloc' selects data based on integer position, i.e., the row and column positions. You can use this operator to select rows and columns based on their integer position or boolean arrays. The syntax for using 'iloc' is 'df.iloc[row_positions, column_positions]'."
   ]
  },
  {
   "cell_type": "code",
   "execution_count": 6,
   "metadata": {},
   "outputs": [
    {
     "name": "stdout",
     "output_type": "stream",
     "text": [
      "---------------------------1\n",
      "4\n",
      "---------------------------2\n",
      "   A  B\n",
      "a  1  4\n",
      "c  3  6\n",
      "---------------------------3\n",
      "4\n",
      "---------------------------4\n",
      "   A  B\n",
      "a  1  4\n",
      "c  3  6\n"
     ]
    }
   ],
   "source": [
    "import pandas as pd\n",
    "\n",
    "df = pd.DataFrame({'A': [1, 2, 3], 'B': [4, 5, 6], 'C': [7, 8, 9]}, index=['a', 'b', 'c'])\n",
    "\n",
    "print(\"---------------------------1\")\n",
    "print(df.loc['a', 'B'])  \n",
    "print(\"---------------------------2\")\n",
    "\n",
    "print(df.loc[['a', 'c'], ['A', 'B']])  \n",
    "print(\"---------------------------3\")\n",
    "\n",
    "print(df.iloc[0, 1])  \n",
    "print(\"---------------------------4\")\n",
    "print(df.iloc[[0, 2], [0, 1]])  "
   ]
  },
  {
   "attachments": {},
   "cell_type": "markdown",
   "metadata": {},
   "source": [
    "Q3. Reindex the given dataframe using a variable, reindex = [3,0,1,2] and store it in the variable, new_df \n",
    "then find the output for both new_df.loc[2] and new_df.iloc[2].\n",
    "\n",
    "        Did you observe any difference in both the outputs? If so then explain it.\n",
    "        Consider the below code to answer further questions:"
   ]
  },
  {
   "cell_type": "code",
   "execution_count": 7,
   "metadata": {},
   "outputs": [],
   "source": [
    "import pandas as pd\n",
    "import numpy as np\n",
    "columns = ['column_1', 'column_2', 'column_3', 'column_4', 'column_5', 'column_6']\n",
    "indices = [1,2,3,4,5,6]\n",
    "#Creating a dataframe:\n",
    "df1 = pd.DataFrame(np.random.rand(6,6), columns = columns, index = indices)"
   ]
  },
  {
   "cell_type": "code",
   "execution_count": 9,
   "metadata": {},
   "outputs": [
    {
     "name": "stdout",
     "output_type": "stream",
     "text": [
      "   column_1  column_2  column_3  column_4  column_5  column_6\n",
      "3  0.240108  0.093890  0.676365  0.927839  0.896166  0.806332\n",
      "0       NaN       NaN       NaN       NaN       NaN       NaN\n",
      "1  0.867370  0.195784  0.219072  0.370995  0.502765  0.052358\n",
      "2  0.383267  0.971032  0.205431  0.011139  0.301074  0.242879\n"
     ]
    }
   ],
   "source": [
    "# Reindexing the dataframe\n",
    "reindex = [3,0,1,2]\n",
    "new_df = df1.reindex(reindex)\n",
    "print(new_df)\n"
   ]
  },
  {
   "cell_type": "code",
   "execution_count": 10,
   "metadata": {},
   "outputs": [
    {
     "name": "stdout",
     "output_type": "stream",
     "text": [
      "column_1    0.383267\n",
      "column_2    0.971032\n",
      "column_3    0.205431\n",
      "column_4    0.011139\n",
      "column_5    0.301074\n",
      "column_6    0.242879\n",
      "Name: 2, dtype: float64\n"
     ]
    }
   ],
   "source": [
    "print(new_df.loc[2])"
   ]
  },
  {
   "cell_type": "code",
   "execution_count": 11,
   "metadata": {},
   "outputs": [
    {
     "name": "stdout",
     "output_type": "stream",
     "text": [
      "column_1    0.867370\n",
      "column_2    0.195784\n",
      "column_3    0.219072\n",
      "column_4    0.370995\n",
      "column_5    0.502765\n",
      "column_6    0.052358\n",
      "Name: 1, dtype: float64\n"
     ]
    }
   ],
   "source": [
    "print(new_df.iloc[2])"
   ]
  },
  {
   "attachments": {},
   "cell_type": "markdown",
   "metadata": {},
   "source": [
    "As we can see from the output, both new_df.loc[2] and new_df.iloc[2] provide different results. new_df.loc[2] returns the row with index label 2, which is the third row in the original dataframe. On the other hand, new_df.iloc[2] returns the row with index position 2, which is the second row in the original dataframe. This is because .loc uses index labels to retrieve rows, whereas .iloc uses index positions."
   ]
  },
  {
   "attachments": {},
   "cell_type": "markdown",
   "metadata": {},
   "source": [
    "Q4. Write a code to find the following statistical measurements for the above dataframe df1:\n",
    "\n",
    "        (i) mean of each and every column present in the dataframe.\n",
    "        (ii) standard deviation of column, ‘column_2’"
   ]
  },
  {
   "cell_type": "code",
   "execution_count": 15,
   "metadata": {},
   "outputs": [
    {
     "name": "stdout",
     "output_type": "stream",
     "text": [
      "column_1    0.484287\n",
      "column_2    0.550790\n",
      "column_3    0.444605\n",
      "column_4    0.423559\n",
      "column_5    0.554798\n",
      "column_6    0.482886\n",
      "dtype: float64\n",
      "0.4263910036561065\n"
     ]
    }
   ],
   "source": [
    "# Mean of each and every column in the dataframe\n",
    "mean_1=df1.mean()\n",
    "print(mean_1)\n",
    "\n",
    "# Standard deviation of column 'column_2'\n",
    "standard_division_1=df1['column_2'].std()\n",
    "print(standard_division_1)"
   ]
  },
  {
   "attachments": {},
   "cell_type": "markdown",
   "metadata": {},
   "source": [
    "Q5. Replace the data present in the second row of column, ‘column_2’ by a string variable then find the \n",
    "mean of column, column_2.\n",
    "\n",
    "        If you are getting errors in executing it then explain why.\n",
    "        [Hint: To replace the data use df1.loc[] and equate this to string data of your choice.]"
   ]
  },
  {
   "cell_type": "code",
   "execution_count": 16,
   "metadata": {},
   "outputs": [],
   "source": [
    "df1.loc[2, 'column_2'] = 'string_data'"
   ]
  },
  {
   "cell_type": "code",
   "execution_count": 17,
   "metadata": {},
   "outputs": [
    {
     "data": {
      "text/plain": [
       "0.46674184388070133"
      ]
     },
     "execution_count": 17,
     "metadata": {},
     "output_type": "execute_result"
    }
   ],
   "source": [
    "# Replace the data in the second row of 'column_2' with a string variable\n",
    "df1.loc[2, 'column_2'] = 'string_data'\n",
    "\n",
    "# Convert 'column_2' to a numeric data type\n",
    "df1['column_2'] = pd.to_numeric(df1['column_2'], errors='coerce')\n",
    "\n",
    "# Calculate the mean of 'column_2'\n",
    "df1['column_2'].mean()\n"
   ]
  },
  {
   "attachments": {},
   "cell_type": "markdown",
   "metadata": {},
   "source": [
    "Q6. What do you understand about the windows function in pandas and list the types of windows \n",
    "functions?\n",
    "\n",
    "        In Pandas, window functions are used to perform calculations on a sliding window of data, i.e., a fixed-size subset of a larger dataset. Window functions are applied on a series or a dataframe and help to compute aggregated data like rolling averages, cumulative sums, expanding sums, etc.\n",
    "        There are different types of window functions in Pandas which are as follows:\n",
    "\n",
    "        Rolling Functions: Rolling functions create a window of the specified size and calculate the aggregate function on it. The window then moves over the data to calculate the function on overlapping windows.\n",
    "\n",
    "        Expanding Functions: Expanding functions start with the first data point and calculate the aggregate function for each successive point.\n",
    "\n",
    "        Exponentially Weighted Functions: These functions compute the exponential weighted mean, variance, and covariance. The weights assigned to each observation decay exponentially as the distance between the observation and the window increases.\n",
    "\n",
    "        Rolling Window with Fixed Window Size: This type of window function applies a fixed window size across the entire series and computes the aggregate function on it.\n",
    "\n",
    "        Rolling Window with Variable Window Size: This type of window function applies a variable window size across the series and computes the aggregate function on it.\n",
    "        Some examples of window functions include rolling(), expanding(), ewm(), rolling_mean(), rolling_std(), rolling_sum(), rolling_max(), rolling_min(), rolling_quantile(), expanding_mean(), expanding_std(), ewm_mean(), ewm_std(), etc.\n",
    "        Window functions are very powerful tools in data analysis as they help to uncover patterns and trends in time-series data. They can be used to smooth out data, detect outliers, and find correlations between variables."
   ]
  },
  {
   "attachments": {},
   "cell_type": "markdown",
   "metadata": {},
   "source": [
    "Q7. Write a code to print only the current month and year at the time of answering this question.\n",
    "        [Hint: Use pandas.datetime function"
   ]
  },
  {
   "cell_type": "code",
   "execution_count": 35,
   "metadata": {},
   "outputs": [
    {
     "name": "stdout",
     "output_type": "stream",
     "text": [
      "Current Month: 3\n",
      "Current Year: 2023\n",
      "Current Year: 12:12:26\n"
     ]
    },
    {
     "name": "stderr",
     "output_type": "stream",
     "text": [
      "C:\\Users\\DINESHASHUTOSH\\AppData\\Local\\Temp\\ipykernel_12256\\2073287019.py:3: FutureWarning: The pandas.datetime class is deprecated and will be removed from pandas in a future version. Import from datetime module instead.\n",
      "  today = pd.datetime.now()\n"
     ]
    }
   ],
   "source": [
    "import pandas as pd\n",
    "\n",
    "today = pd.datetime.now()\n",
    "current_month = today.month\n",
    "current_year = today.year\n",
    "current_time = today.strftime('%H:%M:%S')\n",
    "\n",
    "# Print the current time, month and year\n",
    "print(\"Current Month:\", current_month)\n",
    "print(\"Current Year:\", current_year)\n",
    "print(\"Current Year:\", current_time)"
   ]
  },
  {
   "attachments": {},
   "cell_type": "markdown",
   "metadata": {},
   "source": [
    "Q8. Write a Python program that takes in two dates as input (in the format YYYY-MM-DD) and \n",
    "calculates the difference between them in days, hours, and minutes using Pandas time delta. The \n",
    "program should prompt the user to enter the dates and display the result."
   ]
  },
  {
   "cell_type": "code",
   "execution_count": 1,
   "metadata": {},
   "outputs": [
    {
     "name": "stdout",
     "output_type": "stream",
     "text": [
      "Difference between the dates:\n",
      "7742 days, 0 hours, and 0 minutes\n"
     ]
    }
   ],
   "source": [
    "import pandas as pd\n",
    "\n",
    "date1 = input('Enter first date (YYYY-MM-DD): ')\n",
    "date2 = input('Enter second date (YYYY-MM-DD): ')\n",
    "\n",
    "date1 = pd.to_datetime(date1)\n",
    "date2 = pd.to_datetime(date2)\n",
    "\n",
    "timedelta = date2 - date1\n",
    "# Extract the days, hours, and minutes from the timedelta object\n",
    "days = timedelta.days\n",
    "hours = timedelta.seconds // 3600\n",
    "minutes = (timedelta.seconds % 3600) // 60\n",
    "\n",
    "print('Difference between the dates:')\n",
    "print(f'{days} days, {hours} hours, and {minutes} minutes')\n"
   ]
  },
  {
   "attachments": {},
   "cell_type": "markdown",
   "metadata": {},
   "source": [
    "Q9. Write a Python program that reads a CSV file containing categorical data and converts a specified \n",
    "column to a categorical data type. The program should prompt the user to enter the file path, column \n",
    "name, and category order, and then display the sorted data."
   ]
  },
  {
   "cell_type": "code",
   "execution_count": 7,
   "metadata": {},
   "outputs": [],
   "source": [
    "import pandas as pd\n",
    "data = {\"id\":[1,2,3,4,5,6,7,8],\n",
    "       \"Category\":['A','C','C','D','D','F','A','A']\n",
    "       }"
   ]
  },
  {
   "cell_type": "code",
   "execution_count": 8,
   "metadata": {},
   "outputs": [],
   "source": [
    "df = pd.DataFrame(data)\n",
    "df.to_csv('q9.csv')\n"
   ]
  },
  {
   "cell_type": "code",
   "execution_count": 13,
   "metadata": {},
   "outputs": [
    {
     "name": "stdout",
     "output_type": "stream",
     "text": [
      "file_path='q9.csv'\n",
      "column_name='Category'\n",
      "category_order='D,C,A'\n"
     ]
    },
    {
     "data": {
      "text/html": [
       "<div>\n",
       "<style scoped>\n",
       "    .dataframe tbody tr th:only-of-type {\n",
       "        vertical-align: middle;\n",
       "    }\n",
       "\n",
       "    .dataframe tbody tr th {\n",
       "        vertical-align: top;\n",
       "    }\n",
       "\n",
       "    .dataframe thead th {\n",
       "        text-align: right;\n",
       "    }\n",
       "</style>\n",
       "<table border=\"1\" class=\"dataframe\">\n",
       "  <thead>\n",
       "    <tr style=\"text-align: right;\">\n",
       "      <th></th>\n",
       "      <th>Unnamed: 0</th>\n",
       "      <th>id</th>\n",
       "      <th>Category</th>\n",
       "    </tr>\n",
       "  </thead>\n",
       "  <tbody>\n",
       "    <tr>\n",
       "      <th>0</th>\n",
       "      <td>0</td>\n",
       "      <td>1</td>\n",
       "      <td>A</td>\n",
       "    </tr>\n",
       "    <tr>\n",
       "      <th>6</th>\n",
       "      <td>6</td>\n",
       "      <td>7</td>\n",
       "      <td>A</td>\n",
       "    </tr>\n",
       "    <tr>\n",
       "      <th>7</th>\n",
       "      <td>7</td>\n",
       "      <td>8</td>\n",
       "      <td>A</td>\n",
       "    </tr>\n",
       "    <tr>\n",
       "      <th>1</th>\n",
       "      <td>1</td>\n",
       "      <td>2</td>\n",
       "      <td>C</td>\n",
       "    </tr>\n",
       "    <tr>\n",
       "      <th>2</th>\n",
       "      <td>2</td>\n",
       "      <td>3</td>\n",
       "      <td>C</td>\n",
       "    </tr>\n",
       "    <tr>\n",
       "      <th>3</th>\n",
       "      <td>3</td>\n",
       "      <td>4</td>\n",
       "      <td>D</td>\n",
       "    </tr>\n",
       "    <tr>\n",
       "      <th>4</th>\n",
       "      <td>4</td>\n",
       "      <td>5</td>\n",
       "      <td>D</td>\n",
       "    </tr>\n",
       "    <tr>\n",
       "      <th>5</th>\n",
       "      <td>5</td>\n",
       "      <td>6</td>\n",
       "      <td>F</td>\n",
       "    </tr>\n",
       "  </tbody>\n",
       "</table>\n",
       "</div>"
      ],
      "text/plain": [
       "   Unnamed: 0  id Category\n",
       "0           0   1        A\n",
       "6           6   7        A\n",
       "7           7   8        A\n",
       "1           1   2        C\n",
       "2           2   3        C\n",
       "3           3   4        D\n",
       "4           4   5        D\n",
       "5           5   6        F"
      ]
     },
     "execution_count": 13,
     "metadata": {},
     "output_type": "execute_result"
    }
   ],
   "source": [
    "file_path= input(\"Enter the path to csv file: \")\n",
    "column_name=input('Enter the name of the column to convert: ')\n",
    "category_order=input('Enter the category order(comma-separated list): ')\n",
    "\n",
    "data1=pd.read_csv(file_path)\n",
    "categories=category_order.split(\",\")\n",
    "data[column_name]=pd.Categorical(data1[column_name],categories=categories,ordered=True)\n",
    "\n",
    "sorted_data = data1.sort_values(by=column_name)\n",
    "\n",
    "print(f'{file_path=}')\n",
    "print(f'{column_name=}')\n",
    "print(f'{category_order=}')\n",
    "\n",
    "sorted_data"
   ]
  },
  {
   "attachments": {},
   "cell_type": "markdown",
   "metadata": {},
   "source": [
    "Q10. Write a Python program that reads a CSV file containing sales data for different products and \n",
    "visualizes the data using a stacked bar chart to show the sales of each product category over time. The \n",
    "program should prompt the user to enter the file path and display the chart."
   ]
  },
  {
   "cell_type": "code",
   "execution_count": 3,
   "metadata": {},
   "outputs": [
    {
     "data": {
      "text/html": [
       "<div>\n",
       "<style scoped>\n",
       "    .dataframe tbody tr th:only-of-type {\n",
       "        vertical-align: middle;\n",
       "    }\n",
       "\n",
       "    .dataframe tbody tr th {\n",
       "        vertical-align: top;\n",
       "    }\n",
       "\n",
       "    .dataframe thead th {\n",
       "        text-align: right;\n",
       "    }\n",
       "</style>\n",
       "<table border=\"1\" class=\"dataframe\">\n",
       "  <thead>\n",
       "    <tr style=\"text-align: right;\">\n",
       "      <th></th>\n",
       "      <th>Date</th>\n",
       "      <th>Product</th>\n",
       "      <th>Category</th>\n",
       "      <th>Sales</th>\n",
       "    </tr>\n",
       "  </thead>\n",
       "  <tbody>\n",
       "    <tr>\n",
       "      <th>0</th>\n",
       "      <td>2022-01-01</td>\n",
       "      <td>Product A</td>\n",
       "      <td>Category 1</td>\n",
       "      <td>100</td>\n",
       "    </tr>\n",
       "    <tr>\n",
       "      <th>1</th>\n",
       "      <td>2022-01-01</td>\n",
       "      <td>Product B</td>\n",
       "      <td>Category 1</td>\n",
       "      <td>200</td>\n",
       "    </tr>\n",
       "    <tr>\n",
       "      <th>2</th>\n",
       "      <td>2022-01-01</td>\n",
       "      <td>Product C</td>\n",
       "      <td>Category 2</td>\n",
       "      <td>150</td>\n",
       "    </tr>\n",
       "    <tr>\n",
       "      <th>3</th>\n",
       "      <td>2022-01-02</td>\n",
       "      <td>Product A</td>\n",
       "      <td>Category 1</td>\n",
       "      <td>120</td>\n",
       "    </tr>\n",
       "    <tr>\n",
       "      <th>4</th>\n",
       "      <td>2022-01-02</td>\n",
       "      <td>Product B</td>\n",
       "      <td>Category 1</td>\n",
       "      <td>220</td>\n",
       "    </tr>\n",
       "  </tbody>\n",
       "</table>\n",
       "</div>"
      ],
      "text/plain": [
       "        Date    Product    Category  Sales\n",
       "0 2022-01-01  Product A  Category 1    100\n",
       "1 2022-01-01  Product B  Category 1    200\n",
       "2 2022-01-01  Product C  Category 2    150\n",
       "3 2022-01-02  Product A  Category 1    120\n",
       "4 2022-01-02  Product B  Category 1    220"
      ]
     },
     "execution_count": 3,
     "metadata": {},
     "output_type": "execute_result"
    }
   ],
   "source": [
    "file_path=input('Enter the path of csv file containg sales data: ')\n",
    "sales=pd.read_csv(file_path)\n",
    "sales['Date']=sales['Date'].astype('datetime64')\n",
    "sales.head()"
   ]
  },
  {
   "cell_type": "code",
   "execution_count": 4,
   "metadata": {},
   "outputs": [
    {
     "data": {
      "text/html": [
       "<div>\n",
       "<style scoped>\n",
       "    .dataframe tbody tr th:only-of-type {\n",
       "        vertical-align: middle;\n",
       "    }\n",
       "\n",
       "    .dataframe tbody tr th {\n",
       "        vertical-align: top;\n",
       "    }\n",
       "\n",
       "    .dataframe thead th {\n",
       "        text-align: right;\n",
       "    }\n",
       "</style>\n",
       "<table border=\"1\" class=\"dataframe\">\n",
       "  <thead>\n",
       "    <tr style=\"text-align: right;\">\n",
       "      <th></th>\n",
       "      <th>Date</th>\n",
       "      <th>Category</th>\n",
       "      <th>Sales</th>\n",
       "    </tr>\n",
       "  </thead>\n",
       "  <tbody>\n",
       "    <tr>\n",
       "      <th>0</th>\n",
       "      <td>2022-01-01</td>\n",
       "      <td>Category 1</td>\n",
       "      <td>300</td>\n",
       "    </tr>\n",
       "    <tr>\n",
       "      <th>1</th>\n",
       "      <td>2022-01-01</td>\n",
       "      <td>Category 2</td>\n",
       "      <td>150</td>\n",
       "    </tr>\n",
       "    <tr>\n",
       "      <th>2</th>\n",
       "      <td>2022-01-02</td>\n",
       "      <td>Category 1</td>\n",
       "      <td>340</td>\n",
       "    </tr>\n",
       "    <tr>\n",
       "      <th>3</th>\n",
       "      <td>2022-01-02</td>\n",
       "      <td>Category 2</td>\n",
       "      <td>160</td>\n",
       "    </tr>\n",
       "    <tr>\n",
       "      <th>4</th>\n",
       "      <td>2022-01-03</td>\n",
       "      <td>Category 1</td>\n",
       "      <td>400</td>\n",
       "    </tr>\n",
       "  </tbody>\n",
       "</table>\n",
       "</div>"
      ],
      "text/plain": [
       "        Date    Category  Sales\n",
       "0 2022-01-01  Category 1    300\n",
       "1 2022-01-01  Category 2    150\n",
       "2 2022-01-02  Category 1    340\n",
       "3 2022-01-02  Category 2    160\n",
       "4 2022-01-03  Category 1    400"
      ]
     },
     "execution_count": 4,
     "metadata": {},
     "output_type": "execute_result"
    }
   ],
   "source": [
    "sales_grouped=sales.groupby(['Date','Category'])['Sales'].sum().reset_index()\n",
    "sales_grouped.head()"
   ]
  },
  {
   "cell_type": "code",
   "execution_count": 5,
   "metadata": {},
   "outputs": [
    {
     "data": {
      "text/html": [
       "<div>\n",
       "<style scoped>\n",
       "    .dataframe tbody tr th:only-of-type {\n",
       "        vertical-align: middle;\n",
       "    }\n",
       "\n",
       "    .dataframe tbody tr th {\n",
       "        vertical-align: top;\n",
       "    }\n",
       "\n",
       "    .dataframe thead th {\n",
       "        text-align: right;\n",
       "    }\n",
       "</style>\n",
       "<table border=\"1\" class=\"dataframe\">\n",
       "  <thead>\n",
       "    <tr style=\"text-align: right;\">\n",
       "      <th>Category</th>\n",
       "      <th>Category 1</th>\n",
       "      <th>Category 2</th>\n",
       "    </tr>\n",
       "    <tr>\n",
       "      <th>Date</th>\n",
       "      <th></th>\n",
       "      <th></th>\n",
       "    </tr>\n",
       "  </thead>\n",
       "  <tbody>\n",
       "    <tr>\n",
       "      <th>2022-01-01</th>\n",
       "      <td>300</td>\n",
       "      <td>150</td>\n",
       "    </tr>\n",
       "    <tr>\n",
       "      <th>2022-01-02</th>\n",
       "      <td>340</td>\n",
       "      <td>160</td>\n",
       "    </tr>\n",
       "    <tr>\n",
       "      <th>2022-01-03</th>\n",
       "      <td>400</td>\n",
       "      <td>200</td>\n",
       "    </tr>\n",
       "    <tr>\n",
       "      <th>2022-01-04</th>\n",
       "      <td>340</td>\n",
       "      <td>170</td>\n",
       "    </tr>\n",
       "    <tr>\n",
       "      <th>2022-01-05</th>\n",
       "      <td>380</td>\n",
       "      <td>180</td>\n",
       "    </tr>\n",
       "    <tr>\n",
       "      <th>2022-01-06</th>\n",
       "      <td>390</td>\n",
       "      <td>190</td>\n",
       "    </tr>\n",
       "    <tr>\n",
       "      <th>2022-01-07</th>\n",
       "      <td>430</td>\n",
       "      <td>220</td>\n",
       "    </tr>\n",
       "    <tr>\n",
       "      <th>2022-01-08</th>\n",
       "      <td>470</td>\n",
       "      <td>250</td>\n",
       "    </tr>\n",
       "    <tr>\n",
       "      <th>2022-01-09</th>\n",
       "      <td>510</td>\n",
       "      <td>280</td>\n",
       "    </tr>\n",
       "    <tr>\n",
       "      <th>2022-01-10</th>\n",
       "      <td>550</td>\n",
       "      <td>300</td>\n",
       "    </tr>\n",
       "  </tbody>\n",
       "</table>\n",
       "</div>"
      ],
      "text/plain": [
       "Category    Category 1  Category 2\n",
       "Date                              \n",
       "2022-01-01         300         150\n",
       "2022-01-02         340         160\n",
       "2022-01-03         400         200\n",
       "2022-01-04         340         170\n",
       "2022-01-05         380         180\n",
       "2022-01-06         390         190\n",
       "2022-01-07         430         220\n",
       "2022-01-08         470         250\n",
       "2022-01-09         510         280\n",
       "2022-01-10         550         300"
      ]
     },
     "execution_count": 5,
     "metadata": {},
     "output_type": "execute_result"
    }
   ],
   "source": [
    "sales_pivot=sales_grouped.pivot(index='Date',columns='Category',values='Sales')\n",
    "sales_pivot"
   ]
  },
  {
   "cell_type": "code",
   "execution_count": 6,
   "metadata": {},
   "outputs": [
    {
     "data": {
      "image/png": "[encoded data removed]",
      "text/plain": [
       "<Figure size 432x288 with 1 Axes>"
      ]
     },
     "metadata": {
      "needs_background": "light"
     },
     "output_type": "display_data"
    }
   ],
   "source": [
    "import matplotlib.pyplot as plt \n",
    "sales_pivot.plot(kind='barh',stacked=True)\n",
    "plt.title('Sales by category over time')\n",
    "plt.xlabel('Date')\n",
    "plt.ylabel('sales')\n",
    "plt.show()"
   ]
  },
  {
   "attachments": {},
   "cell_type": "markdown",
   "metadata": {},
   "source": [
    "Q11. You are given a CSV file containing student data that includes the student ID and their test score. Write \n",
    "a Python program that reads the CSV file, calculates the mean, median, and mode of the test scores, and \n",
    "displays the results in a table.\n",
    "        The program should do the followingM\n",
    "        I Prompt the user to enter the file path of the CSV file containing the student dataR\n",
    "        I Read the CSV file into a Pandas DataFrameR\n",
    "        I Calculate the mean, median, and mode of the test scores using Pandas toolsR\n",
    "        I Display the mean, median, and mode in a table.\n",
    "\n",
    "        Assume the CSV file contains the following columnsM\n",
    "        I Student ID: The ID of the studentR\n",
    "        I Test Score: The score of the student's test.\n",
    "        Example usage of the program:\n",
    "\n",
    "        Enter the file path of the CSV file containing the student data: student_data.csv\n",
    "\n",
    "\n",
    "        +-----------+--------+\n",
    "\n",
    "        | Statistic | Value  |\n",
    "\n",
    "        +-----------+--------+\n",
    "        | Mean      | 79.6   |\n",
    "\n",
    "        | Median    | 82     |\n",
    "\n",
    "        | Mode      | 85, 90 |\n",
    "\n",
    "        +-----------+--------+\n",
    "\n",
    "\n",
    "        Assume that the CSV file student_data.csv contains the following data:\n",
    "\n",
    "        Student ID,Test Score\n",
    "\n",
    "        1,85\n",
    "\n",
    "        2,90\n",
    "\n",
    "        3,80\n",
    "\n",
    "        4,75\n",
    "\n",
    "        5,85\n",
    "\n",
    "        6,82\n",
    "\n",
    "        7,78\n",
    "\n",
    "        8,85\n",
    "\n",
    "        9,90\n",
    "\n",
    "        10,85\n",
    "\n",
    "\n",
    "The program should calculate the mean, median, and mode of the test scores and display the results \n",
    "in a table."
   ]
  },
  {
   "cell_type": "code",
   "execution_count": 2,
   "metadata": {},
   "outputs": [
    {
     "data": {
      "text/html": [
       "<div>\n",
       "<style scoped>\n",
       "    .dataframe tbody tr th:only-of-type {\n",
       "        vertical-align: middle;\n",
       "    }\n",
       "\n",
       "    .dataframe tbody tr th {\n",
       "        vertical-align: top;\n",
       "    }\n",
       "\n",
       "    .dataframe thead th {\n",
       "        text-align: right;\n",
       "    }\n",
       "</style>\n",
       "<table border=\"1\" class=\"dataframe\">\n",
       "  <thead>\n",
       "    <tr style=\"text-align: right;\">\n",
       "      <th></th>\n",
       "      <th>Values</th>\n",
       "    </tr>\n",
       "  </thead>\n",
       "  <tbody>\n",
       "    <tr>\n",
       "      <th>Mean</th>\n",
       "      <td>83.5</td>\n",
       "    </tr>\n",
       "    <tr>\n",
       "      <th>Median</th>\n",
       "      <td>85.0</td>\n",
       "    </tr>\n",
       "    <tr>\n",
       "      <th>Mode</th>\n",
       "      <td>0    85\n",
       "Name: Test Score, dtype: int64</td>\n",
       "    </tr>\n",
       "  </tbody>\n",
       "</table>\n",
       "</div>"
      ],
      "text/plain": [
       "                                        Values\n",
       "Mean                                      83.5\n",
       "Median                                    85.0\n",
       "Mode    0    85\n",
       "Name: Test Score, dtype: int64"
      ]
     },
     "execution_count": 2,
     "metadata": {},
     "output_type": "execute_result"
    }
   ],
   "source": [
    "import pandas as pd\n",
    "file_path='student_data.csv'\n",
    "students=pd.read_csv(file_path)\n",
    "\n",
    "st_stats={\n",
    "    'Mean': students['Test Score'].mean(),\n",
    "    'Median': students['Test Score'].median(),\n",
    "    'Mode': students['Test Score'].mode()\n",
    "}\n",
    "\n",
    "pd.DataFrame.from_dict(st_stats, orient='index',columns=['Values'])"
   ]
  },
  {
   "cell_type": "code",
   "execution_count": null,
   "metadata": {},
   "outputs": [],
   "source": []
  }
 ],
 "metadata": {
  "kernelspec": {
   "display_name": "Python 3",
   "language": "python",
   "name": "python3"
  },
  "language_info": {
   "codemirror_mode": {
    "name": "ipython",
    "version": 3
   },
   "file_extension": ".py",
   "mimetype": "text/x-python",
   "name": "python",
   "nbconvert_exporter": "python",
   "pygments_lexer": "ipython3",
   "version": "3.9.10"
  },
  "orig_nbformat": 4,
  "vscode": {
   "interpreter": {
    "hash": "68360625e4cc29d002a61fb939545e264dabbb2ea2c79c9e867abe8e0afd20fa"
   }
  }
 },
 "nbformat": 4,
 "nbformat_minor": 2
}
