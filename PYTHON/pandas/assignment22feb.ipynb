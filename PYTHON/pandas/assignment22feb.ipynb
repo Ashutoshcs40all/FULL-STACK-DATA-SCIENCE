{
 "cells": [
  {
   "attachments": {},
   "cell_type": "markdown",
   "metadata": {},
   "source": [
    "Q1. Create a Pandas Series that contains the following data: 4, 8, 15, 16, 23, and 42. Then, print the series."
   ]
  },
  {
   "cell_type": "code",
   "execution_count": 1,
   "metadata": {},
   "outputs": [],
   "source": [
    "import pandas as pd"
   ]
  },
  {
   "cell_type": "code",
   "execution_count": 3,
   "metadata": {},
   "outputs": [
    {
     "name": "stdout",
     "output_type": "stream",
     "text": [
      "0     4\n",
      "1     8\n",
      "2    15\n",
      "3    16\n",
      "4    23\n",
      "5    42\n",
      "dtype: int64\n"
     ]
    }
   ],
   "source": [
    "data=[4, 8, 15, 16, 23,42]\n",
    "series=pd.Series(data)\n",
    "print(series)"
   ]
  },
  {
   "attachments": {},
   "cell_type": "markdown",
   "metadata": {},
   "source": [
    "Q2. Create a variable of list type containing 10 elements in it, and apply pandas.Series function on the \n",
    "variable print it"
   ]
  },
  {
   "cell_type": "code",
   "execution_count": 4,
   "metadata": {},
   "outputs": [
    {
     "name": "stdout",
     "output_type": "stream",
     "text": [
      "[2, 4, 6, 8, 10, 12, 14, 16, 18, 20]\n"
     ]
    }
   ],
   "source": [
    "list=[2,4,6, 8,10,12,14, 16,18,20 ]\n",
    "series=pd.Series(list)\n",
    "print(list)"
   ]
  },
  {
   "attachments": {},
   "cell_type": "markdown",
   "metadata": {},
   "source": [
    "Q3. Create a Pandas DataFrame that contains the following data:"
   ]
  },
  {
   "cell_type": "code",
   "execution_count": 19,
   "metadata": {},
   "outputs": [
    {
     "data": {
      "text/html": [
       "<div>\n",
       "<style scoped>\n",
       "    .dataframe tbody tr th:only-of-type {\n",
       "        vertical-align: middle;\n",
       "    }\n",
       "\n",
       "    .dataframe tbody tr th {\n",
       "        vertical-align: top;\n",
       "    }\n",
       "\n",
       "    .dataframe thead th {\n",
       "        text-align: right;\n",
       "    }\n",
       "</style>\n",
       "<table border=\"1\" class=\"dataframe\">\n",
       "  <thead>\n",
       "    <tr style=\"text-align: right;\">\n",
       "      <th></th>\n",
       "      <th>Name</th>\n",
       "      <th>Age</th>\n",
       "      <th>Gender</th>\n",
       "    </tr>\n",
       "  </thead>\n",
       "  <tbody>\n",
       "    <tr>\n",
       "      <th>0</th>\n",
       "      <td>Alice</td>\n",
       "      <td>25</td>\n",
       "      <td>Female</td>\n",
       "    </tr>\n",
       "    <tr>\n",
       "      <th>1</th>\n",
       "      <td>Bob</td>\n",
       "      <td>30</td>\n",
       "      <td>Male</td>\n",
       "    </tr>\n",
       "    <tr>\n",
       "      <th>2</th>\n",
       "      <td>Claire</td>\n",
       "      <td>27</td>\n",
       "      <td>Female</td>\n",
       "    </tr>\n",
       "  </tbody>\n",
       "</table>\n",
       "</div>"
      ],
      "text/plain": [
       "     Name  Age  Gender\n",
       "0   Alice   25  Female\n",
       "1     Bob   30    Male\n",
       "2  Claire   27  Female"
      ]
     },
     "execution_count": 19,
     "metadata": {},
     "output_type": "execute_result"
    }
   ],
   "source": [
    "list1=[{'Name':'Alice','Age':25,'Gender':'Female'},{'Name':'Bob','Age':30,'Gender':'Male'},{'Name':'Claire','Age':27,'Gender':'Female'}]\n",
    "df=pd.DataFrame(list1)\n",
    "df"
   ]
  },
  {
   "attachments": {},
   "cell_type": "markdown",
   "metadata": {},
   "source": [
    "Q4. What is ‘DataFrame’ in pandas and how is it different from pandas.series? Explain with an example.\n",
    "\n",
    "        In Pandas, a DataFrame is a 2-dimensional labeled data structure with columns of potentially different types. It is like a spreadsheet or a SQL table, where rows represent the observations and columns represent the variables. A DataFrame can be thought of as a collection of Pandas Series, where each Series represents a column of the DataFrame.\n",
    "\n",
    "        On the other hand, a Pandas Series is a 1-dimensional labeled array capable of holding data of any type. A Series can be thought of as a single column of data in a DataFrame.\n",
    "        Here's an example to illustrate the difference between a Pandas Series and a DataFrame:"
   ]
  },
  {
   "cell_type": "code",
   "execution_count": 20,
   "metadata": {},
   "outputs": [
    {
     "name": "stdout",
     "output_type": "stream",
     "text": [
      "Pandas Series:\n",
      "0     2\n",
      "1     4\n",
      "2     6\n",
      "3     8\n",
      "4    10\n",
      "5    12\n",
      "6    14\n",
      "7    16\n",
      "8    18\n",
      "9    20\n",
      "Name: Numbers, dtype: int64\n",
      "\n",
      "Data Frame\n"
     ]
    },
    {
     "data": {
      "text/html": [
       "<div>\n",
       "<style scoped>\n",
       "    .dataframe tbody tr th:only-of-type {\n",
       "        vertical-align: middle;\n",
       "    }\n",
       "\n",
       "    .dataframe tbody tr th {\n",
       "        vertical-align: top;\n",
       "    }\n",
       "\n",
       "    .dataframe thead th {\n",
       "        text-align: right;\n",
       "    }\n",
       "</style>\n",
       "<table border=\"1\" class=\"dataframe\">\n",
       "  <thead>\n",
       "    <tr style=\"text-align: right;\">\n",
       "      <th></th>\n",
       "      <th>Name</th>\n",
       "      <th>Age</th>\n",
       "      <th>Gender</th>\n",
       "    </tr>\n",
       "  </thead>\n",
       "  <tbody>\n",
       "    <tr>\n",
       "      <th>0</th>\n",
       "      <td>Ashutosh</td>\n",
       "      <td>25</td>\n",
       "      <td>male</td>\n",
       "    </tr>\n",
       "    <tr>\n",
       "      <th>1</th>\n",
       "      <td>Shan-A-Alam</td>\n",
       "      <td>30</td>\n",
       "      <td>Male</td>\n",
       "    </tr>\n",
       "    <tr>\n",
       "      <th>2</th>\n",
       "      <td>FarazUncle</td>\n",
       "      <td>27</td>\n",
       "      <td>Female</td>\n",
       "    </tr>\n",
       "  </tbody>\n",
       "</table>\n",
       "</div>"
      ],
      "text/plain": [
       "          Name  Age  Gender\n",
       "0     Ashutosh   25    male\n",
       "1  Shan-A-Alam   30    Male\n",
       "2   FarazUncle   27  Female"
      ]
     },
     "execution_count": 20,
     "metadata": {},
     "output_type": "execute_result"
    }
   ],
   "source": [
    "series=pd.Series([2,4,6, 8,10,12,14, 16,18,20 ],name='Numbers')\n",
    "\n",
    "\n",
    "list3={'Name': pd.Series(['Ashutosh', 'Shan-A-Alam', 'FarazUncle']),'Age':pd.Series([25,30,27]) ,'Gender':(['male','Male','Female'])}\n",
    "df=pd.DataFrame(list3)\n",
    "\n",
    "print(\"Pandas Series:\")\n",
    "print(series)\n",
    "print(\"\\nData Frame\")\n",
    "df"
   ]
  },
  {
   "attachments": {},
   "cell_type": "markdown",
   "metadata": {},
   "source": [
    "Q5. What are some common functions you can use to manipulate data in a Pandas DataFrame? Can \n",
    "you give an example of when you might use one of these functions?\n",
    "\n",
    "        Pandas offers a wide range of functions that you can use to manipulate data in a DataFrame. Here are some common functions:\n",
    "\n",
    "        1) head() and tail(): These functions allow you to view the first or last n rows of a DataFrame, respectively. For example, you can use df.head() to view the first five rows of a DataFrame named df.\n",
    "\n",
    "        2) describe(): This function provides a summary of the statistical properties of each column in the DataFrame, such as the mean, standard deviation, and quartiles.\n",
    "\n",
    "        3) loc[] and iloc[]: These functions allow you to slice and select specific rows and columns of the DataFrame. loc[] is used for label-based indexing, while iloc[] is used for integer-based indexing. For example, you can use df.loc[:, 'column_name'] to select all rows of a specific column named column_name.\n",
    "\n",
    "        4) drop(): This function allows you to drop rows or columns from the DataFrame based on specific conditions. For example, you can use df.drop(df[df['column_name'] < 0].index) to drop all rows where the values in the column column_name are less than 0.\n",
    "\n",
    "        5) groupby(): This function allows you to group the DataFrame by one or more columns and apply a function to each group. For example, you can use df.groupby('column_name').mean() to calculate the mean of each column for each unique value in the column column_name.\n",
    "\n",
    "        6) merge(): This function allows you to join two or more DataFrames based on a common column. For example, you can use pd.merge(df1, df2, on='column_name') to join two DataFrames df1 and df2 on the column column_name.\n",
    "\n",
    "        7) apply(): This function applies a function to each element of the DataFrame. For example, you can use df.apply(lambda x: x*2) to multiply each element of the DataFrame by 2. \n",
    "\n",
    "        Here's an example of how you might use one of these functions:\n",
    "        Suppose you have a DataFrame named sales_data that contains information about sales of different products in different regions. You want to calculate the total sales for each region. You can use the groupby() function to group the DataFrame by the \"region\" column, and then apply the sum() function to calculate the total sales for each region:"
   ]
  },
  {
   "cell_type": "code",
   "execution_count": 25,
   "metadata": {},
   "outputs": [
    {
     "data": {
      "text/html": [
       "<div>\n",
       "<style scoped>\n",
       "    .dataframe tbody tr th:only-of-type {\n",
       "        vertical-align: middle;\n",
       "    }\n",
       "\n",
       "    .dataframe tbody tr th {\n",
       "        vertical-align: top;\n",
       "    }\n",
       "\n",
       "    .dataframe thead th {\n",
       "        text-align: right;\n",
       "    }\n",
       "</style>\n",
       "<table border=\"1\" class=\"dataframe\">\n",
       "  <thead>\n",
       "    <tr style=\"text-align: right;\">\n",
       "      <th></th>\n",
       "      <th>Sales</th>\n",
       "    </tr>\n",
       "    <tr>\n",
       "      <th>Region</th>\n",
       "      <th></th>\n",
       "    </tr>\n",
       "  </thead>\n",
       "  <tbody>\n",
       "    <tr>\n",
       "      <th>North</th>\n",
       "      <td>450</td>\n",
       "    </tr>\n",
       "    <tr>\n",
       "      <th>South</th>\n",
       "      <td>750</td>\n",
       "    </tr>\n",
       "  </tbody>\n",
       "</table>\n",
       "</div>"
      ],
      "text/plain": [
       "        Sales\n",
       "Region       \n",
       "North     450\n",
       "South     750"
      ]
     },
     "execution_count": 25,
     "metadata": {},
     "output_type": "execute_result"
    }
   ],
   "source": [
    "import pandas as pd\n",
    "\n",
    "# Creating a sample DataFrame\n",
    "data = {'Product': ['A', 'B', 'C', 'A', 'B', 'C'],\n",
    "        'Region': ['North', 'North', 'North', 'South', 'South', 'South'],\n",
    "        'Sales': [100, 200, 150, 250, 300, 200]}\n",
    "sales_data = pd.DataFrame(data)\n",
    "\n",
    "# Grouping \n",
    "total_sales_by_region = sales_data.groupby('Region')['Sales'].sum()\n",
    "df=pd.DataFrame(total_sales_by_region)\n",
    "\n",
    "# Printing the total sales for each region\n",
    "df\n"
   ]
  },
  {
   "attachments": {},
   "cell_type": "markdown",
   "metadata": {},
   "source": [
    "Q6. Which of the following is mutable in nature Series, DataFrame, Panel?\n",
    "\n",
    "        In Pandas, both Series and DataFrame are mutable objects. That means you can modify their values, add new data, or delete data in-place. On the other hand, the Panel is deprecated and no longer recommended for use. Instead, you should use the more powerful and flexible MultiIndex objects to represent higher-dimensional data in Pandas. However, if you do use the Panel object, it is also mutable.\n",
    "        Here's an example to demonstrate how Series and DataFrame can be modified in-place:"
   ]
  },
  {
   "cell_type": "code",
   "execution_count": 21,
   "metadata": {},
   "outputs": [
    {
     "name": "stdout",
     "output_type": "stream",
     "text": [
      "Modified Series::\n",
      "0     2\n",
      "1    25\n",
      "2     6\n",
      "3    35\n",
      "4    10\n",
      "5    12\n",
      "6    14\n",
      "7    16\n",
      "8    18\n",
      "9    20\n",
      "Name: Numbers, dtype: int64\n",
      "\n",
      "Modified Data Frame\n"
     ]
    },
    {
     "data": {
      "text/html": [
       "<div>\n",
       "<style scoped>\n",
       "    .dataframe tbody tr th:only-of-type {\n",
       "        vertical-align: middle;\n",
       "    }\n",
       "\n",
       "    .dataframe tbody tr th {\n",
       "        vertical-align: top;\n",
       "    }\n",
       "\n",
       "    .dataframe thead th {\n",
       "        text-align: right;\n",
       "    }\n",
       "</style>\n",
       "<table border=\"1\" class=\"dataframe\">\n",
       "  <thead>\n",
       "    <tr style=\"text-align: right;\">\n",
       "      <th></th>\n",
       "      <th>Name</th>\n",
       "      <th>Age</th>\n",
       "      <th>Gender</th>\n",
       "    </tr>\n",
       "  </thead>\n",
       "  <tbody>\n",
       "    <tr>\n",
       "      <th>0</th>\n",
       "      <td>Tarique Zayan</td>\n",
       "      <td>25</td>\n",
       "      <td>male</td>\n",
       "    </tr>\n",
       "    <tr>\n",
       "      <th>1</th>\n",
       "      <td>Ashutosh</td>\n",
       "      <td>21</td>\n",
       "      <td>Male</td>\n",
       "    </tr>\n",
       "    <tr>\n",
       "      <th>2</th>\n",
       "      <td>FarazUncle</td>\n",
       "      <td>27</td>\n",
       "      <td>Female</td>\n",
       "    </tr>\n",
       "  </tbody>\n",
       "</table>\n",
       "</div>"
      ],
      "text/plain": [
       "            Name  Age  Gender\n",
       "0  Tarique Zayan   25    male\n",
       "1       Ashutosh   21    Male\n",
       "2     FarazUncle   27  Female"
      ]
     },
     "execution_count": 21,
     "metadata": {},
     "output_type": "execute_result"
    }
   ],
   "source": [
    "series=pd.Series([2,4,6, 8,10,12,14, 16,18,20 ],name='Numbers')\n",
    "\n",
    "series[1] = 25 #modifying value in series\n",
    "series[3] = 35\n",
    "\n",
    "\n",
    "list3={'Name': pd.Series(['Tarique Zayan', 'Shan-A-Alam', 'FarazUncle']),'Age':pd.Series([25,30,27]) ,'Gender':(['male','Male','Female'])}\n",
    "df=pd.DataFrame(list3)\n",
    "                                ##modifying value in DataFrame\n",
    "df.loc[1, 'Name'] = 'Ashutosh'\n",
    "df.loc[1, 'Age'] = 21\n",
    "\n",
    "## Printing the modified Series and DataFrame\n",
    "print(\"Modified Series::\")\n",
    "print(series)\n",
    "print(\"\\nModified Data Frame\")\n",
    "df"
   ]
  },
  {
   "attachments": {},
   "cell_type": "markdown",
   "metadata": {},
   "source": [
    "Q7. Create a DataFrame using multiple Series. Explain with an example."
   ]
  },
  {
   "cell_type": "code",
   "execution_count": 13,
   "metadata": {},
   "outputs": [
    {
     "data": {
      "text/html": [
       "<div>\n",
       "<style scoped>\n",
       "    .dataframe tbody tr th:only-of-type {\n",
       "        vertical-align: middle;\n",
       "    }\n",
       "\n",
       "    .dataframe tbody tr th {\n",
       "        vertical-align: top;\n",
       "    }\n",
       "\n",
       "    .dataframe thead th {\n",
       "        text-align: right;\n",
       "    }\n",
       "</style>\n",
       "<table border=\"1\" class=\"dataframe\">\n",
       "  <thead>\n",
       "    <tr style=\"text-align: right;\">\n",
       "      <th></th>\n",
       "      <th>Name</th>\n",
       "      <th>Age</th>\n",
       "      <th>Salary</th>\n",
       "    </tr>\n",
       "  </thead>\n",
       "  <tbody>\n",
       "    <tr>\n",
       "      <th>0</th>\n",
       "      <td>Ashutosh</td>\n",
       "      <td>21</td>\n",
       "      <td>500</td>\n",
       "    </tr>\n",
       "    <tr>\n",
       "      <th>1</th>\n",
       "      <td>Shan-A-Alam</td>\n",
       "      <td>30</td>\n",
       "      <td>60000</td>\n",
       "    </tr>\n",
       "    <tr>\n",
       "      <th>2</th>\n",
       "      <td>FarazUncle</td>\n",
       "      <td>35</td>\n",
       "      <td>70000</td>\n",
       "    </tr>\n",
       "  </tbody>\n",
       "</table>\n",
       "</div>"
      ],
      "text/plain": [
       "          Name  Age  Salary\n",
       "0     Ashutosh   21     500\n",
       "1  Shan-A-Alam   30   60000\n",
       "2   FarazUncle   35   70000"
      ]
     },
     "execution_count": 13,
     "metadata": {},
     "output_type": "execute_result"
    }
   ],
   "source": [
    "names = pd.Series(['Ashutosh', 'Shan-A-Alam', 'FarazUncle'])\n",
    "ages = pd.Series([21, 30, 35])\n",
    "salaries = pd.Series([500, 60000, 70000])\n",
    "\n",
    "data = {'Name': names, 'Age': ages, 'Salary': salaries}\n",
    "df = pd.DataFrame(data)\n",
    "\n",
    "\n",
    "df"
   ]
  },
  {
   "attachments": {},
   "cell_type": "markdown",
   "metadata": {},
   "source": [
    "    In this example, we first create three Pandas Series named \"names\", \"ages\", and \"salaries\". Then, we create a dictionary of these Series and pass it to the Pandas DataFrame constructor to create a DataFrame.\n",
    "    When we print the DataFrame, we get the above output:\n",
    "    In the output, you can see that the DataFrame has three columns named \"Name\", \"Age\", and \"Salary\", each containing the corresponding values from the Pandas Series. The DataFrame also has row indices that start from 0 and increment by 1 for each row."
   ]
  },
  {
   "cell_type": "code",
   "execution_count": null,
   "metadata": {},
   "outputs": [],
   "source": []
  }
 ],
 "metadata": {
  "kernelspec": {
   "display_name": "Python 3",
   "language": "python",
   "name": "python3"
  },
  "language_info": {
   "codemirror_mode": {
    "name": "ipython",
    "version": 3
   },
   "file_extension": ".py",
   "mimetype": "text/x-python",
   "name": "python",
   "nbconvert_exporter": "python",
   "pygments_lexer": "ipython3",
   "version": "3.9.10"
  },
  "orig_nbformat": 4,
  "vscode": {
   "interpreter": {
    "hash": "68360625e4cc29d002a61fb939545e264dabbb2ea2c79c9e867abe8e0afd20fa"
   }
  }
 },
 "nbformat": 4,
 "nbformat_minor": 2
}
