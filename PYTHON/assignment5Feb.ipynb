{
 "cells": [
  {
   "cell_type": "markdown",
   "metadata": {},
   "source": [
    "Q1. Explain Class and Object with respect to Object-Oriented Programming. Give a suitable example.\n",
    "                \n",
    "        In object-Oriented programming(oop), a class is a blueprint for creating objects(i.e. instance of a class). Objects are created from a class and can contain data and methods that operate on that data. Classes are defined using the 'class keyword followed by the class name and a :(colon). The data and methods of a class are defined inside the the class body, ehich is indented. For example:"
   ]
  },
  {
   "cell_type": "code",
   "execution_count": 3,
   "metadata": {},
   "outputs": [
    {
     "name": "stdout",
     "output_type": "stream",
     "text": [
      "TATA Model SUV (2023)\n"
     ]
    }
   ],
   "source": [
    "class Car:\n",
    "    def __init__(self,make,model,year):\n",
    "        self.make = make\n",
    "        self.model = model\n",
    "        self.year = year\n",
    "\n",
    "    def description(self):\n",
    "        return f\"{self.make} {self.model} ({self.year})\"\n",
    "\n",
    "car = Car(\"TATA\",\"Model SUV\",2023)\n",
    "print(car.description())"
   ]
  },
  {
   "cell_type": "markdown",
   "metadata": {},
   "source": [
    "Q2. Name the four pillars of OOPs.\n",
    "\n",
    "        Python is an Object-Oriented Programming language. Everything in Python is an object. Like other Object-Oriented languages, when creating objects using classes, there are  four(4) basic principles for writing clean and concise code. These principles are called the four pillars of object-oriented programming (OOP). These four pillars are Inheritance, Polymorphism, Encapsulation and Abstraction.these four pillars are called object-oriented programming.\n",
    "        Inheritence:::: In Python it is possible to create an object that inherits the methods and properties of another object. This is called inheritance. In inheritance, there is a parent class and a child class. A child class inherits the properties and methods of the parent class. \n",
    "        Polymorphism::: Polymorphism simply means 'many forms'. In Python this means that you can have one function or object that can be used in different ways. Let's take an example of the addition operator (+); we can use it to add numbers.\n",
    "        In OOP, polymorphism can be implemented with inheritance. The methods of the child class will have the same name as those of the parent class. The child class method overrides the method inherited from the parent class, when called with the child class object. This kind of implementation is called method overriding. \n",
    "        Encapsulation:::Encapsulation is the process of making data private by wrapping data and its methods in a 'capsule' or unit, so that it can not be accessed or modified outside of that unit. This is achieved by making variables inside a class private. In Python we can make variables private by prefixing the variable name with a double underscore '__'. \n",
    "        If you do not want to make the data private, you can make it protected. To make the variable protected, you only need to prefix the variable with a single underscore '_'. However, protected data can be accessed and modified outside the class. Adding a single underscore is simply a conventional way of informing other programmers that may use your code that the variable with an underscore prefix is protected and should not be modified.\n",
    "        Abstraction::: The fourth piller of oops is abstraction. Abstraction is about keeping the process simple by hiding unnecessary details from the user. In OOP abstraction is achieved by creating an interface class (base class) and implementation classes(subclasses.)"
   ]
  },
  {
   "cell_type": "code",
   "execution_count": 11,
   "metadata": {},
   "outputs": [
    {
     "name": "stdout",
     "output_type": "stream",
     "text": [
      "WOOF\n"
     ]
    }
   ],
   "source": [
    "#Inheritence example\n",
    "#Parent calss\n",
    "class Animal:\n",
    "    def __init__(self,name):\n",
    "        self.name=name\n",
    "\n",
    "    def make_sound(self):\n",
    "        pass\n",
    "\n",
    "class Dog(Animal):\n",
    "    def make_sound(self):\n",
    "        print(\"WOOF\")\n",
    "\n",
    "dog = Dog(\"Rufs\")\n",
    "dog.make_sound()\n",
    "\n"
   ]
  },
  {
   "cell_type": "code",
   "execution_count": 15,
   "metadata": {},
   "outputs": [
    {
     "name": "stdout",
     "output_type": "stream",
     "text": [
      "68\n",
      "This method starts all cars\n",
      "This method starts a TATA\n",
      "This method starts a MAHENDIRA\n"
     ]
    }
   ],
   "source": [
    "#polymorphism\n",
    "x=23\n",
    "y=45\n",
    "print(x+y)\n",
    "\n",
    "####################################\n",
    "\n",
    "class Cars:\n",
    "    def start(self): #Cars class method\n",
    "        return 'This method starts all cars'\n",
    "\n",
    "class TATA(Cars):   #inherting from the cars class\n",
    "    def start(self): #TATA class method\n",
    "        return 'This method starts a TATA'\n",
    "\n",
    "class MAHENDIRA(Cars): #inherting from the cars class\n",
    "    def start(self):   #MAHENDIRA class method\n",
    "        return 'This method starts a MAHENDIRA'\n",
    "\n",
    "#Instantiating and printing cars object\n",
    "car = Cars()\n",
    "print(car.start())\n",
    "tata = TATA()\n",
    "print(tata.start())\n",
    "mahendira =MAHENDIRA()\n",
    "print(mahendira.start())"
   ]
  },
  {
   "cell_type": "code",
   "execution_count": 18,
   "metadata": {},
   "outputs": [
    {
     "name": "stdout",
     "output_type": "stream",
     "text": [
      "9000\n"
     ]
    }
   ],
   "source": [
    "#Encapsulation ex:\n",
    "class BANK_A_C:\n",
    "    def __init__(self,balance): \n",
    "        self.__balance = balance\n",
    "\n",
    "    def deposit(self,amount):\n",
    "        self.__balance += amount\n",
    "\n",
    "    def withdraw(self,amount):\n",
    "        if self.__balance - amount >=0:\n",
    "            self.__balance -=amount\n",
    "        else:\n",
    "            print(\"Insufficient funds.\")\n",
    "\n",
    "    def get_balance(self):\n",
    "        return self.__balance\n",
    "\n",
    "account = BANK_A_C(10000) #creating an instance of the BANK_A_C class\n",
    "\n",
    "account.deposit(500)  #Deposit Money\n",
    "\n",
    "account.withdraw(1500)   #withdraw money\n",
    "\n",
    "print(account.get_balance()) #check balance"
   ]
  },
  {
   "cell_type": "code",
   "execution_count": 22,
   "metadata": {},
   "outputs": [
    {
     "name": "stdout",
     "output_type": "stream",
     "text": [
      "The mileage is 25kmph\n",
      "The mileage is 24kmph\n",
      "The mileage is 27kmph\n"
     ]
    }
   ],
   "source": [
    "#Abstraction ex:\n",
    "\n",
    "from abc import ABC, abstractmethod\n",
    "class Car(ABC):\n",
    "    def mileage(ABC):\n",
    "        pass\n",
    "class TATA(Car):\n",
    "    def mileage(self):\n",
    "        print(\"The mileage is 30kmph\")\n",
    "class SUZUKI(Car):\n",
    "    def mileage(self):\n",
    "        print(\"The mileage is 25kmph\")\n",
    "class DUSTER(Car):\n",
    "    def mileage(self):\n",
    "        print(\"The mileage is 24kmph\")\n",
    "class RENAULT(Car):\n",
    "    def mileage(self):\n",
    "        print(\"The mileage is 27kmph\")\n",
    "\n",
    "t = TATA()\n",
    "t.mileage\n",
    "\n",
    "s=SUZUKI()\n",
    "s.mileage()\n",
    "\n",
    "d=DUSTER()\n",
    "d.mileage()\n",
    "\n",
    "r = RENAULT()\n",
    "r.mileage()\n",
    "\n",
    "\n"
   ]
  },
  {
   "cell_type": "markdown",
   "metadata": {},
   "source": [
    "Q3. Explain why the __init__() function is used. Give a suitable example.\n",
    "\n",
    "        The '__init__' method, also known as the constructor method, is used to initialize an object's \n",
    "        attributes when the object is first created. This method is called automatically when a new instance \n",
    "        of an object is created from the class. for example:"
   ]
  },
  {
   "cell_type": "code",
   "execution_count": 1,
   "metadata": {},
   "outputs": [
    {
     "name": "stdout",
     "output_type": "stream",
     "text": [
      "Name:  ASHUTOSH MAURYA\n",
      "Age:  21\n",
      "Roll_No:  1904012\n"
     ]
    }
   ],
   "source": [
    "class student:\n",
    "    def __init__(self,name, age , Roll_No):\n",
    "        self.name = name\n",
    "        self.age = age\n",
    "        self.Roll_No = Roll_No\n",
    "\n",
    "student = student(\"ASHUTOSH MAURYA\", 21, 1904012)\n",
    "print(\"Name: \", student.name)\n",
    "print(\"Age: \", student.age)\n",
    "print(\"Roll_No: \", student.Roll_No)"
   ]
  },
  {
   "cell_type": "markdown",
   "metadata": {},
   "source": [
    "Q4. Why self is used in OOPs?\n",
    "        \n",
    "        The 'self parameter is used in object-oriented programming in python to refer to the instance of the object that is calling the method. When you create an instance of a class and call one of its methods,'self' is automatically passed to the method as a reference to the instance so that the method can access the atributes and other methods of the instance. For example:-\n"
   ]
  },
  {
   "cell_type": "code",
   "execution_count": 6,
   "metadata": {},
   "outputs": [
    {
     "name": "stdout",
     "output_type": "stream",
     "text": [
      "Hello, my name is  ASHUTOSH MAURYA and age 21 Roll_No 1904012\n"
     ]
    }
   ],
   "source": [
    "class Student:\n",
    "    def __init__(self, name, age, roll_no):\n",
    "        self.name = name\n",
    "        self.age = age\n",
    "        self.roll_no = roll_no\n",
    "    \n",
    "    def say_hello(self):\n",
    "        print(\"Hello, my name is \", self.name,\"and age\",self.age, \"Roll_No\",self.roll_no)\n",
    "student = Student(\"ASHUTOSH MAURYA\",21,1904012)\n",
    "student.say_hello() "
   ]
  },
  {
   "cell_type": "markdown",
   "metadata": {},
   "source": [
    "Q5. What is inheritance? Give an example for each type of inheritance.\n",
    "\n",
    "        There are three types of Inheritence in python:\n",
    "        1.) Single Inheritence: A subclass inherits from a single superclass. Ex.:\n",
    "        2.) Multiple Inheritence: A subclass inherits from multiple inheritence. Ex.:\n",
    "        3.) Multi-level Inheritence: A subclass inherits from a superclass, which in turn inherits from another superclass. Ex.: "
   ]
  },
  {
   "cell_type": "code",
   "execution_count": 7,
   "metadata": {},
   "outputs": [
    {
     "name": "stdout",
     "output_type": "stream",
     "text": [
      "WOOF\n"
     ]
    }
   ],
   "source": [
    "#Single Inheritence ex:\n",
    "class Animal:\n",
    "    def __init__(self,name):\n",
    "        self.name=name\n",
    "\n",
    "    def make_sound(self):\n",
    "        pass\n",
    "\n",
    "class Dog(Animal):\n",
    "    def make_sound(self):\n",
    "        print(\"WOOF\")\n",
    "\n",
    "dog = Dog(\"Rufs\")\n",
    "dog.make_sound()"
   ]
  },
  {
   "cell_type": "code",
   "execution_count": 8,
   "metadata": {},
   "outputs": [
    {
     "name": "stdout",
     "output_type": "stream",
     "text": [
      "Name: ASHUTOSH\n",
      "Job: ML ENGINEER\n"
     ]
    }
   ],
   "source": [
    "#Multiple Inheritence ex:\n",
    "class Mother:\n",
    "    def __init__(self, name):\n",
    "        self.name = name\n",
    "\n",
    "class Father:\n",
    "    def __init__(self, job):\n",
    "        self.job = job\n",
    "\n",
    "class Child(Mother, Father):\n",
    "    def __init__(self, name,job):\n",
    "        Mother.__init__(self,name)\n",
    "        Father.__init__(self, job)\n",
    "\n",
    "Child= Child(\"ASHUTOSH\",\"ML ENGINEER\")\n",
    "print(\"Name:\",Child.name)\n",
    "print(\"Job:\",Child.job)\n"
   ]
  },
  {
   "cell_type": "code",
   "execution_count": 9,
   "metadata": {},
   "outputs": [
    {
     "name": "stdout",
     "output_type": "stream",
     "text": [
      "Name: ASHUTOSH\n",
      "Age: 21\n",
      "Job: ML ENGINEER\n"
     ]
    }
   ],
   "source": [
    "#Multi-level Inheritence ex:\n",
    "class Grandparent:\n",
    "    def __init__(self, name):\n",
    "        self.name = name\n",
    "\n",
    "class Parents(Grandparent):\n",
    "    def __init__(self, name,age):\n",
    "        Grandparent.__init__(self, name)\n",
    "        self.age = age\n",
    "\n",
    "class Child(Parents):\n",
    "    def __init__(self, name,age,job):\n",
    "        Parents.__init__(self,name,age)\n",
    "        self.job = job\n",
    "Child= Child(\"ASHUTOSH\",21,\"ML ENGINEER\")\n",
    "print(\"Name:\",Child.name)\n",
    "print(\"Age:\",Child.age)\n",
    "print(\"Job:\",Child.job)\n"
   ]
  },
  {
   "cell_type": "code",
   "execution_count": null,
   "metadata": {},
   "outputs": [],
   "source": []
  },
  {
   "cell_type": "code",
   "execution_count": null,
   "metadata": {},
   "outputs": [],
   "source": []
  }
 ],
 "metadata": {
  "kernelspec": {
   "display_name": "Python 3.9.10 64-bit",
   "language": "python",
   "name": "python3"
  },
  "language_info": {
   "codemirror_mode": {
    "name": "ipython",
    "version": 3
   },
   "file_extension": ".py",
   "mimetype": "text/x-python",
   "name": "python",
   "nbconvert_exporter": "python",
   "pygments_lexer": "ipython3",
   "version": "3.9.10"
  },
  "orig_nbformat": 4,
  "vscode": {
   "interpreter": {
    "hash": "68360625e4cc29d002a61fb939545e264dabbb2ea2c79c9e867abe8e0afd20fa"
   }
  }
 },
 "nbformat": 4,
 "nbformat_minor": 2
}
