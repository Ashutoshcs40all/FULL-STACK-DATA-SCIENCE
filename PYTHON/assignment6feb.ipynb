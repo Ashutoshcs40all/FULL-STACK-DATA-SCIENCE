{
 "cells": [
  {
   "cell_type": "markdown",
   "metadata": {},
   "source": [
    "Q1. Create a function which will take a list as an argument and return the product of all the numbers\n",
    "after creating a flat list.\n",
    "Use the below-given list as an argument for your function.\n",
    "list1 = [1,2,3,4, [44,55,66, True], False, (34,56,78,89,34), {1,2,3,3,2,1}, {1:34, \"key2\": [55, 67, 78, 89], 4: (45,\n",
    "22, 61, 34)}, [56, 'data science'], 'Machine Learning']\n",
    "Note: you must extract numeric keys and values of the dictionary also.\n"
   ]
  },
  {
   "cell_type": "code",
   "execution_count": 1,
   "metadata": {},
   "outputs": [
    {
     "name": "stdout",
     "output_type": "stream",
     "text": [
      "[1, 2, 3, 4, 44, 55, 66, 34, 56, 78, 89, 34, 1, 2, 3, 1, 4, 34, 55, 67, 78, 89, 45, 22, 61, 34, 56]\n"
     ]
    },
    {
     "data": {
      "text/plain": [
       "4134711838987085478833841242112000"
      ]
     },
     "execution_count": 1,
     "metadata": {},
     "output_type": "execute_result"
    }
   ],
   "source": [
    "list1 = [1,2,3,4, [44,55,66, True], False, (34,56,78,89,34), {1,2,3,3,2,1}, {1:34, \"key2\": [55, 67, 78, 89], 4: (45, 22, 61, 34)}, [56, 'data science'], 'Machine Learning']\n",
    "\n",
    "def flat1(x):\n",
    "    l=[]\n",
    "    for i in x :\n",
    "        # print(i)\n",
    "        if type(i)==int:\n",
    "            l.append(i)\n",
    "        # Insde list | Tuple | set  \n",
    "        elif type(i)==list or type(i)==tuple or type(i)==set:\n",
    "            for j in i :\n",
    "                if type(j)==int:\n",
    "                    # print(j,end=\" | \")\n",
    "                    l.append(j)\n",
    "        # Insert Dict\n",
    "        elif type(i)==dict:\n",
    "            # For Key\n",
    "            for j in i.keys():\n",
    "                if type(j)==int:\n",
    "                    l.append(j)\n",
    "            # For Value\n",
    "            for j in i.values():\n",
    "                if type(j)==list or type(j)==tuple:\n",
    "                    for k in j:\n",
    "                        l.append(k)\n",
    "                elif type(j)==int:\n",
    "                    l.append(j)\n",
    "    else :\n",
    "        return l\n",
    "\n",
    "print(flat1(list1))\n",
    "\n",
    "def Product(lst):\n",
    "    product = 1\n",
    "    for i in flat1(list1):\n",
    "        # print(product)\n",
    "        product *= i\n",
    "    return product\n",
    "\n",
    "Product(list1)"
   ]
  },
  {
   "cell_type": "markdown",
   "metadata": {},
   "source": [
    "Q2. Write a python program for encrypting a message sent to you by your friend. The logic of encryption\n",
    "should be such that, for a the output should be z. For b, the output should be y. For c, the output should\n",
    "be x respectively. Also, the whitespace should be replaced with a dollar sign. Keep the punctuation\n",
    "marks unchanged.\n",
    "\n",
    "\n",
    "Input Sentence: I want to become a Data Scientist.\n",
    "\n",
    "\n",
    "Encrypt the above input sentence using the program you just created.\n",
    "\n",
    "\n",
    "Note: Convert the given input sentence into lowercase before encrypting. The final output should be\n",
    "lowercase."
   ]
  },
  {
   "cell_type": "code",
   "execution_count": 4,
   "metadata": {},
   "outputs": [
    {
     "name": "stdout",
     "output_type": "stream",
     "text": [
      "r$dzmg$gl$yvxlnv$z$wzgz$hxrvmgrhg\n"
     ]
    }
   ],
   "source": [
    "A=list(' '.join('abcdefghijklmnofqrstuvwxyz').split())\n",
    "string=str(input(\"Enter encrypting message:- \").lower())\n",
    "Z=list(A[::-1])\n",
    "# print(alpha,\"\\n\",revs)\n",
    "l=[]\n",
    "for i in string:\n",
    "    if i==\" \":\n",
    "        # string.replace(\" \",\"$\")\n",
    "        l.append(\"$\")\n",
    "        continue\n",
    "    a=A.index(i)\n",
    "    b=Z[a]\n",
    "    l.append(b)\n",
    "    # print(i,a,b)\n",
    "else:\n",
    "    print(\"\".join(map(str,l)))"
   ]
  },
  {
   "cell_type": "code",
   "execution_count": null,
   "metadata": {},
   "outputs": [],
   "source": []
  }
 ],
 "metadata": {
  "kernelspec": {
   "display_name": "Python 3.9.10 64-bit",
   "language": "python",
   "name": "python3"
  },
  "language_info": {
   "codemirror_mode": {
    "name": "ipython",
    "version": 3
   },
   "file_extension": ".py",
   "mimetype": "text/x-python",
   "name": "python",
   "nbconvert_exporter": "python",
   "pygments_lexer": "ipython3",
   "version": "3.9.10"
  },
  "orig_nbformat": 4,
  "vscode": {
   "interpreter": {
    "hash": "68360625e4cc29d002a61fb939545e264dabbb2ea2c79c9e867abe8e0afd20fa"
   }
  }
 },
 "nbformat": 4,
 "nbformat_minor": 2
}
