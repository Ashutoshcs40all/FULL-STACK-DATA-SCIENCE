{
 "cells": [
  {
   "attachments": {},
   "cell_type": "markdown",
   "metadata": {},
   "source": [
    "1). What is multithreading in python? Why is it used? Name the module used to handle threads in pythoN.\n",
    "\n",
    "        Multithreading is a threading technique in Python programming to run multiple threads concurrently by rapidly switching between threads with a CPU help (called context switching). Besides, it allows sharing of its data space with the main threads inside a process that share information and communication with other threads easier than individual processes. Multithreading aims to perform multiple tasks simultaneously, which increases performance, speed and improves the rendering of the application.\n",
    "\n",
    "        It is a very useful technique for time-saving and improving the performance of an application. Multithreading allows the programmer to divide application tasks into sub-tasks and simultaneously run them in a program. It allows threads to communicate and share resources such as files, data, and memory to the same processor. Furthermore, it increases the user's responsiveness to continue running a program even if a part of the application is the length or blocked.\n",
    "\n",
    "        There are two main modules of multithreading used to handle threads in Python.\n",
    "        THREAD MODULE:\n",
    "        It is started with Python 3, designated as obsolete, and can only be accessed with _thread that supports backward compatibility.\n",
    "        thread.start_new_thread ( function_name, args[, kwargs] ) \n",
    "\n",
    "        THREADING MODULE:\n",
    "        The threading module is a high-level implementation of multithreading used to deploy an application in Python. To use multithreading, we need to import the threading module in Python Program.\n",
    "        "
   ]
  },
  {
   "attachments": {},
   "cell_type": "markdown",
   "metadata": {},
   "source": [
    "2). Why threading module used? Write the use of the following functions:\n",
    "A. activeCount()\n",
    "B. currentThread()\n",
    "C. enumerate()\n",
    "\n",
    "        This module provides the following functions for managing threads:\n",
    "        A. active_count() Function:\n",
    "            This function returns the number of Thread objects currently alive.\n",
    "\n",
    "        B. currentThread():\n",
    "            This function will return the current Thread object, corresponding to the caller's thread of control(which \n",
    "            is in the control of caller currently). If the caller's thread of control was not created through the \n",
    "            threading module(for example the main thread), then a dummy thread object with limited functionality is \n",
    "            returned.\n",
    "\n",
    "        C. enumerate()\n",
    "            This method returns a list of all Thread objects currently alive. The list includes daemonic threads(when \n",
    "            the program quits, all the daemon threads associated with it are killed automatically), dummy thread \n",
    "            objects created by the current thread, and the main thread.\n",
    "\n",
    "            Terminated threads and threads that have not yet been started are not present in this list."
   ]
  },
  {
   "attachments": {},
   "cell_type": "markdown",
   "metadata": {},
   "source": [
    "3. Explain the following functions:\n",
    "1) run()\n",
    "2) start()\n",
    "3) join()\n",
    "4) isAlive()\n",
    "\n",
    "        1. run() : A run() method is used to define a thread's activity and can be overridden by a class that extends the threads class.\n",
    "        \n",
    "        2. Start() : To start a thread in Python multithreading, call the thread class's object. The start() method can be called once for each thread object; otherwise, it throws an exception error.\n",
    "\n",
    "        3. Join() method : It is a join() method used in the thread class to halt the main thread's execution and waits till the complete execution of the thread object. When the thread object is completed, it starts the execution of the main thread in Python.\n",
    "\n",
    "        4. Thread.is_alive() method:  It is a inbuilt method of the Thread class of the threading module in Python. It uses a Thread object, and checks whether that thread is alive or not, ie, it is still running or not. This method returns True before the run() starts until just after the run() method is executed."
   ]
  },
  {
   "attachments": {},
   "cell_type": "markdown",
   "metadata": {},
   "source": [
    "4.  Write a python program to create two threads. Thread one must print the list of squares and thread two must print the list of cubes."
   ]
  },
  {
   "cell_type": "code",
   "execution_count": 4,
   "metadata": {},
   "outputs": [
    {
     "name": "stdout",
     "output_type": "stream",
     "text": [
      " Calculate the square root of the given number\n",
      " Square is :  16\n",
      " Square is :  25\n",
      " Square is :  36\n",
      " Square is :  49\n",
      " Square is :  4\n",
      " Calculate the cube of the given number\n",
      " Cube is :  64\n",
      " Cube is :  125\n",
      " Cube is :  216\n",
      " Cube is :  343\n",
      " Cube is :  8\n",
      " Total time taken by threads is : 3.0695629119873047\n"
     ]
    }
   ],
   "source": [
    "import threading # import the thread module  \n",
    "import time # import time module  \n",
    "  \n",
    "def cal_sqre(num): # define the cal_sqre function  \n",
    "    print(\" Calculate the square root of the given number\")  \n",
    "    for n in num:   \n",
    "        time.sleep(0.3) # at each iteration it waits for 0.3 time  \n",
    "        print(' Square is : ', n * n)  \n",
    "  \n",
    "def cal_cube(num): # define the cal_cube() function  \n",
    "    print(\" Calculate the cube of the given number\")  \n",
    "    for n in num:   \n",
    "        time.sleep(0.3) # at each iteration it waits for 0.3 time  \n",
    "        list[print(\" Cube is : \", n * n *n)  ]\n",
    "  \n",
    "lis = [4, 5, 6, 7, 2] # given array  \n",
    "\n",
    "t1 = time.time() # get total time to execute the functions  \n",
    "cal_sqre(lis) # call cal_sqre() function  \n",
    "cal_cube(lis) # call cal_cube() function  \n",
    "  \n",
    "print(\" Total time taken by threads is :\", time.time() - t1) # print the total time  "
   ]
  },
  {
   "attachments": {},
   "cell_type": "markdown",
   "metadata": {},
   "source": [
    "5. State advantages and disadvantages of multithreading.\n",
    "\n",
    "        Disadvantages of Multithreading:\n",
    "\n",
    "        1. It needs more careful synchronization.\n",
    "        2. It can consume a large space of stocks of blocked threads.\n",
    "        3. It needs support for thread or process.\n",
    "        4. If a parent process has several threads for proper process functioning, the child processes should also be multithreaded because they may be required.\n",
    "        5. It imposes context switching overhead.\n",
    "\n",
    "        Advantages of Multithreading:\n",
    "\n",
    "        1. Responsiveness\n",
    "        2. Resource Sharing\n",
    "        3. Economy\n",
    "        4. Scalability\n",
    "        5. Better Communication\n",
    "        6. Utilization of multiprocessor architecture\n",
    "        7. Minimized system resource usage"
   ]
  },
  {
   "attachments": {},
   "cell_type": "markdown",
   "metadata": {},
   "source": [
    "6. Explain deadlocks and race conditions.\n",
    "\n",
    "        Deadlocks::\n",
    "        When two processes are waiting for each other directly or indirectly, it is called deadlock.\n",
    "        This usually occurs when two processes are waiting for shared resources acquired by others. For example, If thread T1 acquired resource R1 and it also needs resource R2 for it to accomplish its task. But the resource R2 is acquired by thread T2 which is waiting for resource R1(which is acquired by T1).. Neither of them will be able to accomplish its task, as they keep waiting for the other resources they need.\n",
    "\n",
    "        Race conditions::\n",
    "        A race condition is an undesirable situation that occurs when a device or system attempts to perform two or more operations at the same time, but because of the nature of the device or system, the operations must be done in the proper sequence to be done correctly.\n",
    "        Race conditions are considered a common issue for multithreaded applications.EXample:\n",
    "        In computer memory or storage, a race condition may occur if commands to read and write a large amount of data are received at almost the same instant, and the machine attempts to overwrite some or all of the old data while that old data is still being read. The result may be one or more of the following:\n",
    "        1) The computer crashes or identifies an illegal operation of the program\n",
    "        2) Errors reading the old data\n",
    "        3) Errors writing the new data\n",
    "\n",
    "        A race condition can also occur if instructions are processed in the incorrect order."
   ]
  },
  {
   "cell_type": "markdown",
   "metadata": {},
   "source": []
  }
 ],
 "metadata": {
  "kernelspec": {
   "display_name": "Python 3",
   "language": "python",
   "name": "python3"
  },
  "language_info": {
   "codemirror_mode": {
    "name": "ipython",
    "version": 3
   },
   "file_extension": ".py",
   "mimetype": "text/x-python",
   "name": "python",
   "nbconvert_exporter": "python",
   "pygments_lexer": "ipython3",
   "version": "3.9.10"
  },
  "orig_nbformat": 4,
  "vscode": {
   "interpreter": {
    "hash": "68360625e4cc29d002a61fb939545e264dabbb2ea2c79c9e867abe8e0afd20fa"
   }
  }
 },
 "nbformat": 4,
 "nbformat_minor": 2
}
