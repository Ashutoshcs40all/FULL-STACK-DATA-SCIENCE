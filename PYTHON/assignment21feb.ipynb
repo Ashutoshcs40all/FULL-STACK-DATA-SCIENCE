{
 "cells": [
  {
   "attachments": {},
   "cell_type": "markdown",
   "metadata": {},
   "source": [
    "Q1. What is Web Scraping? Why is it Used? Give three areas where Web Scraping is used to get data.\n",
    "\n",
    "        Web scraping is the automated process of extracting data from websites. It involves using software tools to retrieve and parse the HTML or XML code of a web page and extract the relevant data from it.\n",
    "        Web scraping is used for a variety of purposes, including:\n",
    "\n",
    "        Data collection: Web scraping can be used to collect large amounts of data from websites that do not offer an API or other data access methods. This data can then be analyzed and used for research, market analysis, or other purposes.\n",
    "\n",
    "        Business intelligence: Web scraping can be used to collect data on competitors, pricing, product information, and other relevant information for businesses to make informed decisions.\n",
    "\n",
    "        Content aggregation: Web scraping can be used to collect content from multiple sources and aggregate it into a single location, such as a news aggregator or content curation platform.\n",
    "        Some of the areas where web scraping is commonly used to get data are:\n",
    "\n",
    "        E-commerce: Web scraping can be used to collect product data, pricing information, reviews, and other relevant data from e-commerce websites.\n",
    "\n",
    "        Social media monitoring: Web scraping can be used to monitor social media platforms for mentions of a brand, product, or topic, and collect data on sentiment, engagement, and other metrics.\n",
    "\n",
    "        Research: Web scraping can be used to collect data for academic research, including data on news articles, scholarly articles, and social media activity.\n",
    "\n",
    "\n",
    "\n",
    "\n",
    "\n"
   ]
  },
  {
   "attachments": {},
   "cell_type": "markdown",
   "metadata": {},
   "source": [
    "Q2. What are the different methods used for Web Scraping?\n",
    "\n",
    "        There are several methods used for web scraping, including:\n",
    "\n",
    "        Parsing HTML: This involves using a programming language such as Python or JavaScript to parse the HTML code of a website and extract the desired data.\n",
    "\n",
    "        Web scraping tools and frameworks: There are many web scraping tools and frameworks available, such as BeautifulSoup, Scrapy, and Puppeteer, which make it easier to scrape websites by providing pre-built functions and libraries.\n",
    "\n",
    "        API access: Some websites offer APIs that allow developers to access data in a structured format. This is often the preferred method of data extraction, as it is more efficient and less likely to cause issues with the website.\n",
    "\n",
    "        Headless browsing: This involves using a headless browser such as PhantomJS or Headless Chrome to automate the process of browsing a website and extracting data.\n",
    "\n",
    "        DOM parsing: This involves using the Document Object Model (DOM) to navigate and extract data from a website. This method is often used in conjunction with JavaScript to dynamically load and extract data from websites."
   ]
  },
  {
   "attachments": {},
   "cell_type": "markdown",
   "metadata": {},
   "source": [
    "Q3. What is Beautiful Soup? Why is it used?\n",
    "\n",
    "        Beautiful Soup is a Python library that is used for web scraping purposes. It is designed to make it easy to parse HTML and XML documents and extract the relevant data from them.\n",
    "        Beautiful Soup provides a set of functions and tools that make it easy to navigate and search the HTML or XML tree structure of a web page. It can handle messy, imperfect HTML, and can even parse broken HTML code. This makes it a very popular choice for web scraping tasks.\n",
    "        Some of the features of Beautiful Soup include:\n",
    "        Parsing: Beautiful Soup can parse HTML and XML documents and extract the relevant data.\n",
    "\n",
    "        Navigation: It provides tools for navigating the tree structure of a web page and finding specific elements based on their tag name, class name, or other attributes.\n",
    "\n",
    "        Modification: It can be used to modify the HTML or XML code of a web page, adding or removing elements as needed.\n",
    "\n",
    "        Integration: It can be easily integrated with other Python libraries and tools, such as requests and pandas, to automate web scraping tasks and extract data for analysis."
   ]
  },
  {
   "attachments": {},
   "cell_type": "markdown",
   "metadata": {},
   "source": [
    "Q4. Why is flask used in this Web Scraping project?\n",
    "\n",
    "        Flask is a lightweight web application framework that is commonly used in Python web scraping projects. Flask is a popular choice for web scraping because it allows developers to easily build web applications and APIs that can be used to collect and analyze data from web pages.\n",
    "        In a web scraping project, Flask can be used to create a web application that allows users to input search queries or select parameters for a scraping task. The Flask application can then run the scraping script in the background and return the results to the user in a structured format, such as a JSON or CSV file.\n",
    "        Flask also provides several other features that make it well-suited for web scraping tasks, including:\n",
    "\n",
    "        Routing: Flask allows developers to define routes and endpoints for their web application, making it easy to handle different types of requests.\n",
    "\n",
    "        Templates: Flask includes a templating engine that allows developers to create dynamic web pages based on user input or other data.\n",
    "\n",
    "        Libraries: Flask is compatible with a wide range of Python libraries and modules, including those commonly used in web scraping, such as Beautiful Soup, Requests, and Pandas."
   ]
  },
  {
   "attachments": {},
   "cell_type": "markdown",
   "metadata": {},
   "source": [
    "Q5. Write the names of AWS services used in this project. Also, explain the use of each services."
   ]
  },
  {
   "attachments": {},
   "cell_type": "markdown",
   "metadata": {},
   "source": [
    "        Amazon Elastic Beanstalk is a web infrastructure management service. It handles deployment and scaling for web applications and services.\n",
    "\n",
    "Elastic Beanstalk can automatically manage setup, configuration, scaling and provisioning for other AWS services.\n",
    "\n",
    "AWS services that can be automatically manage include Amazon EC2 (Elastic Compute Cloud), Amazon S3 (Simple Storage Service), AWS RDS (Relational Database Service), Amazon DynamoDB, and Amazon SimpleDB.\n",
    "\n",
    "        AWS Elastic Beanstalk Features:\n",
    "\n",
    "Application: Elastic Beanstalk directly takes in out project code. So Elastic Beanstalk application is named the same as your project home directory.\n",
    "\n",
    "Application Environments: Users may want their application to run on different environments like DEV, UAT and PROD. You can create and configure different environments to run application on different stages.\n",
    "\n",
    "Environment Health:  One of the most lucrative features about running application on AWS or most of the other cloud platforms is the automated health checks. AWS runs automatic health checks on all EC-2 deployments (Elastic Beanstalk is a managed EC-2 service) which can be monitored from AWS console. For example, in case of web applications AWS will regularly, as scheduled by the developers, ping the application to check if the response is status code 200 and the application is running as expected.\n",
    "\n",
    "Isolated: All environments within a single application are isolated from each other (independent of each others’ running states). Needless to say two different applications are also isolated.\n",
    "\n",
    "Scalability: Using Auto-Scaling within Elastic beanstalk makes the application dynamically scalable.\n",
    "Elastic Load Balancing: All the web requests to the application are not directly relayed to application instances. They first hit the Elastic Load Balancer (ELB), which, as the name suggests, balances the load across all the application instances.\n",
    "\n",
    "Language support: Elastic Beanstalk supports the applications developed with Java, .NET, PHP, Node.js, Python, Ruby, Go, and Docker on familiar servers such as Apache, Nginx, Passenger, and IIS.\n",
    "\n",
    "Pricing: There is no extra charge for using Elastic Beanstalk. Users ar only required to pay for the services and resources provisioned by Elastic Beanstalk Service.\n",
    "\n",
    "Automatic Provisioning: Elastic Beanstalk takes away the burden of choosing the right services and configuring their security groups to work together. \n",
    "\n",
    "Impossible to Outgrow: AWS claims that since Elastic Beanstalk uses Auto Scaling feature it can, in theory, handle any amount of internet traffic."
   ]
  },
  {
   "attachments": {},
   "cell_type": "markdown",
   "metadata": {},
   "source": [
    "        AWS CodePipeline is an Amazon Web Services product that automates the software deployment process, allowing a developer to quickly model, visualize and deliver code for new features and updates. This method is called continuous delivery.\n",
    "\n",
    "AWS CodePipeline automatically builds, tests and launches an application each time the code is changed; a developer uses a graphic user interface to model workflow configurations for the release process within the pipeline. A development team can specify and run actions or a group of actions, which is called a stage. For example, a developer would specify which tests CodePipeline will run and to which pre-production environments it should deploy. The service can then run these actions through the parallel execution process, in which multiple processors handle computing tasks simultaneously to accelerate workflows.\n",
    "\n",
    "AWS CodePipeline integrates with several Amazon services. It pulls source code from Amazon Simple Storage Service and deploys to both AWS CodeDeploy and AWS Elastic Beanstalk. A developer can also integrate AWS Lambda functions or third-party DevOps tools, such as GitHub or Jenkins. AWS CodePipeline also supports custom systems and actions through the AWS command line interface. These custom actions include build, deploy, test and invoke, which facilitate unique release processes. The developer must create a job worker to poll CodePipeline for job requests, then run the action and return a status result.\n",
    "\n",
    "An administrator grants permissions to AWS CodePipeline through AWS Identity and Access Management (IAM). IAM roles control which end users can make changes to the application release workflow."
   ]
  },
  {
   "cell_type": "code",
   "execution_count": null,
   "metadata": {},
   "outputs": [],
   "source": []
  }
 ],
 "metadata": {
  "kernelspec": {
   "display_name": "Python 3",
   "language": "python",
   "name": "python3"
  },
  "language_info": {
   "name": "python",
   "version": "3.9.10"
  },
  "orig_nbformat": 4,
  "vscode": {
   "interpreter": {
    "hash": "68360625e4cc29d002a61fb939545e264dabbb2ea2c79c9e867abe8e0afd20fa"
   }
  }
 },
 "nbformat": 4,
 "nbformat_minor": 2
}
