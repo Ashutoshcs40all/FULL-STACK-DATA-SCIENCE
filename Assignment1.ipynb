{
 "cells": [
  {
   "cell_type": "markdown",
   "metadata": {},
   "source": [
    "1)\tWho developed Python Programming Language?\n",
    "\n",
    "    \t        Python programming language developed by GUIDO VAN ROSSUM in February 20,1991."
   ]
  },
  {
   "cell_type": "markdown",
   "metadata": {},
   "source": [
    "\n",
    "2)\tWhich type of Programming does python support?\n",
    "\n",
    "                Python support multiple programming pattern, including Object Oriented, \n",
    "        imperative, and functional or procedural programming style."
   ]
  },
  {
   "cell_type": "markdown",
   "metadata": {},
   "source": [
    "3)\tIs python case sensitive when dealing with identifiers?\n",
    "\n",
    "                Yes, Python is case-sensitive language, i.e., it treats uppercase and lowercase\n",
    "        character differently. This applies to identifiers too. We must avoid using the \n",
    "        same name with different cases while naming identifiers.\n"
   ]
  },
  {
   "cell_type": "markdown",
   "metadata": {},
   "source": [
    "4)\tWhat is the correct extension of python file?\n",
    "\n",
    "    \t        Python correct extension is- .py"
   ]
  },
  {
   "cell_type": "markdown",
   "metadata": {},
   "source": [
    "5) \tIs python code compiled or interpreted?\n",
    "\n",
    "                Python code is interpreted language, which mens the source code of a python program\n",
    "        is converted into bytecode that is then executed by the python virtual machine. Python \n",
    "        is different from major compiled language, such as C and C++, as python code is not required\n",
    "        to be built and linked like code for these language."
   ]
  },
  {
   "cell_type": "markdown",
   "metadata": {},
   "source": [
    "6)\tName a few blocks of code used to define in python language?\n",
    "\n",
    "                Def func():\n",
    "\t                statement 1\n",
    "\t                statement 2\n",
    "\t                …………………\n",
    "\t                …………………….\n",
    "\t                statement N"
   ]
  },
  {
   "cell_type": "markdown",
   "metadata": {},
   "source": [
    "\n",
    "7)\tState a character used to give single line-comments in python?\n",
    "\n",
    "                Hash character(#) is used to comment the line in the python program. Comments does not have \n",
    "        to be text to explain the code, it can also be used to prevent Python from executing code."
   ]
  },
  {
   "cell_type": "markdown",
   "metadata": {},
   "source": [
    "\n",
    "8)\tMention function which can help us to find the version of python that we are currently working on?\n",
    "\n",
    "            The function sys.version can help us to find the version of python that we are currently working on Python3.11.1"
   ]
  },
  {
   "cell_type": "markdown",
   "metadata": {},
   "source": [
    "9)\tPython supports the creation of anonymous function at runtime, using a construct called…………………….\n",
    "\n",
    "                Python supports to make anonymous functions which are not bound to a name(@runtime).\n",
    "        It uses a construct called \"lambda\"."
   ]
  },
  {
   "cell_type": "markdown",
   "metadata": {},
   "source": [
    "10)\tWhat does pip stand for python?\n",
    "\n",
    "                PIP stands for Preferred Installer program, helps you to install libraries and dependencies, \n",
    "        that doesn't come with the standard package of Python. So, PIP is essentially a package \n",
    "        manager for python."
   ]
  },
  {
   "cell_type": "markdown",
   "metadata": {},
   "source": [
    "11)\tMention a few built-in functions in python?\n",
    "\n",
    "                all(): Returns True if all items in an iterable object are true.\n",
    "                bool(): Returns the boolean value of the specified object.\n",
    "                complex(): Returns a complex number.\n",
    "                input(): Allowing user input.\n",
    "                dict(): Returns a dictionary(Array).\n",
    "                len(): Returns the length of an object.\n",
    "                list(): Returns a list.\n",
    "                range(): Returns a sequence of numbers, starting from 0 and increments by 1(by Default).\n",
    "                tuple(): Returns a Tuple.\n",
    "                type(): Return the type of an object."
   ]
  },
  {
   "cell_type": "markdown",
   "metadata": {},
   "source": [
    "12)\tWhat is the maximum possible length of an identifier in python?\n",
    "\n",
    "                An identifier can have a maximum possible length of 79 character in python."
   ]
  },
  {
   "cell_type": "markdown",
   "metadata": {},
   "source": [
    "13)\tWhat are the benefits of using python?\n",
    "\n",
    "                There are a plethora of benefits to developing software in the python programming\n",
    "        language. Some major benefits below-\n",
    "                1) Python is Extensible\n",
    "                2) Python libraries\n",
    "                3) Python Community\n",
    "                4) Python Is Easy To Learn"
   ]
  },
  {
   "cell_type": "markdown",
   "metadata": {},
   "source": [
    "14)\tHow is memory managed in python?\n",
    "\n",
    "                According to the Python memory management documention, Python has a private heap that stores\n",
    "        our program's objects and data structures. Python memory manager take care of the bulk of the memory \n",
    "        management work and allows us to concentrate on our code.\n",
    "        There are two types of memeory allocation in Python, static and Dynamic."
   ]
  },
  {
   "cell_type": "markdown",
   "metadata": {},
   "source": [
    "\n",
    "15)\tHow to install python on windows and set path variables?\n",
    "\n",
    "                To write and executed code in python,we first need to install Python on our system.\n",
    "        Installeing Python on windows takes a series of few steps.\n",
    "        STEP-1:::: Select Version Of python to install.\n",
    "        STEP-2:::: Download Python Executable Installer.\n",
    "        STEP-3:::: Run Executable Installer.\n",
    "        STEP-4:::: Verify Python is installed on windows.\n",
    "        STEP-5:::: Verify PIP was installed. \n",
    "        \n",
    "                The PATH variable is a list of directories where each directory contains the Executable \n",
    "                file for a command.\n",
    "        The complete path of python.exe can be added by:\n",
    "        STEP-1:::: Right-clicking This PC and going to prperties.\n",
    "        STEP-2:::: Clicking on the Advanced system settings in the menu on the left.\n",
    "        STEP-3:::: Clicking on the Environment Variables button on the bottom right.\n",
    "        STEP-4:::: In the system variables section, selecting the path variable and clicking on Edit.\n",
    "        The next screen will show all the directories that are currently part of the PATH variable.\n",
    "        STEP-5:::: Clicking on New and enetring Python's install directory.       \n"
   ]
  },
  {
   "cell_type": "markdown",
   "metadata": {},
   "source": [
    "16)\tIs indentation required in python?\n",
    "\n",
    "                Yes, indentation is required in python. indentationis the leading whitespace\n",
    "                (spaces or/and tabs) before any statement in Python. The reason why indentation is \n",
    "                important in python is that the indentation serves another purpose other than code \n",
    "                readbility. Python treats the statement with the same indentation level(statement \n",
    "                with an equal number of whitespace before them)as a single code blocks."
   ]
  },
  {
   "cell_type": "code",
   "execution_count": null,
   "metadata": {},
   "outputs": [],
   "source": []
  }
 ],
 "metadata": {
  "kernelspec": {
   "display_name": "Python 3.9.10 64-bit",
   "language": "python",
   "name": "python3"
  },
  "language_info": {
   "name": "python",
   "version": "3.9.10"
  },
  "orig_nbformat": 4,
  "vscode": {
   "interpreter": {
    "hash": "68360625e4cc29d002a61fb939545e264dabbb2ea2c79c9e867abe8e0afd20fa"
   }
  }
 },
 "nbformat": 4,
 "nbformat_minor": 2
}
